{
 "metadata": {
  "language_info": {
   "codemirror_mode": {
    "name": "ipython",
    "version": 3
   },
   "file_extension": ".py",
   "mimetype": "text/x-python",
   "name": "python",
   "nbconvert_exporter": "python",
   "pygments_lexer": "ipython3",
   "version": "3.7.9-final"
  },
  "orig_nbformat": 2,
  "kernelspec": {
   "name": "python3",
   "display_name": "Python 3"
  }
 },
 "nbformat": 4,
 "nbformat_minor": 2,
 "cells": [
  {
   "source": [
    "# Process USURDB Data\n",
    "- Goal: Take downloaded csv of data from the U.S. Utility Rate Database and convert it into a tabular format of month-hour prices\n",
    "\n",
    "## Input Data\n",
    "- The rate name is a string that describes the rate and its code\n",
    "- The energy rate is broken into:\n",
    "     - 12 periods, each of which has up to:\n",
    "        - 4 tiers, each of which has several components:\n",
    "            - rate: the electric rate\n",
    "            - adjustments: fees, riders, and fuel adjustments\n",
    "            - sell: rate at which electricity is sold back to the utility\n",
    "            - max: the maximum kWh at which the tier applies\n",
    "\n",
    "## Transformation Steps\n",
    "- [x] Use regex to extract the rate code from the rate name and put in a separate Columns\n",
    "- [x] Create an id table for each rate that identifies some of the characteristics of each rate:\n",
    "    - [x] Full rate description\n",
    "    - [x] Add columns with binary variables identifying whether a rate is a TOU\n",
    "    - [x] Update the \"sector\" column to include Ag and Pump categories\n",
    "- [ ] Create a rectangular dataframe of month-hour rates\n",
    "    - [x] First fill in with the period number\n",
    "    - [x] Then replace with the total cost for that period\n",
    "        - [x] Need to calculate total cost by adding rate + adj \n",
    "    - [ ] Create this table for demand charges as well\n",
    "\n",
    "        \n",
    "## To figure out\n",
    "- [ ] Decide how to handle tiers\n",
    "- [ ] We might want to remove rates for primary/transmission voltage\n",
    "\n",
    "## Output Data\n",
    "- Table of rate info\n",
    "- Table of month-hour energy rates\n",
    "- Table of month-hour demand charges\n",
    "- Aggregations of rates\n",
    "\n"
   ],
   "cell_type": "markdown",
   "metadata": {}
  },
  {
   "cell_type": "code",
   "execution_count": 265,
   "metadata": {},
   "outputs": [
    {
     "output_type": "execute_result",
     "data": {
      "text/plain": [
       "                          eiaid  \\\n",
       "label                             \n",
       "539f6a0bec4f024411ec8b47  17609   \n",
       "5553987d5457a3c2378b4568  14328   \n",
       "\n",
       "                                                                       name  \\\n",
       "label                                                                         \n",
       "539f6a0bec4f024411ec8b47  Time-of-use - General Service - Demand Metered...   \n",
       "5553987d5457a3c2378b4568  E-20 Maximum demand of (1000 KW or more) (Seco...   \n",
       "\n",
       "                         is_default startdate     enddate  \\\n",
       "label                                                       \n",
       "539f6a0bec4f024411ec8b47        NaN  1/1/2014  12/31/2015   \n",
       "5553987d5457a3c2378b4568        NaN  3/1/2015   3/23/2016   \n",
       "\n",
       "                                                utility      sector  \\\n",
       "label                                                                 \n",
       "539f6a0bec4f024411ec8b47  Southern California Edison Co  Commercial   \n",
       "5553987d5457a3c2378b4568      Pacific Gas & Electric Co  Commercial   \n",
       "\n",
       "                                                                description  \\\n",
       "label                                                                         \n",
       "539f6a0bec4f024411ec8b47                                             #NAME?   \n",
       "5553987d5457a3c2378b4568  An optional meter data access charge is applic...   \n",
       "\n",
       "                                                                     source  \\\n",
       "label                                                                         \n",
       "539f6a0bec4f024411ec8b47        http://www.sce.com/NR/sc3/tm2/pdf/CE281.pdf   \n",
       "5553987d5457a3c2378b4568  http://www.pge.com/nots/rates/tariffs/rateinfo...   \n",
       "\n",
       "                                                  sourceparent  ...  \\\n",
       "label                                                           ...   \n",
       "539f6a0bec4f024411ec8b47                                   NaN  ...   \n",
       "5553987d5457a3c2378b4568  http://www.pge.com/tariffs/ERS.SHTML  ...   \n",
       "\n",
       "                          energyratestructure/period14/tier0rate  \\\n",
       "label                                                              \n",
       "539f6a0bec4f024411ec8b47                                     NaN   \n",
       "5553987d5457a3c2378b4568                                     NaN   \n",
       "\n",
       "                          energyratestructure/period14/tier0adj  \\\n",
       "label                                                             \n",
       "539f6a0bec4f024411ec8b47                                    NaN   \n",
       "5553987d5457a3c2378b4568                                    NaN   \n",
       "\n",
       "                                                      energyweekdayschedule  \\\n",
       "label                                                                         \n",
       "539f6a0bec4f024411ec8b47  [[0L, 0L, 0L, 0L, 0L, 0L, 0L, 0L, 1L, 1L, 1L, ...   \n",
       "5553987d5457a3c2378b4568  [[0L, 0L, 0L, 0L, 0L, 0L, 0L, 0L, 1L, 1L, 1L, ...   \n",
       "\n",
       "                                                      energyweekendschedule  \\\n",
       "label                                                                         \n",
       "539f6a0bec4f024411ec8b47  [[0L, 0L, 0L, 0L, 0L, 0L, 0L, 0L, 0L, 0L, 0L, ...   \n",
       "5553987d5457a3c2378b4568  [[0L, 0L, 0L, 0L, 0L, 0L, 0L, 0L, 0L, 0L, 0L, ...   \n",
       "\n",
       "                          energyattrs  \\\n",
       "label                                   \n",
       "539f6a0bec4f024411ec8b47          NaN   \n",
       "5553987d5457a3c2378b4568          NaN   \n",
       "\n",
       "                                                             energycomments  \\\n",
       "label                                                                         \n",
       "539f6a0bec4f024411ec8b47                                                NaN   \n",
       "5553987d5457a3c2378b4568  Period 1: Off Peak Winter, Period 2: Part Peak...   \n",
       "\n",
       "                                        supersedes coincidentrateunit  \\\n",
       "label                                                                   \n",
       "539f6a0bec4f024411ec8b47                       NaN                NaN   \n",
       "5553987d5457a3c2378b4568  5400ad765257a3fb3199cb99                NaN   \n",
       "\n",
       "                          coincidentratestructure/period0/tier0rate  \\\n",
       "label                                                                 \n",
       "539f6a0bec4f024411ec8b47                                        NaN   \n",
       "5553987d5457a3c2378b4568                                        NaN   \n",
       "\n",
       "                          coincidentschedule  \n",
       "label                                         \n",
       "539f6a0bec4f024411ec8b47                 NaN  \n",
       "5553987d5457a3c2378b4568                 NaN  \n",
       "\n",
       "[2 rows x 114 columns]"
      ],
      "text/html": "<div>\n<style scoped>\n    .dataframe tbody tr th:only-of-type {\n        vertical-align: middle;\n    }\n\n    .dataframe tbody tr th {\n        vertical-align: top;\n    }\n\n    .dataframe thead th {\n        text-align: right;\n    }\n</style>\n<table border=\"1\" class=\"dataframe\">\n  <thead>\n    <tr style=\"text-align: right;\">\n      <th></th>\n      <th>eiaid</th>\n      <th>name</th>\n      <th>is_default</th>\n      <th>startdate</th>\n      <th>enddate</th>\n      <th>utility</th>\n      <th>sector</th>\n      <th>description</th>\n      <th>source</th>\n      <th>sourceparent</th>\n      <th>...</th>\n      <th>energyratestructure/period14/tier0rate</th>\n      <th>energyratestructure/period14/tier0adj</th>\n      <th>energyweekdayschedule</th>\n      <th>energyweekendschedule</th>\n      <th>energyattrs</th>\n      <th>energycomments</th>\n      <th>supersedes</th>\n      <th>coincidentrateunit</th>\n      <th>coincidentratestructure/period0/tier0rate</th>\n      <th>coincidentschedule</th>\n    </tr>\n    <tr>\n      <th>label</th>\n      <th></th>\n      <th></th>\n      <th></th>\n      <th></th>\n      <th></th>\n      <th></th>\n      <th></th>\n      <th></th>\n      <th></th>\n      <th></th>\n      <th></th>\n      <th></th>\n      <th></th>\n      <th></th>\n      <th></th>\n      <th></th>\n      <th></th>\n      <th></th>\n      <th></th>\n      <th></th>\n      <th></th>\n    </tr>\n  </thead>\n  <tbody>\n    <tr>\n      <th>539f6a0bec4f024411ec8b47</th>\n      <td>17609</td>\n      <td>Time-of-use - General Service - Demand Metered...</td>\n      <td>NaN</td>\n      <td>1/1/2014</td>\n      <td>12/31/2015</td>\n      <td>Southern California Edison Co</td>\n      <td>Commercial</td>\n      <td>#NAME?</td>\n      <td>http://www.sce.com/NR/sc3/tm2/pdf/CE281.pdf</td>\n      <td>NaN</td>\n      <td>...</td>\n      <td>NaN</td>\n      <td>NaN</td>\n      <td>[[0L, 0L, 0L, 0L, 0L, 0L, 0L, 0L, 1L, 1L, 1L, ...</td>\n      <td>[[0L, 0L, 0L, 0L, 0L, 0L, 0L, 0L, 0L, 0L, 0L, ...</td>\n      <td>NaN</td>\n      <td>NaN</td>\n      <td>NaN</td>\n      <td>NaN</td>\n      <td>NaN</td>\n      <td>NaN</td>\n    </tr>\n    <tr>\n      <th>5553987d5457a3c2378b4568</th>\n      <td>14328</td>\n      <td>E-20 Maximum demand of (1000 KW or more) (Seco...</td>\n      <td>NaN</td>\n      <td>3/1/2015</td>\n      <td>3/23/2016</td>\n      <td>Pacific Gas &amp; Electric Co</td>\n      <td>Commercial</td>\n      <td>An optional meter data access charge is applic...</td>\n      <td>http://www.pge.com/nots/rates/tariffs/rateinfo...</td>\n      <td>http://www.pge.com/tariffs/ERS.SHTML</td>\n      <td>...</td>\n      <td>NaN</td>\n      <td>NaN</td>\n      <td>[[0L, 0L, 0L, 0L, 0L, 0L, 0L, 0L, 1L, 1L, 1L, ...</td>\n      <td>[[0L, 0L, 0L, 0L, 0L, 0L, 0L, 0L, 0L, 0L, 0L, ...</td>\n      <td>NaN</td>\n      <td>Period 1: Off Peak Winter, Period 2: Part Peak...</td>\n      <td>5400ad765257a3fb3199cb99</td>\n      <td>NaN</td>\n      <td>NaN</td>\n      <td>NaN</td>\n    </tr>\n  </tbody>\n</table>\n<p>2 rows × 114 columns</p>\n</div>"
     },
     "metadata": {},
     "execution_count": 265
    }
   ],
   "source": [
    "import pandas as pd\n",
    "import numpy as np\n",
    "import ast\n",
    "import re\n",
    "import plotly.express as px\n",
    "\n",
    "df = pd.read_csv('Inputs/USURDB_CA.csv', parse_dates=True, index_col='label')\n",
    "\n",
    "#drop any columns with all missing data\n",
    "df = df.dropna(axis=1, how='all')\n",
    "\n",
    "df.head(2)"
   ]
  },
  {
   "source": [
    "## Update descriptive data for rate\n",
    "- rate code\n",
    "- sector\n",
    "- rate type"
   ],
   "cell_type": "markdown",
   "metadata": {}
  },
  {
   "cell_type": "code",
   "execution_count": 267,
   "metadata": {},
   "outputs": [
    {
     "output_type": "execute_result",
     "data": {
      "text/plain": [
       "                                                                       name  \\\n",
       "label                                                                         \n",
       "539f6a0bec4f024411ec8b47  Time-of-use - General Service - Demand Metered...   \n",
       "5553987d5457a3c2378b4568  E-20 Maximum demand of (1000 KW or more) (Seco...   \n",
       "539f6a8eec4f024411ec912f  Time-Of-Use Agricultural and Pumping - Large: ...   \n",
       "539f6a8fec4f024411ec9173  Time-of-use - General Service - Demand Metered...   \n",
       "57b608055457a38c44ded3d3                                  TOU-A-P Secondary   \n",
       "539f6aeaec4f024411ec9613  Time of Use, General Service, Demand Metered, ...   \n",
       "539f6b07ec4f024411ec979d  Time-Of-Use Agricultural and Pumping-Small to ...   \n",
       "5cbf88395457a30817671087           Large Agriculture Power TOU Rate (AG-5A)   \n",
       "539f6b25ec4f024411ec98e7  Time of Use, General Service, Demand Metered, ...   \n",
       "539f6b25ec4f024411ec98f5                     A-1 TOU (Option B, Poly-Phase)   \n",
       "\n",
       "                         utility        sector voltagecategory   rate code  \\\n",
       "label                                                                        \n",
       "539f6a0bec4f024411ec8b47     SCE    Commercial         Primary    TOU-GS-3   \n",
       "5553987d5457a3c2378b4568     PGE    Commercial       Secondary        E-20   \n",
       "539f6a8eec4f024411ec912f     SCE       Pumping             NaN    TOU-PA-3   \n",
       "539f6a8fec4f024411ec9173     SCE    Commercial    Transmission    TOU-GS-3   \n",
       "57b608055457a38c44ded3d3    SDGE    Commercial       Secondary     TOU-A-P   \n",
       "539f6aeaec4f024411ec9613     SCE    Commercial    Transmission  GS-2 TOU B   \n",
       "539f6b07ec4f024411ec979d     SCE       Pumping             NaN    TOU-PA-2   \n",
       "5cbf88395457a30817671087     PGE  Agricultural             NaN       AG-5A   \n",
       "539f6b25ec4f024411ec98e7     SCE    Commercial         Primary  GS-2 TOU B   \n",
       "539f6b25ec4f024411ec98f5     PGE    Commercial             NaN     A-1 TOU   \n",
       "\n",
       "                         rate option  TOU  Demand Charge  Year  \n",
       "label                                                           \n",
       "539f6a0bec4f024411ec8b47           R    1              1  2015  \n",
       "5553987d5457a3c2378b4568         NaN    0              1  2016  \n",
       "539f6a8eec4f024411ec912f           A    1              1  2015  \n",
       "539f6a8fec4f024411ec9173           R    1              1  2015  \n",
       "57b608055457a38c44ded3d3         NaN    1              0  2016  \n",
       "539f6aeaec4f024411ec9613           B    1              1  2015  \n",
       "539f6b07ec4f024411ec979d         CPP    1              1  2015  \n",
       "5cbf88395457a30817671087         NaN    1              1  2020  \n",
       "539f6b25ec4f024411ec98e7           B    1              1  2015  \n",
       "539f6b25ec4f024411ec98f5           B    1              0  2014  "
      ],
      "text/html": "<div>\n<style scoped>\n    .dataframe tbody tr th:only-of-type {\n        vertical-align: middle;\n    }\n\n    .dataframe tbody tr th {\n        vertical-align: top;\n    }\n\n    .dataframe thead th {\n        text-align: right;\n    }\n</style>\n<table border=\"1\" class=\"dataframe\">\n  <thead>\n    <tr style=\"text-align: right;\">\n      <th></th>\n      <th>name</th>\n      <th>utility</th>\n      <th>sector</th>\n      <th>voltagecategory</th>\n      <th>rate code</th>\n      <th>rate option</th>\n      <th>TOU</th>\n      <th>Demand Charge</th>\n      <th>Year</th>\n    </tr>\n    <tr>\n      <th>label</th>\n      <th></th>\n      <th></th>\n      <th></th>\n      <th></th>\n      <th></th>\n      <th></th>\n      <th></th>\n      <th></th>\n      <th></th>\n    </tr>\n  </thead>\n  <tbody>\n    <tr>\n      <th>539f6a0bec4f024411ec8b47</th>\n      <td>Time-of-use - General Service - Demand Metered...</td>\n      <td>SCE</td>\n      <td>Commercial</td>\n      <td>Primary</td>\n      <td>TOU-GS-3</td>\n      <td>R</td>\n      <td>1</td>\n      <td>1</td>\n      <td>2015</td>\n    </tr>\n    <tr>\n      <th>5553987d5457a3c2378b4568</th>\n      <td>E-20 Maximum demand of (1000 KW or more) (Seco...</td>\n      <td>PGE</td>\n      <td>Commercial</td>\n      <td>Secondary</td>\n      <td>E-20</td>\n      <td>NaN</td>\n      <td>0</td>\n      <td>1</td>\n      <td>2016</td>\n    </tr>\n    <tr>\n      <th>539f6a8eec4f024411ec912f</th>\n      <td>Time-Of-Use Agricultural and Pumping - Large: ...</td>\n      <td>SCE</td>\n      <td>Pumping</td>\n      <td>NaN</td>\n      <td>TOU-PA-3</td>\n      <td>A</td>\n      <td>1</td>\n      <td>1</td>\n      <td>2015</td>\n    </tr>\n    <tr>\n      <th>539f6a8fec4f024411ec9173</th>\n      <td>Time-of-use - General Service - Demand Metered...</td>\n      <td>SCE</td>\n      <td>Commercial</td>\n      <td>Transmission</td>\n      <td>TOU-GS-3</td>\n      <td>R</td>\n      <td>1</td>\n      <td>1</td>\n      <td>2015</td>\n    </tr>\n    <tr>\n      <th>57b608055457a38c44ded3d3</th>\n      <td>TOU-A-P Secondary</td>\n      <td>SDGE</td>\n      <td>Commercial</td>\n      <td>Secondary</td>\n      <td>TOU-A-P</td>\n      <td>NaN</td>\n      <td>1</td>\n      <td>0</td>\n      <td>2016</td>\n    </tr>\n    <tr>\n      <th>539f6aeaec4f024411ec9613</th>\n      <td>Time of Use, General Service, Demand Metered, ...</td>\n      <td>SCE</td>\n      <td>Commercial</td>\n      <td>Transmission</td>\n      <td>GS-2 TOU B</td>\n      <td>B</td>\n      <td>1</td>\n      <td>1</td>\n      <td>2015</td>\n    </tr>\n    <tr>\n      <th>539f6b07ec4f024411ec979d</th>\n      <td>Time-Of-Use Agricultural and Pumping-Small to ...</td>\n      <td>SCE</td>\n      <td>Pumping</td>\n      <td>NaN</td>\n      <td>TOU-PA-2</td>\n      <td>CPP</td>\n      <td>1</td>\n      <td>1</td>\n      <td>2015</td>\n    </tr>\n    <tr>\n      <th>5cbf88395457a30817671087</th>\n      <td>Large Agriculture Power TOU Rate (AG-5A)</td>\n      <td>PGE</td>\n      <td>Agricultural</td>\n      <td>NaN</td>\n      <td>AG-5A</td>\n      <td>NaN</td>\n      <td>1</td>\n      <td>1</td>\n      <td>2020</td>\n    </tr>\n    <tr>\n      <th>539f6b25ec4f024411ec98e7</th>\n      <td>Time of Use, General Service, Demand Metered, ...</td>\n      <td>SCE</td>\n      <td>Commercial</td>\n      <td>Primary</td>\n      <td>GS-2 TOU B</td>\n      <td>B</td>\n      <td>1</td>\n      <td>1</td>\n      <td>2015</td>\n    </tr>\n    <tr>\n      <th>539f6b25ec4f024411ec98f5</th>\n      <td>A-1 TOU (Option B, Poly-Phase)</td>\n      <td>PGE</td>\n      <td>Commercial</td>\n      <td>NaN</td>\n      <td>A-1 TOU</td>\n      <td>B</td>\n      <td>1</td>\n      <td>0</td>\n      <td>2014</td>\n    </tr>\n  </tbody>\n</table>\n</div>"
     },
     "metadata": {},
     "execution_count": 267
    }
   ],
   "source": [
    "rate_table = df[['name','utility','sector','voltagecategory','startdate','enddate','flatdemandstructure/period0/tier0rate','demandratestructure/period0/tier0rate']]\n",
    "\n",
    "#get the rate code\n",
    "rate_table['rate code'] = rate_table['name'].str.extract(r'((\\b)([A-Z0-9]+)((-| )([A-Z0-9]+))+(\\b)|^([A-Z0-9]+)\\b)', expand=False)[0]\n",
    "rate_table['rate code'] = rate_table['rate code'].fillna(rate_table['name'].str.extract(r'([A-Z]{3,})($|(?=[\\)]))', expand=False)[0])\n",
    "\n",
    "#get the rate option \n",
    "rate_table['rate option'] = rate_table['name'].str.extract(r'((([O|o]ption( |,)+))([A-Z0-9]+))', expand=False)[0]\n",
    "rate_table['rate option'] = rate_table['rate option'].fillna(rate_table['name'].str.extract(r'(?<=[\\(| ])(?<![k|0-9|\\-])([A-Z])($|(?=[\\)]))', expand=False)[0])\n",
    "rate_table['rate option'] = rate_table['rate option'].str.replace('Option ','')\n",
    "\n",
    "#update the sector name\n",
    "rate_table.loc[rate_table['name'].str.contains('agr', case=False),'sector'] = 'Agricultural'\n",
    "rate_table.loc[rate_table['name'].str.contains('pump', case=False),'sector'] = 'Pumping'\n",
    "\n",
    "#create a column identifying if the rate is a TOU rate\n",
    "rate_table['TOU'] = 0\n",
    "rate_table.loc[rate_table['name'].str.contains('TOU', case=False),'TOU'] = 1\n",
    "rate_table.loc[rate_table['name'].str.contains('time', case=False),'TOU'] = 1\n",
    "\n",
    "#Determine whether the rate includes a demand charge by identifying whether it has a non-zero demand charge rate\n",
    "rate_table['Demand Charge'] = (rate_table['flatdemandstructure/period0/tier0rate'].fillna(0) + rate_table['demandratestructure/period0/tier0rate'].fillna(0))\n",
    "rate_table.loc[rate_table['Demand Charge'] > 0,'Demand Charge'] = 1\n",
    "rate_table['Demand Charge'] = rate_table['Demand Charge'].astype('Int64')\n",
    "rate_table = rate_table.drop(columns=['flatdemandstructure/period0/tier0rate','demandratestructure/period0/tier0rate'])\n",
    "\n",
    "#create a column for the year\n",
    "rate_table['Year'] = (pd.DatetimeIndex(rate_table['enddate']).year.astype('Int64'))\n",
    "rate_table['Year'] = rate_table['Year'].fillna(2020)\n",
    "rate_table = rate_table.drop(columns=['startdate','enddate'])\n",
    "\n",
    "#replace the utility name with its acronym\n",
    "utility_dict = {'Southern California Edison Co':'SCE',\n",
    "                'Pacific Gas & Electric Co':'PGE',\n",
    "                'Sacramento Municipal Utility District':'SMUD',\n",
    "                'San Diego Gas & Electric Co':'SDGE',\n",
    "                'Los Angeles Department of Water & Power':'LADWP'}\n",
    "rate_table['utility'] = rate_table['utility'].replace(utility_dict)\n",
    "\n",
    "rate_table.head(10)"
   ]
  },
  {
   "source": [
    "## Transform to rectangular\n",
    "- For each row:\n",
    " - [x] get the weekday and weekend schedules\n",
    "    - [x] sum rate and adj to get the total rate for each period\n",
    "    - [x] create a dictionary of period:total rate\n",
    "    - [x] replace the period numbers with the rate using the dictionary\n",
    "\n"
   ],
   "cell_type": "markdown",
   "metadata": {}
  },
  {
   "source": [
    "### Calculate total energy rate by period"
   ],
   "cell_type": "markdown",
   "metadata": {}
  },
  {
   "cell_type": "code",
   "execution_count": 269,
   "metadata": {},
   "outputs": [
    {
     "output_type": "execute_result",
     "data": {
      "text/plain": [
       "Period                         0        1        2        3        4   \\\n",
       "label                                                                   \n",
       "539f6a0bec4f024411ec8b47  0.07252  0.09152  0.06798  0.13729  0.33658   \n",
       "5553987d5457a3c2378b4568  0.07431  0.09636  0.07311  0.10275  0.14772   \n",
       "539f6a8eec4f024411ec912f  0.05786  0.07496  0.05276  0.07110  0.11484   \n",
       "539f6a8fec4f024411ec9173  0.07008  0.08908  0.06554  0.13485  0.33414   \n",
       "57b608055457a38c44ded3d3  0.00000  0.00000  0.00000  0.00000  0.00000   \n",
       "...                           ...      ...      ...      ...      ...   \n",
       "5cd307b85457a3fe7154e9d4  0.11913  0.13529  0.11484  0.13433  0.14040   \n",
       "581a2a9f5457a3ac3f4715b5  0.11573  0.10836  0.08756  0.10936  0.10936   \n",
       "581a308a5457a38b524715b5  0.11271  0.10635  0.08619  0.10741  0.10741   \n",
       "581a32755457a34a4a4715b5  0.11271  0.10635  0.08619  0.10741  0.10741   \n",
       "581a346d5457a3e7544715b5  0.11271  0.10635  0.08619  0.10741  0.10741   \n",
       "\n",
       "Period                         5    6    7    8    9    10   11   12   13   14  \n",
       "label                                                                           \n",
       "539f6a0bec4f024411ec8b47  0.00000  0.0  0.0  0.0  0.0  0.0  0.0  0.0  0.0  0.0  \n",
       "5553987d5457a3c2378b4568  0.00000  0.0  0.0  0.0  0.0  0.0  0.0  0.0  0.0  0.0  \n",
       "539f6a8eec4f024411ec912f  0.00000  0.0  0.0  0.0  0.0  0.0  0.0  0.0  0.0  0.0  \n",
       "539f6a8fec4f024411ec9173  0.00000  0.0  0.0  0.0  0.0  0.0  0.0  0.0  0.0  0.0  \n",
       "57b608055457a38c44ded3d3  0.00000  0.0  0.0  0.0  0.0  0.0  0.0  0.0  0.0  0.0  \n",
       "...                           ...  ...  ...  ...  ...  ...  ...  ...  ...  ...  \n",
       "5cd307b85457a3fe7154e9d4  0.00000  0.0  0.0  0.0  0.0  0.0  0.0  0.0  0.0  0.0  \n",
       "581a2a9f5457a3ac3f4715b5  0.09133  0.0  0.0  0.0  0.0  0.0  0.0  0.0  0.0  0.0  \n",
       "581a308a5457a38b524715b5  0.09065  0.0  0.0  0.0  0.0  0.0  0.0  0.0  0.0  0.0  \n",
       "581a32755457a34a4a4715b5  0.09065  0.0  0.0  0.0  0.0  0.0  0.0  0.0  0.0  0.0  \n",
       "581a346d5457a3e7544715b5  0.09065  0.0  0.0  0.0  0.0  0.0  0.0  0.0  0.0  0.0  \n",
       "\n",
       "[888 rows x 15 columns]"
      ],
      "text/html": "<div>\n<style scoped>\n    .dataframe tbody tr th:only-of-type {\n        vertical-align: middle;\n    }\n\n    .dataframe tbody tr th {\n        vertical-align: top;\n    }\n\n    .dataframe thead th {\n        text-align: right;\n    }\n</style>\n<table border=\"1\" class=\"dataframe\">\n  <thead>\n    <tr style=\"text-align: right;\">\n      <th>Period</th>\n      <th>0</th>\n      <th>1</th>\n      <th>2</th>\n      <th>3</th>\n      <th>4</th>\n      <th>5</th>\n      <th>6</th>\n      <th>7</th>\n      <th>8</th>\n      <th>9</th>\n      <th>10</th>\n      <th>11</th>\n      <th>12</th>\n      <th>13</th>\n      <th>14</th>\n    </tr>\n    <tr>\n      <th>label</th>\n      <th></th>\n      <th></th>\n      <th></th>\n      <th></th>\n      <th></th>\n      <th></th>\n      <th></th>\n      <th></th>\n      <th></th>\n      <th></th>\n      <th></th>\n      <th></th>\n      <th></th>\n      <th></th>\n      <th></th>\n    </tr>\n  </thead>\n  <tbody>\n    <tr>\n      <th>539f6a0bec4f024411ec8b47</th>\n      <td>0.07252</td>\n      <td>0.09152</td>\n      <td>0.06798</td>\n      <td>0.13729</td>\n      <td>0.33658</td>\n      <td>0.00000</td>\n      <td>0.0</td>\n      <td>0.0</td>\n      <td>0.0</td>\n      <td>0.0</td>\n      <td>0.0</td>\n      <td>0.0</td>\n      <td>0.0</td>\n      <td>0.0</td>\n      <td>0.0</td>\n    </tr>\n    <tr>\n      <th>5553987d5457a3c2378b4568</th>\n      <td>0.07431</td>\n      <td>0.09636</td>\n      <td>0.07311</td>\n      <td>0.10275</td>\n      <td>0.14772</td>\n      <td>0.00000</td>\n      <td>0.0</td>\n      <td>0.0</td>\n      <td>0.0</td>\n      <td>0.0</td>\n      <td>0.0</td>\n      <td>0.0</td>\n      <td>0.0</td>\n      <td>0.0</td>\n      <td>0.0</td>\n    </tr>\n    <tr>\n      <th>539f6a8eec4f024411ec912f</th>\n      <td>0.05786</td>\n      <td>0.07496</td>\n      <td>0.05276</td>\n      <td>0.07110</td>\n      <td>0.11484</td>\n      <td>0.00000</td>\n      <td>0.0</td>\n      <td>0.0</td>\n      <td>0.0</td>\n      <td>0.0</td>\n      <td>0.0</td>\n      <td>0.0</td>\n      <td>0.0</td>\n      <td>0.0</td>\n      <td>0.0</td>\n    </tr>\n    <tr>\n      <th>539f6a8fec4f024411ec9173</th>\n      <td>0.07008</td>\n      <td>0.08908</td>\n      <td>0.06554</td>\n      <td>0.13485</td>\n      <td>0.33414</td>\n      <td>0.00000</td>\n      <td>0.0</td>\n      <td>0.0</td>\n      <td>0.0</td>\n      <td>0.0</td>\n      <td>0.0</td>\n      <td>0.0</td>\n      <td>0.0</td>\n      <td>0.0</td>\n      <td>0.0</td>\n    </tr>\n    <tr>\n      <th>57b608055457a38c44ded3d3</th>\n      <td>0.00000</td>\n      <td>0.00000</td>\n      <td>0.00000</td>\n      <td>0.00000</td>\n      <td>0.00000</td>\n      <td>0.00000</td>\n      <td>0.0</td>\n      <td>0.0</td>\n      <td>0.0</td>\n      <td>0.0</td>\n      <td>0.0</td>\n      <td>0.0</td>\n      <td>0.0</td>\n      <td>0.0</td>\n      <td>0.0</td>\n    </tr>\n    <tr>\n      <th>...</th>\n      <td>...</td>\n      <td>...</td>\n      <td>...</td>\n      <td>...</td>\n      <td>...</td>\n      <td>...</td>\n      <td>...</td>\n      <td>...</td>\n      <td>...</td>\n      <td>...</td>\n      <td>...</td>\n      <td>...</td>\n      <td>...</td>\n      <td>...</td>\n      <td>...</td>\n    </tr>\n    <tr>\n      <th>5cd307b85457a3fe7154e9d4</th>\n      <td>0.11913</td>\n      <td>0.13529</td>\n      <td>0.11484</td>\n      <td>0.13433</td>\n      <td>0.14040</td>\n      <td>0.00000</td>\n      <td>0.0</td>\n      <td>0.0</td>\n      <td>0.0</td>\n      <td>0.0</td>\n      <td>0.0</td>\n      <td>0.0</td>\n      <td>0.0</td>\n      <td>0.0</td>\n      <td>0.0</td>\n    </tr>\n    <tr>\n      <th>581a2a9f5457a3ac3f4715b5</th>\n      <td>0.11573</td>\n      <td>0.10836</td>\n      <td>0.08756</td>\n      <td>0.10936</td>\n      <td>0.10936</td>\n      <td>0.09133</td>\n      <td>0.0</td>\n      <td>0.0</td>\n      <td>0.0</td>\n      <td>0.0</td>\n      <td>0.0</td>\n      <td>0.0</td>\n      <td>0.0</td>\n      <td>0.0</td>\n      <td>0.0</td>\n    </tr>\n    <tr>\n      <th>581a308a5457a38b524715b5</th>\n      <td>0.11271</td>\n      <td>0.10635</td>\n      <td>0.08619</td>\n      <td>0.10741</td>\n      <td>0.10741</td>\n      <td>0.09065</td>\n      <td>0.0</td>\n      <td>0.0</td>\n      <td>0.0</td>\n      <td>0.0</td>\n      <td>0.0</td>\n      <td>0.0</td>\n      <td>0.0</td>\n      <td>0.0</td>\n      <td>0.0</td>\n    </tr>\n    <tr>\n      <th>581a32755457a34a4a4715b5</th>\n      <td>0.11271</td>\n      <td>0.10635</td>\n      <td>0.08619</td>\n      <td>0.10741</td>\n      <td>0.10741</td>\n      <td>0.09065</td>\n      <td>0.0</td>\n      <td>0.0</td>\n      <td>0.0</td>\n      <td>0.0</td>\n      <td>0.0</td>\n      <td>0.0</td>\n      <td>0.0</td>\n      <td>0.0</td>\n      <td>0.0</td>\n    </tr>\n    <tr>\n      <th>581a346d5457a3e7544715b5</th>\n      <td>0.11271</td>\n      <td>0.10635</td>\n      <td>0.08619</td>\n      <td>0.10741</td>\n      <td>0.10741</td>\n      <td>0.09065</td>\n      <td>0.0</td>\n      <td>0.0</td>\n      <td>0.0</td>\n      <td>0.0</td>\n      <td>0.0</td>\n      <td>0.0</td>\n      <td>0.0</td>\n      <td>0.0</td>\n      <td>0.0</td>\n    </tr>\n  </tbody>\n</table>\n<p>888 rows × 15 columns</p>\n</div>"
     },
     "metadata": {},
     "execution_count": 269
    }
   ],
   "source": [
    "#create a new df that only contains the energy rate structure columns\n",
    "energy_structure = df.loc[:,df.columns.str.contains('energyratestructure/')]\n",
    "\n",
    "# create a multiindex from these columns\n",
    "energy_structure.columns = pd.MultiIndex.from_tuples([tuple([int(i) for i in re.findall(r'[0-9]+', col)] + re.findall(r'([a-z]+)$', col)) for col in energy_structure.columns], names=['Period', 'Tier','Component'])\n",
    "\n",
    "#only keep the values for tier 0 (let's ignore higher tiers for now)\n",
    "energy_structure = energy_structure.loc[:,energy_structure.columns.get_level_values(1)==0].fillna(0)\n",
    "#drop the tier level of the multiindex\n",
    "energy_structure.columns = energy_structure.columns.droplevel(1)\n",
    "\n",
    "\n",
    "#calculate the total rate by adding rate and adj\n",
    "for p in range(15):\n",
    "    energy_structure[p,'total'] = energy_structure[p,'rate'] + energy_structure[p,'adj']\n",
    "\n",
    "#only keep the total data\n",
    "energy_structure = energy_structure.loc[:,energy_structure.columns.get_level_values(1)=='total']\n",
    "energy_structure.columns = energy_structure.columns.droplevel(1)\n",
    "\n",
    "energy_structure"
   ]
  },
  {
   "source": [
    "### create month-hour rate table"
   ],
   "cell_type": "markdown",
   "metadata": {}
  },
  {
   "cell_type": "code",
   "execution_count": 271,
   "metadata": {},
   "outputs": [
    {
     "output_type": "execute_result",
     "data": {
      "text/plain": [
       "                                             0        1        2        3   \\\n",
       "label                    month day                                           \n",
       "539f6a0bec4f024411ec8b47 1     weekday  0.07252  0.07252  0.07252  0.07252   \n",
       "                         2     weekday  0.07252  0.07252  0.07252  0.07252   \n",
       "                         3     weekday  0.07252  0.07252  0.07252  0.07252   \n",
       "                         4     weekday  0.07252  0.07252  0.07252  0.07252   \n",
       "                         5     weekday  0.07252  0.07252  0.07252  0.07252   \n",
       "...                                         ...      ...      ...      ...   \n",
       "581a346d5457a3e7544715b5 8     weekend  0.08619  0.08619  0.08619  0.08619   \n",
       "                         9     weekend  0.08619  0.08619  0.08619  0.08619   \n",
       "                         10    weekend  0.09065  0.09065  0.09065  0.09065   \n",
       "                         11    weekend  0.09065  0.09065  0.09065  0.09065   \n",
       "                         12    weekend  0.09065  0.09065  0.09065  0.09065   \n",
       "\n",
       "                                             4        5        6        7   \\\n",
       "label                    month day                                           \n",
       "539f6a0bec4f024411ec8b47 1     weekday  0.07252  0.07252  0.07252  0.07252   \n",
       "                         2     weekday  0.07252  0.07252  0.07252  0.07252   \n",
       "                         3     weekday  0.07252  0.07252  0.07252  0.07252   \n",
       "                         4     weekday  0.07252  0.07252  0.07252  0.07252   \n",
       "                         5     weekday  0.07252  0.07252  0.07252  0.07252   \n",
       "...                                         ...      ...      ...      ...   \n",
       "581a346d5457a3e7544715b5 8     weekend  0.08619  0.08619  0.08619  0.08619   \n",
       "                         9     weekend  0.08619  0.08619  0.08619  0.08619   \n",
       "                         10    weekend  0.09065  0.09065  0.09065  0.09065   \n",
       "                         11    weekend  0.09065  0.09065  0.09065  0.09065   \n",
       "                         12    weekend  0.09065  0.09065  0.09065  0.09065   \n",
       "\n",
       "                                             8        9   ...       14  \\\n",
       "label                    month day                        ...            \n",
       "539f6a0bec4f024411ec8b47 1     weekday  0.09152  0.09152  ...  0.09152   \n",
       "                         2     weekday  0.09152  0.09152  ...  0.09152   \n",
       "                         3     weekday  0.09152  0.09152  ...  0.09152   \n",
       "                         4     weekday  0.09152  0.09152  ...  0.09152   \n",
       "                         5     weekday  0.09152  0.09152  ...  0.09152   \n",
       "...                                         ...      ...  ...      ...   \n",
       "581a346d5457a3e7544715b5 8     weekend  0.08619  0.08619  ...  0.08619   \n",
       "                         9     weekend  0.08619  0.08619  ...  0.08619   \n",
       "                         10    weekend  0.09065  0.09065  ...  0.09065   \n",
       "                         11    weekend  0.09065  0.09065  ...  0.09065   \n",
       "                         12    weekend  0.09065  0.09065  ...  0.09065   \n",
       "\n",
       "                                             15       16       17       18  \\\n",
       "label                    month day                                           \n",
       "539f6a0bec4f024411ec8b47 1     weekday  0.09152  0.09152  0.09152  0.09152   \n",
       "                         2     weekday  0.09152  0.09152  0.09152  0.09152   \n",
       "                         3     weekday  0.09152  0.09152  0.09152  0.09152   \n",
       "                         4     weekday  0.09152  0.09152  0.09152  0.09152   \n",
       "                         5     weekday  0.09152  0.09152  0.09152  0.09152   \n",
       "...                                         ...      ...      ...      ...   \n",
       "581a346d5457a3e7544715b5 8     weekend  0.08619  0.08619  0.08619  0.08619   \n",
       "                         9     weekend  0.08619  0.08619  0.08619  0.08619   \n",
       "                         10    weekend  0.09065  0.09065  0.09065  0.09065   \n",
       "                         11    weekend  0.09065  0.09065  0.09065  0.09065   \n",
       "                         12    weekend  0.09065  0.09065  0.09065  0.09065   \n",
       "\n",
       "                                             19       20       21       22  \\\n",
       "label                    month day                                           \n",
       "539f6a0bec4f024411ec8b47 1     weekday  0.09152  0.09152  0.07252  0.07252   \n",
       "                         2     weekday  0.09152  0.09152  0.07252  0.07252   \n",
       "                         3     weekday  0.09152  0.09152  0.07252  0.07252   \n",
       "                         4     weekday  0.09152  0.09152  0.07252  0.07252   \n",
       "                         5     weekday  0.09152  0.09152  0.07252  0.07252   \n",
       "...                                         ...      ...      ...      ...   \n",
       "581a346d5457a3e7544715b5 8     weekend  0.08619  0.08619  0.08619  0.08619   \n",
       "                         9     weekend  0.08619  0.08619  0.08619  0.08619   \n",
       "                         10    weekend  0.09065  0.09065  0.09065  0.09065   \n",
       "                         11    weekend  0.09065  0.09065  0.09065  0.09065   \n",
       "                         12    weekend  0.09065  0.09065  0.09065  0.09065   \n",
       "\n",
       "                                             23  \n",
       "label                    month day               \n",
       "539f6a0bec4f024411ec8b47 1     weekday  0.07252  \n",
       "                         2     weekday  0.07252  \n",
       "                         3     weekday  0.07252  \n",
       "                         4     weekday  0.07252  \n",
       "                         5     weekday  0.07252  \n",
       "...                                         ...  \n",
       "581a346d5457a3e7544715b5 8     weekend  0.08619  \n",
       "                         9     weekend  0.08619  \n",
       "                         10    weekend  0.09065  \n",
       "                         11    weekend  0.09065  \n",
       "                         12    weekend  0.09065  \n",
       "\n",
       "[21240 rows x 24 columns]"
      ],
      "text/html": "<div>\n<style scoped>\n    .dataframe tbody tr th:only-of-type {\n        vertical-align: middle;\n    }\n\n    .dataframe tbody tr th {\n        vertical-align: top;\n    }\n\n    .dataframe thead th {\n        text-align: right;\n    }\n</style>\n<table border=\"1\" class=\"dataframe\">\n  <thead>\n    <tr style=\"text-align: right;\">\n      <th></th>\n      <th></th>\n      <th></th>\n      <th>0</th>\n      <th>1</th>\n      <th>2</th>\n      <th>3</th>\n      <th>4</th>\n      <th>5</th>\n      <th>6</th>\n      <th>7</th>\n      <th>8</th>\n      <th>9</th>\n      <th>...</th>\n      <th>14</th>\n      <th>15</th>\n      <th>16</th>\n      <th>17</th>\n      <th>18</th>\n      <th>19</th>\n      <th>20</th>\n      <th>21</th>\n      <th>22</th>\n      <th>23</th>\n    </tr>\n    <tr>\n      <th>label</th>\n      <th>month</th>\n      <th>day</th>\n      <th></th>\n      <th></th>\n      <th></th>\n      <th></th>\n      <th></th>\n      <th></th>\n      <th></th>\n      <th></th>\n      <th></th>\n      <th></th>\n      <th></th>\n      <th></th>\n      <th></th>\n      <th></th>\n      <th></th>\n      <th></th>\n      <th></th>\n      <th></th>\n      <th></th>\n      <th></th>\n      <th></th>\n    </tr>\n  </thead>\n  <tbody>\n    <tr>\n      <th rowspan=\"5\" valign=\"top\">539f6a0bec4f024411ec8b47</th>\n      <th>1</th>\n      <th>weekday</th>\n      <td>0.07252</td>\n      <td>0.07252</td>\n      <td>0.07252</td>\n      <td>0.07252</td>\n      <td>0.07252</td>\n      <td>0.07252</td>\n      <td>0.07252</td>\n      <td>0.07252</td>\n      <td>0.09152</td>\n      <td>0.09152</td>\n      <td>...</td>\n      <td>0.09152</td>\n      <td>0.09152</td>\n      <td>0.09152</td>\n      <td>0.09152</td>\n      <td>0.09152</td>\n      <td>0.09152</td>\n      <td>0.09152</td>\n      <td>0.07252</td>\n      <td>0.07252</td>\n      <td>0.07252</td>\n    </tr>\n    <tr>\n      <th>2</th>\n      <th>weekday</th>\n      <td>0.07252</td>\n      <td>0.07252</td>\n      <td>0.07252</td>\n      <td>0.07252</td>\n      <td>0.07252</td>\n      <td>0.07252</td>\n      <td>0.07252</td>\n      <td>0.07252</td>\n      <td>0.09152</td>\n      <td>0.09152</td>\n      <td>...</td>\n      <td>0.09152</td>\n      <td>0.09152</td>\n      <td>0.09152</td>\n      <td>0.09152</td>\n      <td>0.09152</td>\n      <td>0.09152</td>\n      <td>0.09152</td>\n      <td>0.07252</td>\n      <td>0.07252</td>\n      <td>0.07252</td>\n    </tr>\n    <tr>\n      <th>3</th>\n      <th>weekday</th>\n      <td>0.07252</td>\n      <td>0.07252</td>\n      <td>0.07252</td>\n      <td>0.07252</td>\n      <td>0.07252</td>\n      <td>0.07252</td>\n      <td>0.07252</td>\n      <td>0.07252</td>\n      <td>0.09152</td>\n      <td>0.09152</td>\n      <td>...</td>\n      <td>0.09152</td>\n      <td>0.09152</td>\n      <td>0.09152</td>\n      <td>0.09152</td>\n      <td>0.09152</td>\n      <td>0.09152</td>\n      <td>0.09152</td>\n      <td>0.07252</td>\n      <td>0.07252</td>\n      <td>0.07252</td>\n    </tr>\n    <tr>\n      <th>4</th>\n      <th>weekday</th>\n      <td>0.07252</td>\n      <td>0.07252</td>\n      <td>0.07252</td>\n      <td>0.07252</td>\n      <td>0.07252</td>\n      <td>0.07252</td>\n      <td>0.07252</td>\n      <td>0.07252</td>\n      <td>0.09152</td>\n      <td>0.09152</td>\n      <td>...</td>\n      <td>0.09152</td>\n      <td>0.09152</td>\n      <td>0.09152</td>\n      <td>0.09152</td>\n      <td>0.09152</td>\n      <td>0.09152</td>\n      <td>0.09152</td>\n      <td>0.07252</td>\n      <td>0.07252</td>\n      <td>0.07252</td>\n    </tr>\n    <tr>\n      <th>5</th>\n      <th>weekday</th>\n      <td>0.07252</td>\n      <td>0.07252</td>\n      <td>0.07252</td>\n      <td>0.07252</td>\n      <td>0.07252</td>\n      <td>0.07252</td>\n      <td>0.07252</td>\n      <td>0.07252</td>\n      <td>0.09152</td>\n      <td>0.09152</td>\n      <td>...</td>\n      <td>0.09152</td>\n      <td>0.09152</td>\n      <td>0.09152</td>\n      <td>0.09152</td>\n      <td>0.09152</td>\n      <td>0.09152</td>\n      <td>0.09152</td>\n      <td>0.07252</td>\n      <td>0.07252</td>\n      <td>0.07252</td>\n    </tr>\n    <tr>\n      <th>...</th>\n      <th>...</th>\n      <th>...</th>\n      <td>...</td>\n      <td>...</td>\n      <td>...</td>\n      <td>...</td>\n      <td>...</td>\n      <td>...</td>\n      <td>...</td>\n      <td>...</td>\n      <td>...</td>\n      <td>...</td>\n      <td>...</td>\n      <td>...</td>\n      <td>...</td>\n      <td>...</td>\n      <td>...</td>\n      <td>...</td>\n      <td>...</td>\n      <td>...</td>\n      <td>...</td>\n      <td>...</td>\n      <td>...</td>\n    </tr>\n    <tr>\n      <th rowspan=\"5\" valign=\"top\">581a346d5457a3e7544715b5</th>\n      <th>8</th>\n      <th>weekend</th>\n      <td>0.08619</td>\n      <td>0.08619</td>\n      <td>0.08619</td>\n      <td>0.08619</td>\n      <td>0.08619</td>\n      <td>0.08619</td>\n      <td>0.08619</td>\n      <td>0.08619</td>\n      <td>0.08619</td>\n      <td>0.08619</td>\n      <td>...</td>\n      <td>0.08619</td>\n      <td>0.08619</td>\n      <td>0.08619</td>\n      <td>0.08619</td>\n      <td>0.08619</td>\n      <td>0.08619</td>\n      <td>0.08619</td>\n      <td>0.08619</td>\n      <td>0.08619</td>\n      <td>0.08619</td>\n    </tr>\n    <tr>\n      <th>9</th>\n      <th>weekend</th>\n      <td>0.08619</td>\n      <td>0.08619</td>\n      <td>0.08619</td>\n      <td>0.08619</td>\n      <td>0.08619</td>\n      <td>0.08619</td>\n      <td>0.08619</td>\n      <td>0.08619</td>\n      <td>0.08619</td>\n      <td>0.08619</td>\n      <td>...</td>\n      <td>0.08619</td>\n      <td>0.08619</td>\n      <td>0.08619</td>\n      <td>0.08619</td>\n      <td>0.08619</td>\n      <td>0.08619</td>\n      <td>0.08619</td>\n      <td>0.08619</td>\n      <td>0.08619</td>\n      <td>0.08619</td>\n    </tr>\n    <tr>\n      <th>10</th>\n      <th>weekend</th>\n      <td>0.09065</td>\n      <td>0.09065</td>\n      <td>0.09065</td>\n      <td>0.09065</td>\n      <td>0.09065</td>\n      <td>0.09065</td>\n      <td>0.09065</td>\n      <td>0.09065</td>\n      <td>0.09065</td>\n      <td>0.09065</td>\n      <td>...</td>\n      <td>0.09065</td>\n      <td>0.09065</td>\n      <td>0.09065</td>\n      <td>0.09065</td>\n      <td>0.09065</td>\n      <td>0.09065</td>\n      <td>0.09065</td>\n      <td>0.09065</td>\n      <td>0.09065</td>\n      <td>0.09065</td>\n    </tr>\n    <tr>\n      <th>11</th>\n      <th>weekend</th>\n      <td>0.09065</td>\n      <td>0.09065</td>\n      <td>0.09065</td>\n      <td>0.09065</td>\n      <td>0.09065</td>\n      <td>0.09065</td>\n      <td>0.09065</td>\n      <td>0.09065</td>\n      <td>0.09065</td>\n      <td>0.09065</td>\n      <td>...</td>\n      <td>0.09065</td>\n      <td>0.09065</td>\n      <td>0.09065</td>\n      <td>0.09065</td>\n      <td>0.09065</td>\n      <td>0.09065</td>\n      <td>0.09065</td>\n      <td>0.09065</td>\n      <td>0.09065</td>\n      <td>0.09065</td>\n    </tr>\n    <tr>\n      <th>12</th>\n      <th>weekend</th>\n      <td>0.09065</td>\n      <td>0.09065</td>\n      <td>0.09065</td>\n      <td>0.09065</td>\n      <td>0.09065</td>\n      <td>0.09065</td>\n      <td>0.09065</td>\n      <td>0.09065</td>\n      <td>0.09065</td>\n      <td>0.09065</td>\n      <td>...</td>\n      <td>0.09065</td>\n      <td>0.09065</td>\n      <td>0.09065</td>\n      <td>0.09065</td>\n      <td>0.09065</td>\n      <td>0.09065</td>\n      <td>0.09065</td>\n      <td>0.09065</td>\n      <td>0.09065</td>\n      <td>0.09065</td>\n    </tr>\n  </tbody>\n</table>\n<p>21240 rows × 24 columns</p>\n</div>"
     },
     "metadata": {},
     "execution_count": 271
    }
   ],
   "source": [
    "#create a blank dataframe to hold the data\n",
    "energy_schedule = pd.DataFrame()\n",
    "\n",
    "#for each row (rate)\n",
    "for index, row in df.iterrows():\n",
    "    months = [1,2,3,4,5,6,7,8,9,10,11,12]\n",
    "    try:\n",
    "        #create a dictionary of periods:rates, ignoring any columns where the rate = 0. If all rates = 0, this will raise an indexerror, and we will skip this rate\n",
    "        period_to_rate_dict = energy_structure[energy_structure.index == index].replace(0,np.NaN).dropna(axis=1).to_dict(orient='records')[0]\n",
    "\n",
    "        #get the weekday data, replacing the period numbers with the rates\n",
    "        df_weekday = pd.DataFrame(data=ast.literal_eval(row['energyweekdayschedule'].replace('L','')), \n",
    "                                  index=pd.MultiIndex.from_product([[index], months, ['weekday']], \n",
    "                                  names=['label','month','day'])\n",
    "                                  ).replace(period_to_rate_dict)\n",
    "        #get the weekend data, replacing the period numbers with the rates\n",
    "        df_weekend = pd.DataFrame(data=ast.literal_eval(row['energyweekendschedule'].replace('L','')), \n",
    "                                  index=pd.MultiIndex.from_product([[index], months, ['weekend']], \n",
    "                                  names=['label','month','day'])\n",
    "                                  ).replace(period_to_rate_dict)\n",
    "        #concatenate the data together\n",
    "        energy_schedule = pd.concat([energy_schedule,df_weekday,df_weekend], axis=0)\n",
    "\n",
    "    #if all of the rates = 0, it raises an error. These data will not be included in our final dataframe\n",
    "    except IndexError:\n",
    "        pass\n",
    "    \n",
    "\n",
    "energy_schedule"
   ]
  },
  {
   "source": [
    "# Look up and aggregate rates\n",
    "- We now have a table of rate characteristics, and a table of the month-hour rates. We want to be able to average multiple rates together to get an aggregate\n",
    "\n",
    "## Steps\n",
    "- [x] search rate table to get a list of index labels that match criteria\n",
    "- [x] create a subset of the energy_schedule dataframe that only inlcudes these labels\n",
    "- [x] group the data and get descriptive statistics\n",
    "- [x] plot the results"
   ],
   "cell_type": "markdown",
   "metadata": {}
  },
  {
   "cell_type": "code",
   "execution_count": 273,
   "metadata": {},
   "outputs": [],
   "source": [
    "# Search Criteria\n",
    "################\n",
    "utility = ['SCE'] #SCE, SDGE, PGE, SMUD, LADWP\n",
    "sector = ['Pumping','Agricultural'] #Commercial, Industrial, Pumping, Agriculture\n",
    "tou = [1] #either 0 or 1\n",
    "years = range(2010,2021) #list years to include"
   ]
  },
  {
   "cell_type": "code",
   "execution_count": 274,
   "metadata": {},
   "outputs": [
    {
     "output_type": "execute_result",
     "data": {
      "text/plain": [
       "   month      day hour stat    value\n",
       "0      1  weekday    0  min  0.04094\n",
       "1      1  weekend    0  min  0.04094\n",
       "2      2  weekday    0  min  0.04094\n",
       "3      2  weekend    0  min  0.04094\n",
       "4      3  weekday    0  min  0.04094"
      ],
      "text/html": "<div>\n<style scoped>\n    .dataframe tbody tr th:only-of-type {\n        vertical-align: middle;\n    }\n\n    .dataframe tbody tr th {\n        vertical-align: top;\n    }\n\n    .dataframe thead th {\n        text-align: right;\n    }\n</style>\n<table border=\"1\" class=\"dataframe\">\n  <thead>\n    <tr style=\"text-align: right;\">\n      <th></th>\n      <th>month</th>\n      <th>day</th>\n      <th>hour</th>\n      <th>stat</th>\n      <th>value</th>\n    </tr>\n  </thead>\n  <tbody>\n    <tr>\n      <th>0</th>\n      <td>1</td>\n      <td>weekday</td>\n      <td>0</td>\n      <td>min</td>\n      <td>0.04094</td>\n    </tr>\n    <tr>\n      <th>1</th>\n      <td>1</td>\n      <td>weekend</td>\n      <td>0</td>\n      <td>min</td>\n      <td>0.04094</td>\n    </tr>\n    <tr>\n      <th>2</th>\n      <td>2</td>\n      <td>weekday</td>\n      <td>0</td>\n      <td>min</td>\n      <td>0.04094</td>\n    </tr>\n    <tr>\n      <th>3</th>\n      <td>2</td>\n      <td>weekend</td>\n      <td>0</td>\n      <td>min</td>\n      <td>0.04094</td>\n    </tr>\n    <tr>\n      <th>4</th>\n      <td>3</td>\n      <td>weekday</td>\n      <td>0</td>\n      <td>min</td>\n      <td>0.04094</td>\n    </tr>\n  </tbody>\n</table>\n</div>"
     },
     "metadata": {},
     "execution_count": 274
    }
   ],
   "source": [
    "#get a list of index labels from the rate table that match these criteria\n",
    "matched_indexes = rate_table[(rate_table['utility'].isin(utility)) & \n",
    "                             (rate_table['sector'].isin(sector)) &\n",
    "                             (rate_table['TOU'].isin(tou)) &\n",
    "                             (rate_table['Year'].isin(years))].index.to_list()\n",
    "\n",
    "#get the rates that match the search criteria\n",
    "results = energy_schedule[energy_schedule.index.get_level_values(0).isin(matched_indexes)]\n",
    "#get descriptive statistics for these rates\n",
    "results = results.reset_index().drop(columns=['label']).groupby(['month','day']).describe()\n",
    "\n",
    "#only keep certain stats\n",
    "stats_to_keep = ['min','25%','50%','75%','max']\n",
    "results = results.loc[:,results.columns.get_level_values(1).isin(stats_to_keep)]\n",
    "\n",
    "#melt the data to get it ready for graphing\n",
    "results = results.reset_index().melt(id_vars=['month','day'], var_name=['hour','stat'])\n",
    "results.head(5)"
   ]
  },
  {
   "cell_type": "code",
   "execution_count": 275,
   "metadata": {},
   "outputs": [
    {
     "output_type": "display_data",
     "data": {
      "application/vnd.plotly.v1+json": {
       "config": {
        "plotlyServerURL": "https://plot.ly"
       },
       "data": [
        {
         "hovertemplate": "stat=min<br>month=1<br>hour=%{x}<br>value=%{y}<extra></extra>",
         "legendgroup": "min",
         "line": {
          "color": "lightskyblue",
          "dash": "solid"
         },
         "mode": "lines",
         "name": "min",
         "showlegend": true,
         "type": "scattergl",
         "x": [
          0,
          1,
          2,
          3,
          4,
          5,
          6,
          7,
          8,
          9,
          10,
          11,
          12,
          13,
          14,
          15,
          16,
          17,
          18,
          19,
          20,
          21,
          22,
          23
         ],
         "xaxis": "x10",
         "y": [
          0.04094,
          0.04094,
          0.04094,
          0.04094,
          0.04094,
          0.04094,
          0.04094,
          0.04094,
          0.06476,
          0.06476,
          0.06476,
          0.06476,
          0.06476,
          0.06476,
          0.06476,
          0.06476,
          0.06476,
          0.06476,
          0.06476,
          0.06476,
          0.06476,
          0.04094,
          0.04094,
          0.04094
         ],
         "yaxis": "y10"
        },
        {
         "hovertemplate": "stat=min<br>month=2<br>hour=%{x}<br>value=%{y}<extra></extra>",
         "legendgroup": "min",
         "line": {
          "color": "lightskyblue",
          "dash": "solid"
         },
         "mode": "lines",
         "name": "min",
         "showlegend": false,
         "type": "scattergl",
         "x": [
          0,
          1,
          2,
          3,
          4,
          5,
          6,
          7,
          8,
          9,
          10,
          11,
          12,
          13,
          14,
          15,
          16,
          17,
          18,
          19,
          20,
          21,
          22,
          23
         ],
         "xaxis": "x11",
         "y": [
          0.04094,
          0.04094,
          0.04094,
          0.04094,
          0.04094,
          0.04094,
          0.04094,
          0.04094,
          0.06476,
          0.06476,
          0.06476,
          0.06476,
          0.06476,
          0.06476,
          0.06476,
          0.06476,
          0.06476,
          0.06476,
          0.06476,
          0.06476,
          0.06476,
          0.04094,
          0.04094,
          0.04094
         ],
         "yaxis": "y11"
        },
        {
         "hovertemplate": "stat=min<br>month=3<br>hour=%{x}<br>value=%{y}<extra></extra>",
         "legendgroup": "min",
         "line": {
          "color": "lightskyblue",
          "dash": "solid"
         },
         "mode": "lines",
         "name": "min",
         "showlegend": false,
         "type": "scattergl",
         "x": [
          0,
          1,
          2,
          3,
          4,
          5,
          6,
          7,
          8,
          9,
          10,
          11,
          12,
          13,
          14,
          15,
          16,
          17,
          18,
          19,
          20,
          21,
          22,
          23
         ],
         "xaxis": "x12",
         "y": [
          0.04094,
          0.04094,
          0.04094,
          0.04094,
          0.04094,
          0.04094,
          0.04094,
          0.04094,
          0.06476,
          0.06476,
          0.06476,
          0.06476,
          0.06476,
          0.06476,
          0.06476,
          0.06476,
          0.06476,
          0.06476,
          0.06476,
          0.06476,
          0.06476,
          0.04094,
          0.04094,
          0.04094
         ],
         "yaxis": "y12"
        },
        {
         "hovertemplate": "stat=min<br>month=4<br>hour=%{x}<br>value=%{y}<extra></extra>",
         "legendgroup": "min",
         "line": {
          "color": "lightskyblue",
          "dash": "solid"
         },
         "mode": "lines",
         "name": "min",
         "showlegend": false,
         "type": "scattergl",
         "x": [
          0,
          1,
          2,
          3,
          4,
          5,
          6,
          7,
          8,
          9,
          10,
          11,
          12,
          13,
          14,
          15,
          16,
          17,
          18,
          19,
          20,
          21,
          22,
          23
         ],
         "xaxis": "x7",
         "y": [
          0.04094,
          0.04094,
          0.04094,
          0.04094,
          0.04094,
          0.04094,
          0.04094,
          0.04094,
          0.06476,
          0.06476,
          0.06476,
          0.06476,
          0.06476,
          0.06476,
          0.06476,
          0.06476,
          0.06476,
          0.06476,
          0.06476,
          0.06476,
          0.06476,
          0.04094,
          0.04094,
          0.04094
         ],
         "yaxis": "y7"
        },
        {
         "hovertemplate": "stat=min<br>month=5<br>hour=%{x}<br>value=%{y}<extra></extra>",
         "legendgroup": "min",
         "line": {
          "color": "lightskyblue",
          "dash": "solid"
         },
         "mode": "lines",
         "name": "min",
         "showlegend": false,
         "type": "scattergl",
         "x": [
          0,
          1,
          2,
          3,
          4,
          5,
          6,
          7,
          8,
          9,
          10,
          11,
          12,
          13,
          14,
          15,
          16,
          17,
          18,
          19,
          20,
          21,
          22,
          23
         ],
         "xaxis": "x8",
         "y": [
          0.04094,
          0.04094,
          0.04094,
          0.04094,
          0.04094,
          0.04094,
          0.04094,
          0.04094,
          0.06476,
          0.06476,
          0.06476,
          0.06476,
          0.06476,
          0.06476,
          0.06476,
          0.06476,
          0.06476,
          0.06476,
          0.06476,
          0.06476,
          0.06476,
          0.04094,
          0.04094,
          0.04094
         ],
         "yaxis": "y8"
        },
        {
         "hovertemplate": "stat=min<br>month=6<br>hour=%{x}<br>value=%{y}<extra></extra>",
         "legendgroup": "min",
         "line": {
          "color": "lightskyblue",
          "dash": "solid"
         },
         "mode": "lines",
         "name": "min",
         "showlegend": false,
         "type": "scattergl",
         "x": [
          0,
          1,
          2,
          3,
          4,
          5,
          6,
          7,
          8,
          9,
          10,
          11,
          12,
          13,
          14,
          15,
          16,
          17,
          18,
          19,
          20,
          21,
          22,
          23
         ],
         "xaxis": "x9",
         "y": [
          0.0429,
          0.0429,
          0.0429,
          0.0429,
          0.0429,
          0.0429,
          0.0429,
          0.0429,
          0.06719,
          0.06719,
          0.06719,
          0.06719,
          0.11175,
          0.11175,
          0.11175,
          0.11175,
          0.11175,
          0.11175,
          0.06719,
          0.06719,
          0.06719,
          0.06719,
          0.06719,
          0.0429
         ],
         "yaxis": "y9"
        },
        {
         "hovertemplate": "stat=min<br>month=7<br>hour=%{x}<br>value=%{y}<extra></extra>",
         "legendgroup": "min",
         "line": {
          "color": "lightskyblue",
          "dash": "solid"
         },
         "mode": "lines",
         "name": "min",
         "showlegend": false,
         "type": "scattergl",
         "x": [
          0,
          1,
          2,
          3,
          4,
          5,
          6,
          7,
          8,
          9,
          10,
          11,
          12,
          13,
          14,
          15,
          16,
          17,
          18,
          19,
          20,
          21,
          22,
          23
         ],
         "xaxis": "x4",
         "y": [
          0.0429,
          0.0429,
          0.0429,
          0.0429,
          0.0429,
          0.0429,
          0.0429,
          0.0429,
          0.06719,
          0.06719,
          0.06719,
          0.06719,
          0.11175,
          0.11175,
          0.11175,
          0.11175,
          0.11175,
          0.11175,
          0.06719,
          0.06719,
          0.06719,
          0.06719,
          0.06719,
          0.0429
         ],
         "yaxis": "y4"
        },
        {
         "hovertemplate": "stat=min<br>month=8<br>hour=%{x}<br>value=%{y}<extra></extra>",
         "legendgroup": "min",
         "line": {
          "color": "lightskyblue",
          "dash": "solid"
         },
         "mode": "lines",
         "name": "min",
         "showlegend": false,
         "type": "scattergl",
         "x": [
          0,
          1,
          2,
          3,
          4,
          5,
          6,
          7,
          8,
          9,
          10,
          11,
          12,
          13,
          14,
          15,
          16,
          17,
          18,
          19,
          20,
          21,
          22,
          23
         ],
         "xaxis": "x5",
         "y": [
          0.0429,
          0.0429,
          0.0429,
          0.0429,
          0.0429,
          0.0429,
          0.0429,
          0.0429,
          0.06719,
          0.06719,
          0.06719,
          0.06719,
          0.11175,
          0.11175,
          0.11175,
          0.11175,
          0.11175,
          0.11175,
          0.06719,
          0.06719,
          0.06719,
          0.06719,
          0.06719,
          0.0429
         ],
         "yaxis": "y5"
        },
        {
         "hovertemplate": "stat=min<br>month=9<br>hour=%{x}<br>value=%{y}<extra></extra>",
         "legendgroup": "min",
         "line": {
          "color": "lightskyblue",
          "dash": "solid"
         },
         "mode": "lines",
         "name": "min",
         "showlegend": false,
         "type": "scattergl",
         "x": [
          0,
          1,
          2,
          3,
          4,
          5,
          6,
          7,
          8,
          9,
          10,
          11,
          12,
          13,
          14,
          15,
          16,
          17,
          18,
          19,
          20,
          21,
          22,
          23
         ],
         "xaxis": "x6",
         "y": [
          0.0429,
          0.0429,
          0.0429,
          0.0429,
          0.0429,
          0.0429,
          0.0429,
          0.0429,
          0.06719,
          0.06719,
          0.06719,
          0.06719,
          0.11175,
          0.11175,
          0.11175,
          0.11175,
          0.11175,
          0.11175,
          0.06719,
          0.06719,
          0.06719,
          0.06719,
          0.06719,
          0.0429
         ],
         "yaxis": "y6"
        },
        {
         "hovertemplate": "stat=min<br>month=10<br>hour=%{x}<br>value=%{y}<extra></extra>",
         "legendgroup": "min",
         "line": {
          "color": "lightskyblue",
          "dash": "solid"
         },
         "mode": "lines",
         "name": "min",
         "showlegend": false,
         "type": "scattergl",
         "x": [
          0,
          1,
          2,
          3,
          4,
          5,
          6,
          7,
          8,
          9,
          10,
          11,
          12,
          13,
          14,
          15,
          16,
          17,
          18,
          19,
          20,
          21,
          22,
          23
         ],
         "xaxis": "x",
         "y": [
          0.04094,
          0.04094,
          0.04094,
          0.04094,
          0.04094,
          0.04094,
          0.04094,
          0.04094,
          0.06476,
          0.06476,
          0.06476,
          0.06476,
          0.06476,
          0.06476,
          0.06476,
          0.06476,
          0.06476,
          0.06476,
          0.06476,
          0.06476,
          0.06476,
          0.04094,
          0.04094,
          0.04094
         ],
         "yaxis": "y"
        },
        {
         "hovertemplate": "stat=min<br>month=11<br>hour=%{x}<br>value=%{y}<extra></extra>",
         "legendgroup": "min",
         "line": {
          "color": "lightskyblue",
          "dash": "solid"
         },
         "mode": "lines",
         "name": "min",
         "showlegend": false,
         "type": "scattergl",
         "x": [
          0,
          1,
          2,
          3,
          4,
          5,
          6,
          7,
          8,
          9,
          10,
          11,
          12,
          13,
          14,
          15,
          16,
          17,
          18,
          19,
          20,
          21,
          22,
          23
         ],
         "xaxis": "x2",
         "y": [
          0.04094,
          0.04094,
          0.04094,
          0.04094,
          0.04094,
          0.04094,
          0.04094,
          0.04094,
          0.06476,
          0.06476,
          0.06476,
          0.06476,
          0.06476,
          0.06476,
          0.06476,
          0.06476,
          0.06476,
          0.06476,
          0.06476,
          0.06476,
          0.06476,
          0.04094,
          0.04094,
          0.04094
         ],
         "yaxis": "y2"
        },
        {
         "hovertemplate": "stat=min<br>month=12<br>hour=%{x}<br>value=%{y}<extra></extra>",
         "legendgroup": "min",
         "line": {
          "color": "lightskyblue",
          "dash": "solid"
         },
         "mode": "lines",
         "name": "min",
         "showlegend": false,
         "type": "scattergl",
         "x": [
          0,
          1,
          2,
          3,
          4,
          5,
          6,
          7,
          8,
          9,
          10,
          11,
          12,
          13,
          14,
          15,
          16,
          17,
          18,
          19,
          20,
          21,
          22,
          23
         ],
         "xaxis": "x3",
         "y": [
          0.04094,
          0.04094,
          0.04094,
          0.04094,
          0.04094,
          0.04094,
          0.04094,
          0.04094,
          0.06476,
          0.06476,
          0.06476,
          0.06476,
          0.06476,
          0.06476,
          0.06476,
          0.06476,
          0.06476,
          0.06476,
          0.06476,
          0.06476,
          0.06476,
          0.04094,
          0.04094,
          0.04094
         ],
         "yaxis": "y3"
        },
        {
         "hovertemplate": "stat=25%<br>month=1<br>hour=%{x}<br>value=%{y}<extra></extra>",
         "legendgroup": "25%",
         "line": {
          "color": "royalblue",
          "dash": "solid"
         },
         "mode": "lines",
         "name": "25%",
         "showlegend": true,
         "type": "scattergl",
         "x": [
          0,
          1,
          2,
          3,
          4,
          5,
          6,
          7,
          8,
          9,
          10,
          11,
          12,
          13,
          14,
          15,
          16,
          17,
          18,
          19,
          20,
          21,
          22,
          23
         ],
         "xaxis": "x10",
         "y": [
          0.05808,
          0.05808,
          0.05808,
          0.05808,
          0.05808,
          0.05808,
          0.05808,
          0.05808,
          0.073875,
          0.073875,
          0.073875,
          0.073875,
          0.073875,
          0.073875,
          0.073875,
          0.073875,
          0.073875,
          0.073875,
          0.073875,
          0.073875,
          0.073875,
          0.05808,
          0.05808,
          0.05808
         ],
         "yaxis": "y10"
        },
        {
         "hovertemplate": "stat=25%<br>month=2<br>hour=%{x}<br>value=%{y}<extra></extra>",
         "legendgroup": "25%",
         "line": {
          "color": "royalblue",
          "dash": "solid"
         },
         "mode": "lines",
         "name": "25%",
         "showlegend": false,
         "type": "scattergl",
         "x": [
          0,
          1,
          2,
          3,
          4,
          5,
          6,
          7,
          8,
          9,
          10,
          11,
          12,
          13,
          14,
          15,
          16,
          17,
          18,
          19,
          20,
          21,
          22,
          23
         ],
         "xaxis": "x11",
         "y": [
          0.05808,
          0.05808,
          0.05808,
          0.05808,
          0.05808,
          0.05808,
          0.05808,
          0.05808,
          0.073875,
          0.073875,
          0.073875,
          0.073875,
          0.073875,
          0.073875,
          0.073875,
          0.073875,
          0.073875,
          0.073875,
          0.073875,
          0.073875,
          0.073875,
          0.05808,
          0.05808,
          0.05808
         ],
         "yaxis": "y11"
        },
        {
         "hovertemplate": "stat=25%<br>month=3<br>hour=%{x}<br>value=%{y}<extra></extra>",
         "legendgroup": "25%",
         "line": {
          "color": "royalblue",
          "dash": "solid"
         },
         "mode": "lines",
         "name": "25%",
         "showlegend": false,
         "type": "scattergl",
         "x": [
          0,
          1,
          2,
          3,
          4,
          5,
          6,
          7,
          8,
          9,
          10,
          11,
          12,
          13,
          14,
          15,
          16,
          17,
          18,
          19,
          20,
          21,
          22,
          23
         ],
         "xaxis": "x12",
         "y": [
          0.05808,
          0.05808,
          0.05808,
          0.05808,
          0.05808,
          0.05808,
          0.05808,
          0.05808,
          0.073875,
          0.073875,
          0.073875,
          0.073875,
          0.073875,
          0.073875,
          0.073875,
          0.073875,
          0.073875,
          0.073875,
          0.073875,
          0.073875,
          0.073875,
          0.05808,
          0.05808,
          0.05808
         ],
         "yaxis": "y12"
        },
        {
         "hovertemplate": "stat=25%<br>month=4<br>hour=%{x}<br>value=%{y}<extra></extra>",
         "legendgroup": "25%",
         "line": {
          "color": "royalblue",
          "dash": "solid"
         },
         "mode": "lines",
         "name": "25%",
         "showlegend": false,
         "type": "scattergl",
         "x": [
          0,
          1,
          2,
          3,
          4,
          5,
          6,
          7,
          8,
          9,
          10,
          11,
          12,
          13,
          14,
          15,
          16,
          17,
          18,
          19,
          20,
          21,
          22,
          23
         ],
         "xaxis": "x7",
         "y": [
          0.05808,
          0.05808,
          0.05808,
          0.05808,
          0.05808,
          0.05808,
          0.05808,
          0.05808,
          0.073875,
          0.073875,
          0.073875,
          0.073875,
          0.073875,
          0.073875,
          0.073875,
          0.073875,
          0.073875,
          0.073875,
          0.073875,
          0.073875,
          0.073875,
          0.05808,
          0.05808,
          0.05808
         ],
         "yaxis": "y7"
        },
        {
         "hovertemplate": "stat=25%<br>month=5<br>hour=%{x}<br>value=%{y}<extra></extra>",
         "legendgroup": "25%",
         "line": {
          "color": "royalblue",
          "dash": "solid"
         },
         "mode": "lines",
         "name": "25%",
         "showlegend": false,
         "type": "scattergl",
         "x": [
          0,
          1,
          2,
          3,
          4,
          5,
          6,
          7,
          8,
          9,
          10,
          11,
          12,
          13,
          14,
          15,
          16,
          17,
          18,
          19,
          20,
          21,
          22,
          23
         ],
         "xaxis": "x8",
         "y": [
          0.05808,
          0.05808,
          0.05808,
          0.05808,
          0.05808,
          0.05808,
          0.05808,
          0.05808,
          0.073875,
          0.073875,
          0.073875,
          0.073875,
          0.073875,
          0.073875,
          0.073875,
          0.073875,
          0.073875,
          0.073875,
          0.073875,
          0.073875,
          0.073875,
          0.05808,
          0.05808,
          0.05808
         ],
         "yaxis": "y8"
        },
        {
         "hovertemplate": "stat=25%<br>month=6<br>hour=%{x}<br>value=%{y}<extra></extra>",
         "legendgroup": "25%",
         "line": {
          "color": "royalblue",
          "dash": "solid"
         },
         "mode": "lines",
         "name": "25%",
         "showlegend": false,
         "type": "scattergl",
         "x": [
          0,
          1,
          2,
          3,
          4,
          5,
          6,
          7,
          8,
          9,
          10,
          11,
          12,
          13,
          14,
          15,
          16,
          17,
          18,
          19,
          20,
          21,
          22,
          23
         ],
         "xaxis": "x9",
         "y": [
          0.05320999999999999,
          0.05320999999999999,
          0.05320999999999999,
          0.05320999999999999,
          0.05320999999999999,
          0.05320999999999999,
          0.05320999999999999,
          0.05320999999999999,
          0.0735575,
          0.0735575,
          0.0735575,
          0.0735575,
          0.126505,
          0.126505,
          0.126505,
          0.126505,
          0.126505,
          0.126505,
          0.0735575,
          0.0735575,
          0.0735575,
          0.0735575,
          0.0735575,
          0.05320999999999999
         ],
         "yaxis": "y9"
        },
        {
         "hovertemplate": "stat=25%<br>month=7<br>hour=%{x}<br>value=%{y}<extra></extra>",
         "legendgroup": "25%",
         "line": {
          "color": "royalblue",
          "dash": "solid"
         },
         "mode": "lines",
         "name": "25%",
         "showlegend": false,
         "type": "scattergl",
         "x": [
          0,
          1,
          2,
          3,
          4,
          5,
          6,
          7,
          8,
          9,
          10,
          11,
          12,
          13,
          14,
          15,
          16,
          17,
          18,
          19,
          20,
          21,
          22,
          23
         ],
         "xaxis": "x4",
         "y": [
          0.05320999999999999,
          0.05320999999999999,
          0.05320999999999999,
          0.05320999999999999,
          0.05320999999999999,
          0.05320999999999999,
          0.05320999999999999,
          0.05320999999999999,
          0.0735575,
          0.0735575,
          0.0735575,
          0.0735575,
          0.126505,
          0.126505,
          0.126505,
          0.126505,
          0.126505,
          0.126505,
          0.0735575,
          0.0735575,
          0.0735575,
          0.0735575,
          0.0735575,
          0.05320999999999999
         ],
         "yaxis": "y4"
        },
        {
         "hovertemplate": "stat=25%<br>month=8<br>hour=%{x}<br>value=%{y}<extra></extra>",
         "legendgroup": "25%",
         "line": {
          "color": "royalblue",
          "dash": "solid"
         },
         "mode": "lines",
         "name": "25%",
         "showlegend": false,
         "type": "scattergl",
         "x": [
          0,
          1,
          2,
          3,
          4,
          5,
          6,
          7,
          8,
          9,
          10,
          11,
          12,
          13,
          14,
          15,
          16,
          17,
          18,
          19,
          20,
          21,
          22,
          23
         ],
         "xaxis": "x5",
         "y": [
          0.05320999999999999,
          0.05320999999999999,
          0.05320999999999999,
          0.05320999999999999,
          0.05320999999999999,
          0.05320999999999999,
          0.05320999999999999,
          0.05320999999999999,
          0.0735575,
          0.0735575,
          0.0735575,
          0.0735575,
          0.126505,
          0.126505,
          0.126505,
          0.126505,
          0.126505,
          0.126505,
          0.0735575,
          0.0735575,
          0.0735575,
          0.0735575,
          0.0735575,
          0.05320999999999999
         ],
         "yaxis": "y5"
        },
        {
         "hovertemplate": "stat=25%<br>month=9<br>hour=%{x}<br>value=%{y}<extra></extra>",
         "legendgroup": "25%",
         "line": {
          "color": "royalblue",
          "dash": "solid"
         },
         "mode": "lines",
         "name": "25%",
         "showlegend": false,
         "type": "scattergl",
         "x": [
          0,
          1,
          2,
          3,
          4,
          5,
          6,
          7,
          8,
          9,
          10,
          11,
          12,
          13,
          14,
          15,
          16,
          17,
          18,
          19,
          20,
          21,
          22,
          23
         ],
         "xaxis": "x6",
         "y": [
          0.05320999999999999,
          0.05320999999999999,
          0.05320999999999999,
          0.05320999999999999,
          0.05320999999999999,
          0.05320999999999999,
          0.05320999999999999,
          0.05320999999999999,
          0.0735575,
          0.0735575,
          0.0735575,
          0.0735575,
          0.126505,
          0.126505,
          0.126505,
          0.126505,
          0.126505,
          0.126505,
          0.0735575,
          0.0735575,
          0.0735575,
          0.0735575,
          0.0735575,
          0.05320999999999999
         ],
         "yaxis": "y6"
        },
        {
         "hovertemplate": "stat=25%<br>month=10<br>hour=%{x}<br>value=%{y}<extra></extra>",
         "legendgroup": "25%",
         "line": {
          "color": "royalblue",
          "dash": "solid"
         },
         "mode": "lines",
         "name": "25%",
         "showlegend": false,
         "type": "scattergl",
         "x": [
          0,
          1,
          2,
          3,
          4,
          5,
          6,
          7,
          8,
          9,
          10,
          11,
          12,
          13,
          14,
          15,
          16,
          17,
          18,
          19,
          20,
          21,
          22,
          23
         ],
         "xaxis": "x",
         "y": [
          0.05808,
          0.05808,
          0.05808,
          0.05808,
          0.05808,
          0.05808,
          0.05808,
          0.05808,
          0.073875,
          0.073875,
          0.073875,
          0.073875,
          0.073875,
          0.073875,
          0.073875,
          0.073875,
          0.073875,
          0.073875,
          0.073875,
          0.073875,
          0.073875,
          0.05808,
          0.05808,
          0.05808
         ],
         "yaxis": "y"
        },
        {
         "hovertemplate": "stat=25%<br>month=11<br>hour=%{x}<br>value=%{y}<extra></extra>",
         "legendgroup": "25%",
         "line": {
          "color": "royalblue",
          "dash": "solid"
         },
         "mode": "lines",
         "name": "25%",
         "showlegend": false,
         "type": "scattergl",
         "x": [
          0,
          1,
          2,
          3,
          4,
          5,
          6,
          7,
          8,
          9,
          10,
          11,
          12,
          13,
          14,
          15,
          16,
          17,
          18,
          19,
          20,
          21,
          22,
          23
         ],
         "xaxis": "x2",
         "y": [
          0.05808,
          0.05808,
          0.05808,
          0.05808,
          0.05808,
          0.05808,
          0.05808,
          0.05808,
          0.073875,
          0.073875,
          0.073875,
          0.073875,
          0.073875,
          0.073875,
          0.073875,
          0.073875,
          0.073875,
          0.073875,
          0.073875,
          0.073875,
          0.073875,
          0.05808,
          0.05808,
          0.05808
         ],
         "yaxis": "y2"
        },
        {
         "hovertemplate": "stat=25%<br>month=12<br>hour=%{x}<br>value=%{y}<extra></extra>",
         "legendgroup": "25%",
         "line": {
          "color": "royalblue",
          "dash": "solid"
         },
         "mode": "lines",
         "name": "25%",
         "showlegend": false,
         "type": "scattergl",
         "x": [
          0,
          1,
          2,
          3,
          4,
          5,
          6,
          7,
          8,
          9,
          10,
          11,
          12,
          13,
          14,
          15,
          16,
          17,
          18,
          19,
          20,
          21,
          22,
          23
         ],
         "xaxis": "x3",
         "y": [
          0.05808,
          0.05808,
          0.05808,
          0.05808,
          0.05808,
          0.05808,
          0.05808,
          0.05808,
          0.073875,
          0.073875,
          0.073875,
          0.073875,
          0.073875,
          0.073875,
          0.073875,
          0.073875,
          0.073875,
          0.073875,
          0.073875,
          0.073875,
          0.073875,
          0.05808,
          0.05808,
          0.05808
         ],
         "yaxis": "y3"
        },
        {
         "hovertemplate": "stat=50%<br>month=1<br>hour=%{x}<br>value=%{y}<extra></extra>",
         "legendgroup": "50%",
         "line": {
          "color": "black",
          "dash": "solid"
         },
         "mode": "lines",
         "name": "50%",
         "showlegend": true,
         "type": "scattergl",
         "x": [
          0,
          1,
          2,
          3,
          4,
          5,
          6,
          7,
          8,
          9,
          10,
          11,
          12,
          13,
          14,
          15,
          16,
          17,
          18,
          19,
          20,
          21,
          22,
          23
         ],
         "xaxis": "x10",
         "y": [
          0.0613,
          0.0613,
          0.0613,
          0.0613,
          0.0613,
          0.0613,
          0.0613,
          0.0613,
          0.084375,
          0.084375,
          0.084375,
          0.084375,
          0.084375,
          0.084375,
          0.084375,
          0.084375,
          0.084375,
          0.084375,
          0.084375,
          0.084375,
          0.084375,
          0.0613,
          0.0613,
          0.0613
         ],
         "yaxis": "y10"
        },
        {
         "hovertemplate": "stat=50%<br>month=2<br>hour=%{x}<br>value=%{y}<extra></extra>",
         "legendgroup": "50%",
         "line": {
          "color": "black",
          "dash": "solid"
         },
         "mode": "lines",
         "name": "50%",
         "showlegend": false,
         "type": "scattergl",
         "x": [
          0,
          1,
          2,
          3,
          4,
          5,
          6,
          7,
          8,
          9,
          10,
          11,
          12,
          13,
          14,
          15,
          16,
          17,
          18,
          19,
          20,
          21,
          22,
          23
         ],
         "xaxis": "x11",
         "y": [
          0.0613,
          0.0613,
          0.0613,
          0.0613,
          0.0613,
          0.0613,
          0.0613,
          0.0613,
          0.084375,
          0.084375,
          0.084375,
          0.084375,
          0.084375,
          0.084375,
          0.084375,
          0.084375,
          0.084375,
          0.084375,
          0.084375,
          0.084375,
          0.084375,
          0.0613,
          0.0613,
          0.0613
         ],
         "yaxis": "y11"
        },
        {
         "hovertemplate": "stat=50%<br>month=3<br>hour=%{x}<br>value=%{y}<extra></extra>",
         "legendgroup": "50%",
         "line": {
          "color": "black",
          "dash": "solid"
         },
         "mode": "lines",
         "name": "50%",
         "showlegend": false,
         "type": "scattergl",
         "x": [
          0,
          1,
          2,
          3,
          4,
          5,
          6,
          7,
          8,
          9,
          10,
          11,
          12,
          13,
          14,
          15,
          16,
          17,
          18,
          19,
          20,
          21,
          22,
          23
         ],
         "xaxis": "x12",
         "y": [
          0.0613,
          0.0613,
          0.0613,
          0.0613,
          0.0613,
          0.0613,
          0.0613,
          0.0613,
          0.084375,
          0.084375,
          0.084375,
          0.084375,
          0.084375,
          0.084375,
          0.084375,
          0.084375,
          0.084375,
          0.084375,
          0.084375,
          0.084375,
          0.084375,
          0.0613,
          0.0613,
          0.0613
         ],
         "yaxis": "y12"
        },
        {
         "hovertemplate": "stat=50%<br>month=4<br>hour=%{x}<br>value=%{y}<extra></extra>",
         "legendgroup": "50%",
         "line": {
          "color": "black",
          "dash": "solid"
         },
         "mode": "lines",
         "name": "50%",
         "showlegend": false,
         "type": "scattergl",
         "x": [
          0,
          1,
          2,
          3,
          4,
          5,
          6,
          7,
          8,
          9,
          10,
          11,
          12,
          13,
          14,
          15,
          16,
          17,
          18,
          19,
          20,
          21,
          22,
          23
         ],
         "xaxis": "x7",
         "y": [
          0.0613,
          0.0613,
          0.0613,
          0.0613,
          0.0613,
          0.0613,
          0.0613,
          0.0613,
          0.084375,
          0.084375,
          0.084375,
          0.084375,
          0.084375,
          0.084375,
          0.084375,
          0.084375,
          0.084375,
          0.084375,
          0.084375,
          0.084375,
          0.084375,
          0.0613,
          0.0613,
          0.0613
         ],
         "yaxis": "y7"
        },
        {
         "hovertemplate": "stat=50%<br>month=5<br>hour=%{x}<br>value=%{y}<extra></extra>",
         "legendgroup": "50%",
         "line": {
          "color": "black",
          "dash": "solid"
         },
         "mode": "lines",
         "name": "50%",
         "showlegend": false,
         "type": "scattergl",
         "x": [
          0,
          1,
          2,
          3,
          4,
          5,
          6,
          7,
          8,
          9,
          10,
          11,
          12,
          13,
          14,
          15,
          16,
          17,
          18,
          19,
          20,
          21,
          22,
          23
         ],
         "xaxis": "x8",
         "y": [
          0.0613,
          0.0613,
          0.0613,
          0.0613,
          0.0613,
          0.0613,
          0.0613,
          0.0613,
          0.084375,
          0.084375,
          0.084375,
          0.084375,
          0.084375,
          0.084375,
          0.084375,
          0.084375,
          0.084375,
          0.084375,
          0.084375,
          0.084375,
          0.084375,
          0.0613,
          0.0613,
          0.0613
         ],
         "yaxis": "y8"
        },
        {
         "hovertemplate": "stat=50%<br>month=6<br>hour=%{x}<br>value=%{y}<extra></extra>",
         "legendgroup": "50%",
         "line": {
          "color": "black",
          "dash": "solid"
         },
         "mode": "lines",
         "name": "50%",
         "showlegend": false,
         "type": "scattergl",
         "x": [
          0,
          1,
          2,
          3,
          4,
          5,
          6,
          7,
          8,
          9,
          10,
          11,
          12,
          13,
          14,
          15,
          16,
          17,
          18,
          19,
          20,
          21,
          22,
          23
         ],
         "xaxis": "x9",
         "y": [
          0.05609,
          0.05609,
          0.05609,
          0.05609,
          0.05609,
          0.05609,
          0.05609,
          0.05609,
          0.08135,
          0.08135,
          0.08135,
          0.08135,
          0.13205999999999998,
          0.13205999999999998,
          0.13205999999999998,
          0.13205999999999998,
          0.13205999999999998,
          0.13205999999999998,
          0.08135,
          0.08135,
          0.08135,
          0.08135,
          0.08135,
          0.05609
         ],
         "yaxis": "y9"
        },
        {
         "hovertemplate": "stat=50%<br>month=7<br>hour=%{x}<br>value=%{y}<extra></extra>",
         "legendgroup": "50%",
         "line": {
          "color": "black",
          "dash": "solid"
         },
         "mode": "lines",
         "name": "50%",
         "showlegend": false,
         "type": "scattergl",
         "x": [
          0,
          1,
          2,
          3,
          4,
          5,
          6,
          7,
          8,
          9,
          10,
          11,
          12,
          13,
          14,
          15,
          16,
          17,
          18,
          19,
          20,
          21,
          22,
          23
         ],
         "xaxis": "x4",
         "y": [
          0.05609,
          0.05609,
          0.05609,
          0.05609,
          0.05609,
          0.05609,
          0.05609,
          0.05609,
          0.08135,
          0.08135,
          0.08135,
          0.08135,
          0.13205999999999998,
          0.13205999999999998,
          0.13205999999999998,
          0.13205999999999998,
          0.13205999999999998,
          0.13205999999999998,
          0.08135,
          0.08135,
          0.08135,
          0.08135,
          0.08135,
          0.05609
         ],
         "yaxis": "y4"
        },
        {
         "hovertemplate": "stat=50%<br>month=8<br>hour=%{x}<br>value=%{y}<extra></extra>",
         "legendgroup": "50%",
         "line": {
          "color": "black",
          "dash": "solid"
         },
         "mode": "lines",
         "name": "50%",
         "showlegend": false,
         "type": "scattergl",
         "x": [
          0,
          1,
          2,
          3,
          4,
          5,
          6,
          7,
          8,
          9,
          10,
          11,
          12,
          13,
          14,
          15,
          16,
          17,
          18,
          19,
          20,
          21,
          22,
          23
         ],
         "xaxis": "x5",
         "y": [
          0.05609,
          0.05609,
          0.05609,
          0.05609,
          0.05609,
          0.05609,
          0.05609,
          0.05609,
          0.08135,
          0.08135,
          0.08135,
          0.08135,
          0.13205999999999998,
          0.13205999999999998,
          0.13205999999999998,
          0.13205999999999998,
          0.13205999999999998,
          0.13205999999999998,
          0.08135,
          0.08135,
          0.08135,
          0.08135,
          0.08135,
          0.05609
         ],
         "yaxis": "y5"
        },
        {
         "hovertemplate": "stat=50%<br>month=9<br>hour=%{x}<br>value=%{y}<extra></extra>",
         "legendgroup": "50%",
         "line": {
          "color": "black",
          "dash": "solid"
         },
         "mode": "lines",
         "name": "50%",
         "showlegend": false,
         "type": "scattergl",
         "x": [
          0,
          1,
          2,
          3,
          4,
          5,
          6,
          7,
          8,
          9,
          10,
          11,
          12,
          13,
          14,
          15,
          16,
          17,
          18,
          19,
          20,
          21,
          22,
          23
         ],
         "xaxis": "x6",
         "y": [
          0.05609,
          0.05609,
          0.05609,
          0.05609,
          0.05609,
          0.05609,
          0.05609,
          0.05609,
          0.08135,
          0.08135,
          0.08135,
          0.08135,
          0.13205999999999998,
          0.13205999999999998,
          0.13205999999999998,
          0.13205999999999998,
          0.13205999999999998,
          0.13205999999999998,
          0.08135,
          0.08135,
          0.08135,
          0.08135,
          0.08135,
          0.05609
         ],
         "yaxis": "y6"
        },
        {
         "hovertemplate": "stat=50%<br>month=10<br>hour=%{x}<br>value=%{y}<extra></extra>",
         "legendgroup": "50%",
         "line": {
          "color": "black",
          "dash": "solid"
         },
         "mode": "lines",
         "name": "50%",
         "showlegend": false,
         "type": "scattergl",
         "x": [
          0,
          1,
          2,
          3,
          4,
          5,
          6,
          7,
          8,
          9,
          10,
          11,
          12,
          13,
          14,
          15,
          16,
          17,
          18,
          19,
          20,
          21,
          22,
          23
         ],
         "xaxis": "x",
         "y": [
          0.0613,
          0.0613,
          0.0613,
          0.0613,
          0.0613,
          0.0613,
          0.0613,
          0.0613,
          0.084375,
          0.084375,
          0.084375,
          0.084375,
          0.084375,
          0.084375,
          0.084375,
          0.084375,
          0.084375,
          0.084375,
          0.084375,
          0.084375,
          0.084375,
          0.0613,
          0.0613,
          0.0613
         ],
         "yaxis": "y"
        },
        {
         "hovertemplate": "stat=50%<br>month=11<br>hour=%{x}<br>value=%{y}<extra></extra>",
         "legendgroup": "50%",
         "line": {
          "color": "black",
          "dash": "solid"
         },
         "mode": "lines",
         "name": "50%",
         "showlegend": false,
         "type": "scattergl",
         "x": [
          0,
          1,
          2,
          3,
          4,
          5,
          6,
          7,
          8,
          9,
          10,
          11,
          12,
          13,
          14,
          15,
          16,
          17,
          18,
          19,
          20,
          21,
          22,
          23
         ],
         "xaxis": "x2",
         "y": [
          0.0613,
          0.0613,
          0.0613,
          0.0613,
          0.0613,
          0.0613,
          0.0613,
          0.0613,
          0.084375,
          0.084375,
          0.084375,
          0.084375,
          0.084375,
          0.084375,
          0.084375,
          0.084375,
          0.084375,
          0.084375,
          0.084375,
          0.084375,
          0.084375,
          0.0613,
          0.0613,
          0.0613
         ],
         "yaxis": "y2"
        },
        {
         "hovertemplate": "stat=50%<br>month=12<br>hour=%{x}<br>value=%{y}<extra></extra>",
         "legendgroup": "50%",
         "line": {
          "color": "black",
          "dash": "solid"
         },
         "mode": "lines",
         "name": "50%",
         "showlegend": false,
         "type": "scattergl",
         "x": [
          0,
          1,
          2,
          3,
          4,
          5,
          6,
          7,
          8,
          9,
          10,
          11,
          12,
          13,
          14,
          15,
          16,
          17,
          18,
          19,
          20,
          21,
          22,
          23
         ],
         "xaxis": "x3",
         "y": [
          0.0613,
          0.0613,
          0.0613,
          0.0613,
          0.0613,
          0.0613,
          0.0613,
          0.0613,
          0.084375,
          0.084375,
          0.084375,
          0.084375,
          0.084375,
          0.084375,
          0.084375,
          0.084375,
          0.084375,
          0.084375,
          0.084375,
          0.084375,
          0.084375,
          0.0613,
          0.0613,
          0.0613
         ],
         "yaxis": "y3"
        },
        {
         "hovertemplate": "stat=75%<br>month=1<br>hour=%{x}<br>value=%{y}<extra></extra>",
         "legendgroup": "75%",
         "line": {
          "color": "royalblue",
          "dash": "solid"
         },
         "mode": "lines",
         "name": "75%",
         "showlegend": true,
         "type": "scattergl",
         "x": [
          0,
          1,
          2,
          3,
          4,
          5,
          6,
          7,
          8,
          9,
          10,
          11,
          12,
          13,
          14,
          15,
          16,
          17,
          18,
          19,
          20,
          21,
          22,
          23
         ],
         "xaxis": "x10",
         "y": [
          0.06674,
          0.06674,
          0.06674,
          0.06674,
          0.06674,
          0.06674,
          0.06674,
          0.06674,
          0.08747,
          0.08747,
          0.08747,
          0.08747,
          0.08747,
          0.08747,
          0.08747,
          0.08747,
          0.08747,
          0.08747,
          0.08747,
          0.08747,
          0.08747,
          0.06674,
          0.06674,
          0.06674
         ],
         "yaxis": "y10"
        },
        {
         "hovertemplate": "stat=75%<br>month=2<br>hour=%{x}<br>value=%{y}<extra></extra>",
         "legendgroup": "75%",
         "line": {
          "color": "royalblue",
          "dash": "solid"
         },
         "mode": "lines",
         "name": "75%",
         "showlegend": false,
         "type": "scattergl",
         "x": [
          0,
          1,
          2,
          3,
          4,
          5,
          6,
          7,
          8,
          9,
          10,
          11,
          12,
          13,
          14,
          15,
          16,
          17,
          18,
          19,
          20,
          21,
          22,
          23
         ],
         "xaxis": "x11",
         "y": [
          0.06674,
          0.06674,
          0.06674,
          0.06674,
          0.06674,
          0.06674,
          0.06674,
          0.06674,
          0.08747,
          0.08747,
          0.08747,
          0.08747,
          0.08747,
          0.08747,
          0.08747,
          0.08747,
          0.08747,
          0.08747,
          0.08747,
          0.08747,
          0.08747,
          0.06674,
          0.06674,
          0.06674
         ],
         "yaxis": "y11"
        },
        {
         "hovertemplate": "stat=75%<br>month=3<br>hour=%{x}<br>value=%{y}<extra></extra>",
         "legendgroup": "75%",
         "line": {
          "color": "royalblue",
          "dash": "solid"
         },
         "mode": "lines",
         "name": "75%",
         "showlegend": false,
         "type": "scattergl",
         "x": [
          0,
          1,
          2,
          3,
          4,
          5,
          6,
          7,
          8,
          9,
          10,
          11,
          12,
          13,
          14,
          15,
          16,
          17,
          18,
          19,
          20,
          21,
          22,
          23
         ],
         "xaxis": "x12",
         "y": [
          0.06674,
          0.06674,
          0.06674,
          0.06674,
          0.06674,
          0.06674,
          0.06674,
          0.06674,
          0.08747,
          0.08747,
          0.08747,
          0.08747,
          0.08747,
          0.08747,
          0.08747,
          0.08747,
          0.08747,
          0.08747,
          0.08747,
          0.08747,
          0.08747,
          0.06674,
          0.06674,
          0.06674
         ],
         "yaxis": "y12"
        },
        {
         "hovertemplate": "stat=75%<br>month=4<br>hour=%{x}<br>value=%{y}<extra></extra>",
         "legendgroup": "75%",
         "line": {
          "color": "royalblue",
          "dash": "solid"
         },
         "mode": "lines",
         "name": "75%",
         "showlegend": false,
         "type": "scattergl",
         "x": [
          0,
          1,
          2,
          3,
          4,
          5,
          6,
          7,
          8,
          9,
          10,
          11,
          12,
          13,
          14,
          15,
          16,
          17,
          18,
          19,
          20,
          21,
          22,
          23
         ],
         "xaxis": "x7",
         "y": [
          0.06674,
          0.06674,
          0.06674,
          0.06674,
          0.06674,
          0.06674,
          0.06674,
          0.06674,
          0.08747,
          0.08747,
          0.08747,
          0.08747,
          0.08747,
          0.08747,
          0.08747,
          0.08747,
          0.08747,
          0.08747,
          0.08747,
          0.08747,
          0.08747,
          0.06674,
          0.06674,
          0.06674
         ],
         "yaxis": "y7"
        },
        {
         "hovertemplate": "stat=75%<br>month=5<br>hour=%{x}<br>value=%{y}<extra></extra>",
         "legendgroup": "75%",
         "line": {
          "color": "royalblue",
          "dash": "solid"
         },
         "mode": "lines",
         "name": "75%",
         "showlegend": false,
         "type": "scattergl",
         "x": [
          0,
          1,
          2,
          3,
          4,
          5,
          6,
          7,
          8,
          9,
          10,
          11,
          12,
          13,
          14,
          15,
          16,
          17,
          18,
          19,
          20,
          21,
          22,
          23
         ],
         "xaxis": "x8",
         "y": [
          0.06674,
          0.06674,
          0.06674,
          0.06674,
          0.06674,
          0.06674,
          0.06674,
          0.06674,
          0.08747,
          0.08747,
          0.08747,
          0.08747,
          0.08747,
          0.08747,
          0.08747,
          0.08747,
          0.08747,
          0.08747,
          0.08747,
          0.08747,
          0.08747,
          0.06674,
          0.06674,
          0.06674
         ],
         "yaxis": "y8"
        },
        {
         "hovertemplate": "stat=75%<br>month=6<br>hour=%{x}<br>value=%{y}<extra></extra>",
         "legendgroup": "75%",
         "line": {
          "color": "royalblue",
          "dash": "solid"
         },
         "mode": "lines",
         "name": "75%",
         "showlegend": false,
         "type": "scattergl",
         "x": [
          0,
          1,
          2,
          3,
          4,
          5,
          6,
          7,
          8,
          9,
          10,
          11,
          12,
          13,
          14,
          15,
          16,
          17,
          18,
          19,
          20,
          21,
          22,
          23
         ],
         "xaxis": "x9",
         "y": [
          0.06106,
          0.06106,
          0.06106,
          0.06106,
          0.06106,
          0.06106,
          0.06106,
          0.06106,
          0.09018999999999999,
          0.09018999999999999,
          0.09018999999999999,
          0.09018999999999999,
          0.24278499999999997,
          0.24278499999999997,
          0.24278499999999997,
          0.24278499999999997,
          0.24278499999999997,
          0.24278499999999997,
          0.09018999999999999,
          0.09018999999999999,
          0.09018999999999999,
          0.09018999999999999,
          0.09018999999999999,
          0.06106
         ],
         "yaxis": "y9"
        },
        {
         "hovertemplate": "stat=75%<br>month=7<br>hour=%{x}<br>value=%{y}<extra></extra>",
         "legendgroup": "75%",
         "line": {
          "color": "royalblue",
          "dash": "solid"
         },
         "mode": "lines",
         "name": "75%",
         "showlegend": false,
         "type": "scattergl",
         "x": [
          0,
          1,
          2,
          3,
          4,
          5,
          6,
          7,
          8,
          9,
          10,
          11,
          12,
          13,
          14,
          15,
          16,
          17,
          18,
          19,
          20,
          21,
          22,
          23
         ],
         "xaxis": "x4",
         "y": [
          0.06106,
          0.06106,
          0.06106,
          0.06106,
          0.06106,
          0.06106,
          0.06106,
          0.06106,
          0.09018999999999999,
          0.09018999999999999,
          0.09018999999999999,
          0.09018999999999999,
          0.24278499999999997,
          0.24278499999999997,
          0.24278499999999997,
          0.24278499999999997,
          0.24278499999999997,
          0.24278499999999997,
          0.09018999999999999,
          0.09018999999999999,
          0.09018999999999999,
          0.09018999999999999,
          0.09018999999999999,
          0.06106
         ],
         "yaxis": "y4"
        },
        {
         "hovertemplate": "stat=75%<br>month=8<br>hour=%{x}<br>value=%{y}<extra></extra>",
         "legendgroup": "75%",
         "line": {
          "color": "royalblue",
          "dash": "solid"
         },
         "mode": "lines",
         "name": "75%",
         "showlegend": false,
         "type": "scattergl",
         "x": [
          0,
          1,
          2,
          3,
          4,
          5,
          6,
          7,
          8,
          9,
          10,
          11,
          12,
          13,
          14,
          15,
          16,
          17,
          18,
          19,
          20,
          21,
          22,
          23
         ],
         "xaxis": "x5",
         "y": [
          0.06106,
          0.06106,
          0.06106,
          0.06106,
          0.06106,
          0.06106,
          0.06106,
          0.06106,
          0.09018999999999999,
          0.09018999999999999,
          0.09018999999999999,
          0.09018999999999999,
          0.24278499999999997,
          0.24278499999999997,
          0.24278499999999997,
          0.24278499999999997,
          0.24278499999999997,
          0.24278499999999997,
          0.09018999999999999,
          0.09018999999999999,
          0.09018999999999999,
          0.09018999999999999,
          0.09018999999999999,
          0.06106
         ],
         "yaxis": "y5"
        },
        {
         "hovertemplate": "stat=75%<br>month=9<br>hour=%{x}<br>value=%{y}<extra></extra>",
         "legendgroup": "75%",
         "line": {
          "color": "royalblue",
          "dash": "solid"
         },
         "mode": "lines",
         "name": "75%",
         "showlegend": false,
         "type": "scattergl",
         "x": [
          0,
          1,
          2,
          3,
          4,
          5,
          6,
          7,
          8,
          9,
          10,
          11,
          12,
          13,
          14,
          15,
          16,
          17,
          18,
          19,
          20,
          21,
          22,
          23
         ],
         "xaxis": "x6",
         "y": [
          0.06106,
          0.06106,
          0.06106,
          0.06106,
          0.06106,
          0.06106,
          0.06106,
          0.06106,
          0.09018999999999999,
          0.09018999999999999,
          0.09018999999999999,
          0.09018999999999999,
          0.24278499999999997,
          0.24278499999999997,
          0.24278499999999997,
          0.24278499999999997,
          0.24278499999999997,
          0.24278499999999997,
          0.09018999999999999,
          0.09018999999999999,
          0.09018999999999999,
          0.09018999999999999,
          0.09018999999999999,
          0.06106
         ],
         "yaxis": "y6"
        },
        {
         "hovertemplate": "stat=75%<br>month=10<br>hour=%{x}<br>value=%{y}<extra></extra>",
         "legendgroup": "75%",
         "line": {
          "color": "royalblue",
          "dash": "solid"
         },
         "mode": "lines",
         "name": "75%",
         "showlegend": false,
         "type": "scattergl",
         "x": [
          0,
          1,
          2,
          3,
          4,
          5,
          6,
          7,
          8,
          9,
          10,
          11,
          12,
          13,
          14,
          15,
          16,
          17,
          18,
          19,
          20,
          21,
          22,
          23
         ],
         "xaxis": "x",
         "y": [
          0.06674,
          0.06674,
          0.06674,
          0.06674,
          0.06674,
          0.06674,
          0.06674,
          0.06674,
          0.08747,
          0.08747,
          0.08747,
          0.08747,
          0.08747,
          0.08747,
          0.08747,
          0.08747,
          0.08747,
          0.08747,
          0.08747,
          0.08747,
          0.08747,
          0.06674,
          0.06674,
          0.06674
         ],
         "yaxis": "y"
        },
        {
         "hovertemplate": "stat=75%<br>month=11<br>hour=%{x}<br>value=%{y}<extra></extra>",
         "legendgroup": "75%",
         "line": {
          "color": "royalblue",
          "dash": "solid"
         },
         "mode": "lines",
         "name": "75%",
         "showlegend": false,
         "type": "scattergl",
         "x": [
          0,
          1,
          2,
          3,
          4,
          5,
          6,
          7,
          8,
          9,
          10,
          11,
          12,
          13,
          14,
          15,
          16,
          17,
          18,
          19,
          20,
          21,
          22,
          23
         ],
         "xaxis": "x2",
         "y": [
          0.06674,
          0.06674,
          0.06674,
          0.06674,
          0.06674,
          0.06674,
          0.06674,
          0.06674,
          0.08747,
          0.08747,
          0.08747,
          0.08747,
          0.08747,
          0.08747,
          0.08747,
          0.08747,
          0.08747,
          0.08747,
          0.08747,
          0.08747,
          0.08747,
          0.06674,
          0.06674,
          0.06674
         ],
         "yaxis": "y2"
        },
        {
         "hovertemplate": "stat=75%<br>month=12<br>hour=%{x}<br>value=%{y}<extra></extra>",
         "legendgroup": "75%",
         "line": {
          "color": "royalblue",
          "dash": "solid"
         },
         "mode": "lines",
         "name": "75%",
         "showlegend": false,
         "type": "scattergl",
         "x": [
          0,
          1,
          2,
          3,
          4,
          5,
          6,
          7,
          8,
          9,
          10,
          11,
          12,
          13,
          14,
          15,
          16,
          17,
          18,
          19,
          20,
          21,
          22,
          23
         ],
         "xaxis": "x3",
         "y": [
          0.06674,
          0.06674,
          0.06674,
          0.06674,
          0.06674,
          0.06674,
          0.06674,
          0.06674,
          0.08747,
          0.08747,
          0.08747,
          0.08747,
          0.08747,
          0.08747,
          0.08747,
          0.08747,
          0.08747,
          0.08747,
          0.08747,
          0.08747,
          0.08747,
          0.06674,
          0.06674,
          0.06674
         ],
         "yaxis": "y3"
        },
        {
         "hovertemplate": "stat=max<br>month=1<br>hour=%{x}<br>value=%{y}<extra></extra>",
         "legendgroup": "max",
         "line": {
          "color": "lightskyblue",
          "dash": "solid"
         },
         "mode": "lines",
         "name": "max",
         "showlegend": true,
         "type": "scattergl",
         "x": [
          0,
          1,
          2,
          3,
          4,
          5,
          6,
          7,
          8,
          9,
          10,
          11,
          12,
          13,
          14,
          15,
          16,
          17,
          18,
          19,
          20,
          21,
          22,
          23
         ],
         "xaxis": "x10",
         "y": [
          0.0714,
          0.0714,
          0.0714,
          0.0714,
          0.0714,
          0.0714,
          0.0714,
          0.0714,
          0.09806000000000001,
          0.09806000000000001,
          0.09806000000000001,
          0.09806000000000001,
          0.09806000000000001,
          0.09806000000000001,
          0.09806000000000001,
          0.09806000000000001,
          0.09806000000000001,
          0.09806000000000001,
          0.09806000000000001,
          0.09806000000000001,
          0.09806000000000001,
          0.0714,
          0.0714,
          0.0714
         ],
         "yaxis": "y10"
        },
        {
         "hovertemplate": "stat=max<br>month=2<br>hour=%{x}<br>value=%{y}<extra></extra>",
         "legendgroup": "max",
         "line": {
          "color": "lightskyblue",
          "dash": "solid"
         },
         "mode": "lines",
         "name": "max",
         "showlegend": false,
         "type": "scattergl",
         "x": [
          0,
          1,
          2,
          3,
          4,
          5,
          6,
          7,
          8,
          9,
          10,
          11,
          12,
          13,
          14,
          15,
          16,
          17,
          18,
          19,
          20,
          21,
          22,
          23
         ],
         "xaxis": "x11",
         "y": [
          0.0714,
          0.0714,
          0.0714,
          0.0714,
          0.0714,
          0.0714,
          0.0714,
          0.0714,
          0.09806000000000001,
          0.09806000000000001,
          0.09806000000000001,
          0.09806000000000001,
          0.09806000000000001,
          0.09806000000000001,
          0.09806000000000001,
          0.09806000000000001,
          0.09806000000000001,
          0.09806000000000001,
          0.09806000000000001,
          0.09806000000000001,
          0.09806000000000001,
          0.0714,
          0.0714,
          0.0714
         ],
         "yaxis": "y11"
        },
        {
         "hovertemplate": "stat=max<br>month=3<br>hour=%{x}<br>value=%{y}<extra></extra>",
         "legendgroup": "max",
         "line": {
          "color": "lightskyblue",
          "dash": "solid"
         },
         "mode": "lines",
         "name": "max",
         "showlegend": false,
         "type": "scattergl",
         "x": [
          0,
          1,
          2,
          3,
          4,
          5,
          6,
          7,
          8,
          9,
          10,
          11,
          12,
          13,
          14,
          15,
          16,
          17,
          18,
          19,
          20,
          21,
          22,
          23
         ],
         "xaxis": "x12",
         "y": [
          0.0714,
          0.0714,
          0.0714,
          0.0714,
          0.0714,
          0.0714,
          0.0714,
          0.0714,
          0.09806000000000001,
          0.09806000000000001,
          0.09806000000000001,
          0.09806000000000001,
          0.09806000000000001,
          0.09806000000000001,
          0.09806000000000001,
          0.09806000000000001,
          0.09806000000000001,
          0.09806000000000001,
          0.09806000000000001,
          0.09806000000000001,
          0.09806000000000001,
          0.0714,
          0.0714,
          0.0714
         ],
         "yaxis": "y12"
        },
        {
         "hovertemplate": "stat=max<br>month=4<br>hour=%{x}<br>value=%{y}<extra></extra>",
         "legendgroup": "max",
         "line": {
          "color": "lightskyblue",
          "dash": "solid"
         },
         "mode": "lines",
         "name": "max",
         "showlegend": false,
         "type": "scattergl",
         "x": [
          0,
          1,
          2,
          3,
          4,
          5,
          6,
          7,
          8,
          9,
          10,
          11,
          12,
          13,
          14,
          15,
          16,
          17,
          18,
          19,
          20,
          21,
          22,
          23
         ],
         "xaxis": "x7",
         "y": [
          0.0714,
          0.0714,
          0.0714,
          0.0714,
          0.0714,
          0.0714,
          0.0714,
          0.0714,
          0.09806000000000001,
          0.09806000000000001,
          0.09806000000000001,
          0.09806000000000001,
          0.09806000000000001,
          0.09806000000000001,
          0.09806000000000001,
          0.09806000000000001,
          0.09806000000000001,
          0.09806000000000001,
          0.09806000000000001,
          0.09806000000000001,
          0.09806000000000001,
          0.0714,
          0.0714,
          0.0714
         ],
         "yaxis": "y7"
        },
        {
         "hovertemplate": "stat=max<br>month=5<br>hour=%{x}<br>value=%{y}<extra></extra>",
         "legendgroup": "max",
         "line": {
          "color": "lightskyblue",
          "dash": "solid"
         },
         "mode": "lines",
         "name": "max",
         "showlegend": false,
         "type": "scattergl",
         "x": [
          0,
          1,
          2,
          3,
          4,
          5,
          6,
          7,
          8,
          9,
          10,
          11,
          12,
          13,
          14,
          15,
          16,
          17,
          18,
          19,
          20,
          21,
          22,
          23
         ],
         "xaxis": "x8",
         "y": [
          0.0714,
          0.0714,
          0.0714,
          0.0714,
          0.0714,
          0.0714,
          0.0714,
          0.0714,
          0.09806000000000001,
          0.09806000000000001,
          0.09806000000000001,
          0.09806000000000001,
          0.09806000000000001,
          0.09806000000000001,
          0.09806000000000001,
          0.09806000000000001,
          0.09806000000000001,
          0.09806000000000001,
          0.09806000000000001,
          0.09806000000000001,
          0.09806000000000001,
          0.0714,
          0.0714,
          0.0714
         ],
         "yaxis": "y8"
        },
        {
         "hovertemplate": "stat=max<br>month=6<br>hour=%{x}<br>value=%{y}<extra></extra>",
         "legendgroup": "max",
         "line": {
          "color": "lightskyblue",
          "dash": "solid"
         },
         "mode": "lines",
         "name": "max",
         "showlegend": false,
         "type": "scattergl",
         "x": [
          0,
          1,
          2,
          3,
          4,
          5,
          6,
          7,
          8,
          9,
          10,
          11,
          12,
          13,
          14,
          15,
          16,
          17,
          18,
          19,
          20,
          21,
          22,
          23
         ],
         "xaxis": "x9",
         "y": [
          0.0646,
          0.0646,
          0.0646,
          0.0646,
          0.0646,
          0.0646,
          0.0646,
          0.0646,
          0.13223,
          0.13223,
          0.13223,
          0.13223,
          0.38436,
          0.38436,
          0.38436,
          0.38436,
          0.38436,
          0.38436,
          0.13223,
          0.13223,
          0.13223,
          0.13223,
          0.13223,
          0.0646
         ],
         "yaxis": "y9"
        },
        {
         "hovertemplate": "stat=max<br>month=7<br>hour=%{x}<br>value=%{y}<extra></extra>",
         "legendgroup": "max",
         "line": {
          "color": "lightskyblue",
          "dash": "solid"
         },
         "mode": "lines",
         "name": "max",
         "showlegend": false,
         "type": "scattergl",
         "x": [
          0,
          1,
          2,
          3,
          4,
          5,
          6,
          7,
          8,
          9,
          10,
          11,
          12,
          13,
          14,
          15,
          16,
          17,
          18,
          19,
          20,
          21,
          22,
          23
         ],
         "xaxis": "x4",
         "y": [
          0.0646,
          0.0646,
          0.0646,
          0.0646,
          0.0646,
          0.0646,
          0.0646,
          0.0646,
          0.13223,
          0.13223,
          0.13223,
          0.13223,
          0.38436,
          0.38436,
          0.38436,
          0.38436,
          0.38436,
          0.38436,
          0.13223,
          0.13223,
          0.13223,
          0.13223,
          0.13223,
          0.0646
         ],
         "yaxis": "y4"
        },
        {
         "hovertemplate": "stat=max<br>month=8<br>hour=%{x}<br>value=%{y}<extra></extra>",
         "legendgroup": "max",
         "line": {
          "color": "lightskyblue",
          "dash": "solid"
         },
         "mode": "lines",
         "name": "max",
         "showlegend": false,
         "type": "scattergl",
         "x": [
          0,
          1,
          2,
          3,
          4,
          5,
          6,
          7,
          8,
          9,
          10,
          11,
          12,
          13,
          14,
          15,
          16,
          17,
          18,
          19,
          20,
          21,
          22,
          23
         ],
         "xaxis": "x5",
         "y": [
          0.0646,
          0.0646,
          0.0646,
          0.0646,
          0.0646,
          0.0646,
          0.0646,
          0.0646,
          0.13223,
          0.13223,
          0.13223,
          0.13223,
          0.38436,
          0.38436,
          0.38436,
          0.38436,
          0.38436,
          0.38436,
          0.13223,
          0.13223,
          0.13223,
          0.13223,
          0.13223,
          0.0646
         ],
         "yaxis": "y5"
        },
        {
         "hovertemplate": "stat=max<br>month=9<br>hour=%{x}<br>value=%{y}<extra></extra>",
         "legendgroup": "max",
         "line": {
          "color": "lightskyblue",
          "dash": "solid"
         },
         "mode": "lines",
         "name": "max",
         "showlegend": false,
         "type": "scattergl",
         "x": [
          0,
          1,
          2,
          3,
          4,
          5,
          6,
          7,
          8,
          9,
          10,
          11,
          12,
          13,
          14,
          15,
          16,
          17,
          18,
          19,
          20,
          21,
          22,
          23
         ],
         "xaxis": "x6",
         "y": [
          0.0646,
          0.0646,
          0.0646,
          0.0646,
          0.0646,
          0.0646,
          0.0646,
          0.0646,
          0.13223,
          0.13223,
          0.13223,
          0.13223,
          0.38436,
          0.38436,
          0.38436,
          0.38436,
          0.38436,
          0.38436,
          0.13223,
          0.13223,
          0.13223,
          0.13223,
          0.13223,
          0.0646
         ],
         "yaxis": "y6"
        },
        {
         "hovertemplate": "stat=max<br>month=10<br>hour=%{x}<br>value=%{y}<extra></extra>",
         "legendgroup": "max",
         "line": {
          "color": "lightskyblue",
          "dash": "solid"
         },
         "mode": "lines",
         "name": "max",
         "showlegend": false,
         "type": "scattergl",
         "x": [
          0,
          1,
          2,
          3,
          4,
          5,
          6,
          7,
          8,
          9,
          10,
          11,
          12,
          13,
          14,
          15,
          16,
          17,
          18,
          19,
          20,
          21,
          22,
          23
         ],
         "xaxis": "x",
         "y": [
          0.0714,
          0.0714,
          0.0714,
          0.0714,
          0.0714,
          0.0714,
          0.0714,
          0.0714,
          0.09806000000000001,
          0.09806000000000001,
          0.09806000000000001,
          0.09806000000000001,
          0.09806000000000001,
          0.09806000000000001,
          0.09806000000000001,
          0.09806000000000001,
          0.09806000000000001,
          0.09806000000000001,
          0.09806000000000001,
          0.09806000000000001,
          0.09806000000000001,
          0.0714,
          0.0714,
          0.0714
         ],
         "yaxis": "y"
        },
        {
         "hovertemplate": "stat=max<br>month=11<br>hour=%{x}<br>value=%{y}<extra></extra>",
         "legendgroup": "max",
         "line": {
          "color": "lightskyblue",
          "dash": "solid"
         },
         "mode": "lines",
         "name": "max",
         "showlegend": false,
         "type": "scattergl",
         "x": [
          0,
          1,
          2,
          3,
          4,
          5,
          6,
          7,
          8,
          9,
          10,
          11,
          12,
          13,
          14,
          15,
          16,
          17,
          18,
          19,
          20,
          21,
          22,
          23
         ],
         "xaxis": "x2",
         "y": [
          0.0714,
          0.0714,
          0.0714,
          0.0714,
          0.0714,
          0.0714,
          0.0714,
          0.0714,
          0.09806000000000001,
          0.09806000000000001,
          0.09806000000000001,
          0.09806000000000001,
          0.09806000000000001,
          0.09806000000000001,
          0.09806000000000001,
          0.09806000000000001,
          0.09806000000000001,
          0.09806000000000001,
          0.09806000000000001,
          0.09806000000000001,
          0.09806000000000001,
          0.0714,
          0.0714,
          0.0714
         ],
         "yaxis": "y2"
        },
        {
         "hovertemplate": "stat=max<br>month=12<br>hour=%{x}<br>value=%{y}<extra></extra>",
         "legendgroup": "max",
         "line": {
          "color": "lightskyblue",
          "dash": "solid"
         },
         "mode": "lines",
         "name": "max",
         "showlegend": false,
         "type": "scattergl",
         "x": [
          0,
          1,
          2,
          3,
          4,
          5,
          6,
          7,
          8,
          9,
          10,
          11,
          12,
          13,
          14,
          15,
          16,
          17,
          18,
          19,
          20,
          21,
          22,
          23
         ],
         "xaxis": "x3",
         "y": [
          0.0714,
          0.0714,
          0.0714,
          0.0714,
          0.0714,
          0.0714,
          0.0714,
          0.0714,
          0.09806000000000001,
          0.09806000000000001,
          0.09806000000000001,
          0.09806000000000001,
          0.09806000000000001,
          0.09806000000000001,
          0.09806000000000001,
          0.09806000000000001,
          0.09806000000000001,
          0.09806000000000001,
          0.09806000000000001,
          0.09806000000000001,
          0.09806000000000001,
          0.0714,
          0.0714,
          0.0714
         ],
         "yaxis": "y3"
        }
       ],
       "layout": {
        "annotations": [
         {
          "font": {},
          "showarrow": false,
          "text": "month=10",
          "x": 0.15999999999999998,
          "xanchor": "center",
          "xref": "paper",
          "y": 0.1975,
          "yanchor": "bottom",
          "yref": "paper"
         },
         {
          "font": {},
          "showarrow": false,
          "text": "month=11",
          "x": 0.49999999999999994,
          "xanchor": "center",
          "xref": "paper",
          "y": 0.1975,
          "yanchor": "bottom",
          "yref": "paper"
         },
         {
          "font": {},
          "showarrow": false,
          "text": "month=12",
          "x": 0.8399999999999999,
          "xanchor": "center",
          "xref": "paper",
          "y": 0.1975,
          "yanchor": "bottom",
          "yref": "paper"
         },
         {
          "font": {},
          "showarrow": false,
          "text": "month=7",
          "x": 0.15999999999999998,
          "xanchor": "center",
          "xref": "paper",
          "y": 0.465,
          "yanchor": "bottom",
          "yref": "paper"
         },
         {
          "font": {},
          "showarrow": false,
          "text": "month=8",
          "x": 0.49999999999999994,
          "xanchor": "center",
          "xref": "paper",
          "y": 0.465,
          "yanchor": "bottom",
          "yref": "paper"
         },
         {
          "font": {},
          "showarrow": false,
          "text": "month=9",
          "x": 0.8399999999999999,
          "xanchor": "center",
          "xref": "paper",
          "y": 0.465,
          "yanchor": "bottom",
          "yref": "paper"
         },
         {
          "font": {},
          "showarrow": false,
          "text": "month=4",
          "x": 0.15999999999999998,
          "xanchor": "center",
          "xref": "paper",
          "y": 0.7325,
          "yanchor": "bottom",
          "yref": "paper"
         },
         {
          "font": {},
          "showarrow": false,
          "text": "month=5",
          "x": 0.49999999999999994,
          "xanchor": "center",
          "xref": "paper",
          "y": 0.7325,
          "yanchor": "bottom",
          "yref": "paper"
         },
         {
          "font": {},
          "showarrow": false,
          "text": "month=6",
          "x": 0.8399999999999999,
          "xanchor": "center",
          "xref": "paper",
          "y": 0.7325,
          "yanchor": "bottom",
          "yref": "paper"
         },
         {
          "font": {},
          "showarrow": false,
          "text": "month=1",
          "x": 0.15999999999999998,
          "xanchor": "center",
          "xref": "paper",
          "y": 1,
          "yanchor": "bottom",
          "yref": "paper"
         },
         {
          "font": {},
          "showarrow": false,
          "text": "month=2",
          "x": 0.49999999999999994,
          "xanchor": "center",
          "xref": "paper",
          "y": 1,
          "yanchor": "bottom",
          "yref": "paper"
         },
         {
          "font": {},
          "showarrow": false,
          "text": "month=3",
          "x": 0.8399999999999999,
          "xanchor": "center",
          "xref": "paper",
          "y": 1,
          "yanchor": "bottom",
          "yref": "paper"
         }
        ],
        "height": 800,
        "legend": {
         "title": {
          "text": "stat"
         },
         "tracegroupgap": 0
        },
        "template": {
         "data": {
          "bar": [
           {
            "error_x": {
             "color": "#2a3f5f"
            },
            "error_y": {
             "color": "#2a3f5f"
            },
            "marker": {
             "line": {
              "color": "white",
              "width": 0.5
             }
            },
            "type": "bar"
           }
          ],
          "barpolar": [
           {
            "marker": {
             "line": {
              "color": "white",
              "width": 0.5
             }
            },
            "type": "barpolar"
           }
          ],
          "carpet": [
           {
            "aaxis": {
             "endlinecolor": "#2a3f5f",
             "gridcolor": "#C8D4E3",
             "linecolor": "#C8D4E3",
             "minorgridcolor": "#C8D4E3",
             "startlinecolor": "#2a3f5f"
            },
            "baxis": {
             "endlinecolor": "#2a3f5f",
             "gridcolor": "#C8D4E3",
             "linecolor": "#C8D4E3",
             "minorgridcolor": "#C8D4E3",
             "startlinecolor": "#2a3f5f"
            },
            "type": "carpet"
           }
          ],
          "choropleth": [
           {
            "colorbar": {
             "outlinewidth": 0,
             "ticks": ""
            },
            "type": "choropleth"
           }
          ],
          "contour": [
           {
            "colorbar": {
             "outlinewidth": 0,
             "ticks": ""
            },
            "colorscale": [
             [
              0,
              "#0d0887"
             ],
             [
              0.1111111111111111,
              "#46039f"
             ],
             [
              0.2222222222222222,
              "#7201a8"
             ],
             [
              0.3333333333333333,
              "#9c179e"
             ],
             [
              0.4444444444444444,
              "#bd3786"
             ],
             [
              0.5555555555555556,
              "#d8576b"
             ],
             [
              0.6666666666666666,
              "#ed7953"
             ],
             [
              0.7777777777777778,
              "#fb9f3a"
             ],
             [
              0.8888888888888888,
              "#fdca26"
             ],
             [
              1,
              "#f0f921"
             ]
            ],
            "type": "contour"
           }
          ],
          "contourcarpet": [
           {
            "colorbar": {
             "outlinewidth": 0,
             "ticks": ""
            },
            "type": "contourcarpet"
           }
          ],
          "heatmap": [
           {
            "colorbar": {
             "outlinewidth": 0,
             "ticks": ""
            },
            "colorscale": [
             [
              0,
              "#0d0887"
             ],
             [
              0.1111111111111111,
              "#46039f"
             ],
             [
              0.2222222222222222,
              "#7201a8"
             ],
             [
              0.3333333333333333,
              "#9c179e"
             ],
             [
              0.4444444444444444,
              "#bd3786"
             ],
             [
              0.5555555555555556,
              "#d8576b"
             ],
             [
              0.6666666666666666,
              "#ed7953"
             ],
             [
              0.7777777777777778,
              "#fb9f3a"
             ],
             [
              0.8888888888888888,
              "#fdca26"
             ],
             [
              1,
              "#f0f921"
             ]
            ],
            "type": "heatmap"
           }
          ],
          "heatmapgl": [
           {
            "colorbar": {
             "outlinewidth": 0,
             "ticks": ""
            },
            "colorscale": [
             [
              0,
              "#0d0887"
             ],
             [
              0.1111111111111111,
              "#46039f"
             ],
             [
              0.2222222222222222,
              "#7201a8"
             ],
             [
              0.3333333333333333,
              "#9c179e"
             ],
             [
              0.4444444444444444,
              "#bd3786"
             ],
             [
              0.5555555555555556,
              "#d8576b"
             ],
             [
              0.6666666666666666,
              "#ed7953"
             ],
             [
              0.7777777777777778,
              "#fb9f3a"
             ],
             [
              0.8888888888888888,
              "#fdca26"
             ],
             [
              1,
              "#f0f921"
             ]
            ],
            "type": "heatmapgl"
           }
          ],
          "histogram": [
           {
            "marker": {
             "colorbar": {
              "outlinewidth": 0,
              "ticks": ""
             }
            },
            "type": "histogram"
           }
          ],
          "histogram2d": [
           {
            "colorbar": {
             "outlinewidth": 0,
             "ticks": ""
            },
            "colorscale": [
             [
              0,
              "#0d0887"
             ],
             [
              0.1111111111111111,
              "#46039f"
             ],
             [
              0.2222222222222222,
              "#7201a8"
             ],
             [
              0.3333333333333333,
              "#9c179e"
             ],
             [
              0.4444444444444444,
              "#bd3786"
             ],
             [
              0.5555555555555556,
              "#d8576b"
             ],
             [
              0.6666666666666666,
              "#ed7953"
             ],
             [
              0.7777777777777778,
              "#fb9f3a"
             ],
             [
              0.8888888888888888,
              "#fdca26"
             ],
             [
              1,
              "#f0f921"
             ]
            ],
            "type": "histogram2d"
           }
          ],
          "histogram2dcontour": [
           {
            "colorbar": {
             "outlinewidth": 0,
             "ticks": ""
            },
            "colorscale": [
             [
              0,
              "#0d0887"
             ],
             [
              0.1111111111111111,
              "#46039f"
             ],
             [
              0.2222222222222222,
              "#7201a8"
             ],
             [
              0.3333333333333333,
              "#9c179e"
             ],
             [
              0.4444444444444444,
              "#bd3786"
             ],
             [
              0.5555555555555556,
              "#d8576b"
             ],
             [
              0.6666666666666666,
              "#ed7953"
             ],
             [
              0.7777777777777778,
              "#fb9f3a"
             ],
             [
              0.8888888888888888,
              "#fdca26"
             ],
             [
              1,
              "#f0f921"
             ]
            ],
            "type": "histogram2dcontour"
           }
          ],
          "mesh3d": [
           {
            "colorbar": {
             "outlinewidth": 0,
             "ticks": ""
            },
            "type": "mesh3d"
           }
          ],
          "parcoords": [
           {
            "line": {
             "colorbar": {
              "outlinewidth": 0,
              "ticks": ""
             }
            },
            "type": "parcoords"
           }
          ],
          "pie": [
           {
            "automargin": true,
            "type": "pie"
           }
          ],
          "scatter": [
           {
            "marker": {
             "colorbar": {
              "outlinewidth": 0,
              "ticks": ""
             }
            },
            "type": "scatter"
           }
          ],
          "scatter3d": [
           {
            "line": {
             "colorbar": {
              "outlinewidth": 0,
              "ticks": ""
             }
            },
            "marker": {
             "colorbar": {
              "outlinewidth": 0,
              "ticks": ""
             }
            },
            "type": "scatter3d"
           }
          ],
          "scattercarpet": [
           {
            "marker": {
             "colorbar": {
              "outlinewidth": 0,
              "ticks": ""
             }
            },
            "type": "scattercarpet"
           }
          ],
          "scattergeo": [
           {
            "marker": {
             "colorbar": {
              "outlinewidth": 0,
              "ticks": ""
             }
            },
            "type": "scattergeo"
           }
          ],
          "scattergl": [
           {
            "marker": {
             "colorbar": {
              "outlinewidth": 0,
              "ticks": ""
             }
            },
            "type": "scattergl"
           }
          ],
          "scattermapbox": [
           {
            "marker": {
             "colorbar": {
              "outlinewidth": 0,
              "ticks": ""
             }
            },
            "type": "scattermapbox"
           }
          ],
          "scatterpolar": [
           {
            "marker": {
             "colorbar": {
              "outlinewidth": 0,
              "ticks": ""
             }
            },
            "type": "scatterpolar"
           }
          ],
          "scatterpolargl": [
           {
            "marker": {
             "colorbar": {
              "outlinewidth": 0,
              "ticks": ""
             }
            },
            "type": "scatterpolargl"
           }
          ],
          "scatterternary": [
           {
            "marker": {
             "colorbar": {
              "outlinewidth": 0,
              "ticks": ""
             }
            },
            "type": "scatterternary"
           }
          ],
          "surface": [
           {
            "colorbar": {
             "outlinewidth": 0,
             "ticks": ""
            },
            "colorscale": [
             [
              0,
              "#0d0887"
             ],
             [
              0.1111111111111111,
              "#46039f"
             ],
             [
              0.2222222222222222,
              "#7201a8"
             ],
             [
              0.3333333333333333,
              "#9c179e"
             ],
             [
              0.4444444444444444,
              "#bd3786"
             ],
             [
              0.5555555555555556,
              "#d8576b"
             ],
             [
              0.6666666666666666,
              "#ed7953"
             ],
             [
              0.7777777777777778,
              "#fb9f3a"
             ],
             [
              0.8888888888888888,
              "#fdca26"
             ],
             [
              1,
              "#f0f921"
             ]
            ],
            "type": "surface"
           }
          ],
          "table": [
           {
            "cells": {
             "fill": {
              "color": "#EBF0F8"
             },
             "line": {
              "color": "white"
             }
            },
            "header": {
             "fill": {
              "color": "#C8D4E3"
             },
             "line": {
              "color": "white"
             }
            },
            "type": "table"
           }
          ]
         },
         "layout": {
          "annotationdefaults": {
           "arrowcolor": "#2a3f5f",
           "arrowhead": 0,
           "arrowwidth": 1
          },
          "coloraxis": {
           "colorbar": {
            "outlinewidth": 0,
            "ticks": ""
           }
          },
          "colorscale": {
           "diverging": [
            [
             0,
             "#8e0152"
            ],
            [
             0.1,
             "#c51b7d"
            ],
            [
             0.2,
             "#de77ae"
            ],
            [
             0.3,
             "#f1b6da"
            ],
            [
             0.4,
             "#fde0ef"
            ],
            [
             0.5,
             "#f7f7f7"
            ],
            [
             0.6,
             "#e6f5d0"
            ],
            [
             0.7,
             "#b8e186"
            ],
            [
             0.8,
             "#7fbc41"
            ],
            [
             0.9,
             "#4d9221"
            ],
            [
             1,
             "#276419"
            ]
           ],
           "sequential": [
            [
             0,
             "#0d0887"
            ],
            [
             0.1111111111111111,
             "#46039f"
            ],
            [
             0.2222222222222222,
             "#7201a8"
            ],
            [
             0.3333333333333333,
             "#9c179e"
            ],
            [
             0.4444444444444444,
             "#bd3786"
            ],
            [
             0.5555555555555556,
             "#d8576b"
            ],
            [
             0.6666666666666666,
             "#ed7953"
            ],
            [
             0.7777777777777778,
             "#fb9f3a"
            ],
            [
             0.8888888888888888,
             "#fdca26"
            ],
            [
             1,
             "#f0f921"
            ]
           ],
           "sequentialminus": [
            [
             0,
             "#0d0887"
            ],
            [
             0.1111111111111111,
             "#46039f"
            ],
            [
             0.2222222222222222,
             "#7201a8"
            ],
            [
             0.3333333333333333,
             "#9c179e"
            ],
            [
             0.4444444444444444,
             "#bd3786"
            ],
            [
             0.5555555555555556,
             "#d8576b"
            ],
            [
             0.6666666666666666,
             "#ed7953"
            ],
            [
             0.7777777777777778,
             "#fb9f3a"
            ],
            [
             0.8888888888888888,
             "#fdca26"
            ],
            [
             1,
             "#f0f921"
            ]
           ]
          },
          "colorway": [
           "#636efa",
           "#EF553B",
           "#00cc96",
           "#ab63fa",
           "#FFA15A",
           "#19d3f3",
           "#FF6692",
           "#B6E880",
           "#FF97FF",
           "#FECB52"
          ],
          "font": {
           "color": "#2a3f5f"
          },
          "geo": {
           "bgcolor": "white",
           "lakecolor": "white",
           "landcolor": "white",
           "showlakes": true,
           "showland": true,
           "subunitcolor": "#C8D4E3"
          },
          "hoverlabel": {
           "align": "left"
          },
          "hovermode": "closest",
          "mapbox": {
           "style": "light"
          },
          "paper_bgcolor": "white",
          "plot_bgcolor": "white",
          "polar": {
           "angularaxis": {
            "gridcolor": "#EBF0F8",
            "linecolor": "#EBF0F8",
            "ticks": ""
           },
           "bgcolor": "white",
           "radialaxis": {
            "gridcolor": "#EBF0F8",
            "linecolor": "#EBF0F8",
            "ticks": ""
           }
          },
          "scene": {
           "xaxis": {
            "backgroundcolor": "white",
            "gridcolor": "#DFE8F3",
            "gridwidth": 2,
            "linecolor": "#EBF0F8",
            "showbackground": true,
            "ticks": "",
            "zerolinecolor": "#EBF0F8"
           },
           "yaxis": {
            "backgroundcolor": "white",
            "gridcolor": "#DFE8F3",
            "gridwidth": 2,
            "linecolor": "#EBF0F8",
            "showbackground": true,
            "ticks": "",
            "zerolinecolor": "#EBF0F8"
           },
           "zaxis": {
            "backgroundcolor": "white",
            "gridcolor": "#DFE8F3",
            "gridwidth": 2,
            "linecolor": "#EBF0F8",
            "showbackground": true,
            "ticks": "",
            "zerolinecolor": "#EBF0F8"
           }
          },
          "shapedefaults": {
           "line": {
            "color": "#2a3f5f"
           }
          },
          "ternary": {
           "aaxis": {
            "gridcolor": "#DFE8F3",
            "linecolor": "#A2B1C6",
            "ticks": ""
           },
           "baxis": {
            "gridcolor": "#DFE8F3",
            "linecolor": "#A2B1C6",
            "ticks": ""
           },
           "bgcolor": "white",
           "caxis": {
            "gridcolor": "#DFE8F3",
            "linecolor": "#A2B1C6",
            "ticks": ""
           }
          },
          "title": {
           "x": 0.05
          },
          "xaxis": {
           "automargin": true,
           "gridcolor": "#EBF0F8",
           "linecolor": "#EBF0F8",
           "ticks": "",
           "title": {
            "standoff": 15
           },
           "zerolinecolor": "#EBF0F8",
           "zerolinewidth": 2
          },
          "yaxis": {
           "automargin": true,
           "gridcolor": "#EBF0F8",
           "linecolor": "#EBF0F8",
           "ticks": "",
           "title": {
            "standoff": 15
           },
           "zerolinecolor": "#EBF0F8",
           "zerolinewidth": 2
          }
         }
        },
        "title": {
         "text": "Distribution of Weekday Rates"
        },
        "xaxis": {
         "anchor": "y",
         "domain": [
          0,
          0.31999999999999995
         ],
         "title": {
          "text": "hour"
         }
        },
        "xaxis10": {
         "anchor": "y10",
         "domain": [
          0,
          0.31999999999999995
         ],
         "matches": "x",
         "showticklabels": false
        },
        "xaxis11": {
         "anchor": "y11",
         "domain": [
          0.33999999999999997,
          0.6599999999999999
         ],
         "matches": "x",
         "showticklabels": false
        },
        "xaxis12": {
         "anchor": "y12",
         "domain": [
          0.6799999999999999,
          0.9999999999999999
         ],
         "matches": "x",
         "showticklabels": false
        },
        "xaxis2": {
         "anchor": "y2",
         "domain": [
          0.33999999999999997,
          0.6599999999999999
         ],
         "matches": "x",
         "title": {
          "text": "hour"
         }
        },
        "xaxis3": {
         "anchor": "y3",
         "domain": [
          0.6799999999999999,
          0.9999999999999999
         ],
         "matches": "x",
         "title": {
          "text": "hour"
         }
        },
        "xaxis4": {
         "anchor": "y4",
         "domain": [
          0,
          0.31999999999999995
         ],
         "matches": "x",
         "showticklabels": false
        },
        "xaxis5": {
         "anchor": "y5",
         "domain": [
          0.33999999999999997,
          0.6599999999999999
         ],
         "matches": "x",
         "showticklabels": false
        },
        "xaxis6": {
         "anchor": "y6",
         "domain": [
          0.6799999999999999,
          0.9999999999999999
         ],
         "matches": "x",
         "showticklabels": false
        },
        "xaxis7": {
         "anchor": "y7",
         "domain": [
          0,
          0.31999999999999995
         ],
         "matches": "x",
         "showticklabels": false
        },
        "xaxis8": {
         "anchor": "y8",
         "domain": [
          0.33999999999999997,
          0.6599999999999999
         ],
         "matches": "x",
         "showticklabels": false
        },
        "xaxis9": {
         "anchor": "y9",
         "domain": [
          0.6799999999999999,
          0.9999999999999999
         ],
         "matches": "x",
         "showticklabels": false
        },
        "yaxis": {
         "anchor": "x",
         "domain": [
          0,
          0.1975
         ],
         "title": {
          "text": "value"
         }
        },
        "yaxis10": {
         "anchor": "x10",
         "domain": [
          0.8025,
          1
         ],
         "matches": "y",
         "title": {
          "text": "value"
         }
        },
        "yaxis11": {
         "anchor": "x11",
         "domain": [
          0.8025,
          1
         ],
         "matches": "y",
         "showticklabels": false
        },
        "yaxis12": {
         "anchor": "x12",
         "domain": [
          0.8025,
          1
         ],
         "matches": "y",
         "showticklabels": false
        },
        "yaxis2": {
         "anchor": "x2",
         "domain": [
          0,
          0.1975
         ],
         "matches": "y",
         "showticklabels": false
        },
        "yaxis3": {
         "anchor": "x3",
         "domain": [
          0,
          0.1975
         ],
         "matches": "y",
         "showticklabels": false
        },
        "yaxis4": {
         "anchor": "x4",
         "domain": [
          0.2675,
          0.465
         ],
         "matches": "y",
         "title": {
          "text": "value"
         }
        },
        "yaxis5": {
         "anchor": "x5",
         "domain": [
          0.2675,
          0.465
         ],
         "matches": "y",
         "showticklabels": false
        },
        "yaxis6": {
         "anchor": "x6",
         "domain": [
          0.2675,
          0.465
         ],
         "matches": "y",
         "showticklabels": false
        },
        "yaxis7": {
         "anchor": "x7",
         "domain": [
          0.535,
          0.7325
         ],
         "matches": "y",
         "title": {
          "text": "value"
         }
        },
        "yaxis8": {
         "anchor": "x8",
         "domain": [
          0.535,
          0.7325
         ],
         "matches": "y",
         "showticklabels": false
        },
        "yaxis9": {
         "anchor": "x9",
         "domain": [
          0.535,
          0.7325
         ],
         "matches": "y",
         "showticklabels": false
        }
       }
      }
     },
     "metadata": {}
    }
   ],
   "source": [
    "color_map = {'min':'lightskyblue',\n",
    "             '25%':'royalblue',\n",
    "             '50%':'black',\n",
    "             '75%':'royalblue',\n",
    "             'max':'lightskyblue'}\n",
    "\n",
    "weekday_results_fig = px.line(results[results['day'] == 'weekday'], x='hour', y='value', color='stat', color_discrete_map=color_map, facet_col='month', facet_col_wrap=3, height=800, template='plotly_white', title='Distribution of Weekday Rates')\n",
    "weekday_results_fig.show()"
   ]
  },
  {
   "cell_type": "code",
   "execution_count": 276,
   "metadata": {},
   "outputs": [
    {
     "output_type": "display_data",
     "data": {
      "application/vnd.plotly.v1+json": {
       "config": {
        "plotlyServerURL": "https://plot.ly"
       },
       "data": [
        {
         "hovertemplate": "stat=min<br>month=1<br>hour=%{x}<br>value=%{y}<extra></extra>",
         "legendgroup": "min",
         "line": {
          "color": "lightskyblue",
          "dash": "solid"
         },
         "mode": "lines",
         "name": "min",
         "showlegend": true,
         "type": "scattergl",
         "x": [
          0,
          1,
          2,
          3,
          4,
          5,
          6,
          7,
          8,
          9,
          10,
          11,
          12,
          13,
          14,
          15,
          16,
          17,
          18,
          19,
          20,
          21,
          22,
          23
         ],
         "xaxis": "x10",
         "y": [
          0.04094,
          0.04094,
          0.04094,
          0.04094,
          0.04094,
          0.04094,
          0.04094,
          0.04094,
          0.04094,
          0.04094,
          0.04094,
          0.04094,
          0.04094,
          0.04094,
          0.04094,
          0.04094,
          0.04094,
          0.04094,
          0.04094,
          0.04094,
          0.04094,
          0.04094,
          0.04094,
          0.04094
         ],
         "yaxis": "y10"
        },
        {
         "hovertemplate": "stat=min<br>month=2<br>hour=%{x}<br>value=%{y}<extra></extra>",
         "legendgroup": "min",
         "line": {
          "color": "lightskyblue",
          "dash": "solid"
         },
         "mode": "lines",
         "name": "min",
         "showlegend": false,
         "type": "scattergl",
         "x": [
          0,
          1,
          2,
          3,
          4,
          5,
          6,
          7,
          8,
          9,
          10,
          11,
          12,
          13,
          14,
          15,
          16,
          17,
          18,
          19,
          20,
          21,
          22,
          23
         ],
         "xaxis": "x11",
         "y": [
          0.04094,
          0.04094,
          0.04094,
          0.04094,
          0.04094,
          0.04094,
          0.04094,
          0.04094,
          0.04094,
          0.04094,
          0.04094,
          0.04094,
          0.04094,
          0.04094,
          0.04094,
          0.04094,
          0.04094,
          0.04094,
          0.04094,
          0.04094,
          0.04094,
          0.04094,
          0.04094,
          0.04094
         ],
         "yaxis": "y11"
        },
        {
         "hovertemplate": "stat=min<br>month=3<br>hour=%{x}<br>value=%{y}<extra></extra>",
         "legendgroup": "min",
         "line": {
          "color": "lightskyblue",
          "dash": "solid"
         },
         "mode": "lines",
         "name": "min",
         "showlegend": false,
         "type": "scattergl",
         "x": [
          0,
          1,
          2,
          3,
          4,
          5,
          6,
          7,
          8,
          9,
          10,
          11,
          12,
          13,
          14,
          15,
          16,
          17,
          18,
          19,
          20,
          21,
          22,
          23
         ],
         "xaxis": "x12",
         "y": [
          0.04094,
          0.04094,
          0.04094,
          0.04094,
          0.04094,
          0.04094,
          0.04094,
          0.04094,
          0.04094,
          0.04094,
          0.04094,
          0.04094,
          0.04094,
          0.04094,
          0.04094,
          0.04094,
          0.04094,
          0.04094,
          0.04094,
          0.04094,
          0.04094,
          0.04094,
          0.04094,
          0.04094
         ],
         "yaxis": "y12"
        },
        {
         "hovertemplate": "stat=min<br>month=4<br>hour=%{x}<br>value=%{y}<extra></extra>",
         "legendgroup": "min",
         "line": {
          "color": "lightskyblue",
          "dash": "solid"
         },
         "mode": "lines",
         "name": "min",
         "showlegend": false,
         "type": "scattergl",
         "x": [
          0,
          1,
          2,
          3,
          4,
          5,
          6,
          7,
          8,
          9,
          10,
          11,
          12,
          13,
          14,
          15,
          16,
          17,
          18,
          19,
          20,
          21,
          22,
          23
         ],
         "xaxis": "x7",
         "y": [
          0.04094,
          0.04094,
          0.04094,
          0.04094,
          0.04094,
          0.04094,
          0.04094,
          0.04094,
          0.04094,
          0.04094,
          0.04094,
          0.04094,
          0.04094,
          0.04094,
          0.04094,
          0.04094,
          0.04094,
          0.04094,
          0.04094,
          0.04094,
          0.04094,
          0.04094,
          0.04094,
          0.04094
         ],
         "yaxis": "y7"
        },
        {
         "hovertemplate": "stat=min<br>month=5<br>hour=%{x}<br>value=%{y}<extra></extra>",
         "legendgroup": "min",
         "line": {
          "color": "lightskyblue",
          "dash": "solid"
         },
         "mode": "lines",
         "name": "min",
         "showlegend": false,
         "type": "scattergl",
         "x": [
          0,
          1,
          2,
          3,
          4,
          5,
          6,
          7,
          8,
          9,
          10,
          11,
          12,
          13,
          14,
          15,
          16,
          17,
          18,
          19,
          20,
          21,
          22,
          23
         ],
         "xaxis": "x8",
         "y": [
          0.04094,
          0.04094,
          0.04094,
          0.04094,
          0.04094,
          0.04094,
          0.04094,
          0.04094,
          0.04094,
          0.04094,
          0.04094,
          0.04094,
          0.04094,
          0.04094,
          0.04094,
          0.04094,
          0.04094,
          0.04094,
          0.04094,
          0.04094,
          0.04094,
          0.04094,
          0.04094,
          0.04094
         ],
         "yaxis": "y8"
        },
        {
         "hovertemplate": "stat=min<br>month=6<br>hour=%{x}<br>value=%{y}<extra></extra>",
         "legendgroup": "min",
         "line": {
          "color": "lightskyblue",
          "dash": "solid"
         },
         "mode": "lines",
         "name": "min",
         "showlegend": false,
         "type": "scattergl",
         "x": [
          0,
          1,
          2,
          3,
          4,
          5,
          6,
          7,
          8,
          9,
          10,
          11,
          12,
          13,
          14,
          15,
          16,
          17,
          18,
          19,
          20,
          21,
          22,
          23
         ],
         "xaxis": "x9",
         "y": [
          0.0429,
          0.0429,
          0.0429,
          0.0429,
          0.0429,
          0.0429,
          0.0429,
          0.0429,
          0.0429,
          0.0429,
          0.0429,
          0.0429,
          0.0429,
          0.0429,
          0.0429,
          0.0429,
          0.0429,
          0.0429,
          0.0429,
          0.0429,
          0.0429,
          0.0429,
          0.0429,
          0.0429
         ],
         "yaxis": "y9"
        },
        {
         "hovertemplate": "stat=min<br>month=7<br>hour=%{x}<br>value=%{y}<extra></extra>",
         "legendgroup": "min",
         "line": {
          "color": "lightskyblue",
          "dash": "solid"
         },
         "mode": "lines",
         "name": "min",
         "showlegend": false,
         "type": "scattergl",
         "x": [
          0,
          1,
          2,
          3,
          4,
          5,
          6,
          7,
          8,
          9,
          10,
          11,
          12,
          13,
          14,
          15,
          16,
          17,
          18,
          19,
          20,
          21,
          22,
          23
         ],
         "xaxis": "x4",
         "y": [
          0.0429,
          0.0429,
          0.0429,
          0.0429,
          0.0429,
          0.0429,
          0.0429,
          0.0429,
          0.0429,
          0.0429,
          0.0429,
          0.0429,
          0.0429,
          0.0429,
          0.0429,
          0.0429,
          0.0429,
          0.0429,
          0.0429,
          0.0429,
          0.0429,
          0.0429,
          0.0429,
          0.0429
         ],
         "yaxis": "y4"
        },
        {
         "hovertemplate": "stat=min<br>month=8<br>hour=%{x}<br>value=%{y}<extra></extra>",
         "legendgroup": "min",
         "line": {
          "color": "lightskyblue",
          "dash": "solid"
         },
         "mode": "lines",
         "name": "min",
         "showlegend": false,
         "type": "scattergl",
         "x": [
          0,
          1,
          2,
          3,
          4,
          5,
          6,
          7,
          8,
          9,
          10,
          11,
          12,
          13,
          14,
          15,
          16,
          17,
          18,
          19,
          20,
          21,
          22,
          23
         ],
         "xaxis": "x5",
         "y": [
          0.0429,
          0.0429,
          0.0429,
          0.0429,
          0.0429,
          0.0429,
          0.0429,
          0.0429,
          0.0429,
          0.0429,
          0.0429,
          0.0429,
          0.0429,
          0.0429,
          0.0429,
          0.0429,
          0.0429,
          0.0429,
          0.0429,
          0.0429,
          0.0429,
          0.0429,
          0.0429,
          0.0429
         ],
         "yaxis": "y5"
        },
        {
         "hovertemplate": "stat=min<br>month=9<br>hour=%{x}<br>value=%{y}<extra></extra>",
         "legendgroup": "min",
         "line": {
          "color": "lightskyblue",
          "dash": "solid"
         },
         "mode": "lines",
         "name": "min",
         "showlegend": false,
         "type": "scattergl",
         "x": [
          0,
          1,
          2,
          3,
          4,
          5,
          6,
          7,
          8,
          9,
          10,
          11,
          12,
          13,
          14,
          15,
          16,
          17,
          18,
          19,
          20,
          21,
          22,
          23
         ],
         "xaxis": "x6",
         "y": [
          0.0429,
          0.0429,
          0.0429,
          0.0429,
          0.0429,
          0.0429,
          0.0429,
          0.0429,
          0.0429,
          0.0429,
          0.0429,
          0.0429,
          0.0429,
          0.0429,
          0.0429,
          0.0429,
          0.0429,
          0.0429,
          0.0429,
          0.0429,
          0.0429,
          0.0429,
          0.0429,
          0.0429
         ],
         "yaxis": "y6"
        },
        {
         "hovertemplate": "stat=min<br>month=10<br>hour=%{x}<br>value=%{y}<extra></extra>",
         "legendgroup": "min",
         "line": {
          "color": "lightskyblue",
          "dash": "solid"
         },
         "mode": "lines",
         "name": "min",
         "showlegend": false,
         "type": "scattergl",
         "x": [
          0,
          1,
          2,
          3,
          4,
          5,
          6,
          7,
          8,
          9,
          10,
          11,
          12,
          13,
          14,
          15,
          16,
          17,
          18,
          19,
          20,
          21,
          22,
          23
         ],
         "xaxis": "x",
         "y": [
          0.04094,
          0.04094,
          0.04094,
          0.04094,
          0.04094,
          0.04094,
          0.04094,
          0.04094,
          0.04094,
          0.04094,
          0.04094,
          0.04094,
          0.04094,
          0.04094,
          0.04094,
          0.04094,
          0.04094,
          0.04094,
          0.04094,
          0.04094,
          0.04094,
          0.04094,
          0.04094,
          0.04094
         ],
         "yaxis": "y"
        },
        {
         "hovertemplate": "stat=min<br>month=11<br>hour=%{x}<br>value=%{y}<extra></extra>",
         "legendgroup": "min",
         "line": {
          "color": "lightskyblue",
          "dash": "solid"
         },
         "mode": "lines",
         "name": "min",
         "showlegend": false,
         "type": "scattergl",
         "x": [
          0,
          1,
          2,
          3,
          4,
          5,
          6,
          7,
          8,
          9,
          10,
          11,
          12,
          13,
          14,
          15,
          16,
          17,
          18,
          19,
          20,
          21,
          22,
          23
         ],
         "xaxis": "x2",
         "y": [
          0.04094,
          0.04094,
          0.04094,
          0.04094,
          0.04094,
          0.04094,
          0.04094,
          0.04094,
          0.04094,
          0.04094,
          0.04094,
          0.04094,
          0.04094,
          0.04094,
          0.04094,
          0.04094,
          0.04094,
          0.04094,
          0.04094,
          0.04094,
          0.04094,
          0.04094,
          0.04094,
          0.04094
         ],
         "yaxis": "y2"
        },
        {
         "hovertemplate": "stat=min<br>month=12<br>hour=%{x}<br>value=%{y}<extra></extra>",
         "legendgroup": "min",
         "line": {
          "color": "lightskyblue",
          "dash": "solid"
         },
         "mode": "lines",
         "name": "min",
         "showlegend": false,
         "type": "scattergl",
         "x": [
          0,
          1,
          2,
          3,
          4,
          5,
          6,
          7,
          8,
          9,
          10,
          11,
          12,
          13,
          14,
          15,
          16,
          17,
          18,
          19,
          20,
          21,
          22,
          23
         ],
         "xaxis": "x3",
         "y": [
          0.04094,
          0.04094,
          0.04094,
          0.04094,
          0.04094,
          0.04094,
          0.04094,
          0.04094,
          0.04094,
          0.04094,
          0.04094,
          0.04094,
          0.04094,
          0.04094,
          0.04094,
          0.04094,
          0.04094,
          0.04094,
          0.04094,
          0.04094,
          0.04094,
          0.04094,
          0.04094,
          0.04094
         ],
         "yaxis": "y3"
        },
        {
         "hovertemplate": "stat=25%<br>month=1<br>hour=%{x}<br>value=%{y}<extra></extra>",
         "legendgroup": "25%",
         "line": {
          "color": "royalblue",
          "dash": "solid"
         },
         "mode": "lines",
         "name": "25%",
         "showlegend": true,
         "type": "scattergl",
         "x": [
          0,
          1,
          2,
          3,
          4,
          5,
          6,
          7,
          8,
          9,
          10,
          11,
          12,
          13,
          14,
          15,
          16,
          17,
          18,
          19,
          20,
          21,
          22,
          23
         ],
         "xaxis": "x10",
         "y": [
          0.05808,
          0.05808,
          0.05808,
          0.05808,
          0.05808,
          0.05808,
          0.05808,
          0.05808,
          0.05808,
          0.05808,
          0.05808,
          0.05808,
          0.05808,
          0.05808,
          0.05808,
          0.05808,
          0.05808,
          0.05808,
          0.05808,
          0.05808,
          0.05808,
          0.05808,
          0.05808,
          0.05808
         ],
         "yaxis": "y10"
        },
        {
         "hovertemplate": "stat=25%<br>month=2<br>hour=%{x}<br>value=%{y}<extra></extra>",
         "legendgroup": "25%",
         "line": {
          "color": "royalblue",
          "dash": "solid"
         },
         "mode": "lines",
         "name": "25%",
         "showlegend": false,
         "type": "scattergl",
         "x": [
          0,
          1,
          2,
          3,
          4,
          5,
          6,
          7,
          8,
          9,
          10,
          11,
          12,
          13,
          14,
          15,
          16,
          17,
          18,
          19,
          20,
          21,
          22,
          23
         ],
         "xaxis": "x11",
         "y": [
          0.05808,
          0.05808,
          0.05808,
          0.05808,
          0.05808,
          0.05808,
          0.05808,
          0.05808,
          0.05808,
          0.05808,
          0.05808,
          0.05808,
          0.05808,
          0.05808,
          0.05808,
          0.05808,
          0.05808,
          0.05808,
          0.05808,
          0.05808,
          0.05808,
          0.05808,
          0.05808,
          0.05808
         ],
         "yaxis": "y11"
        },
        {
         "hovertemplate": "stat=25%<br>month=3<br>hour=%{x}<br>value=%{y}<extra></extra>",
         "legendgroup": "25%",
         "line": {
          "color": "royalblue",
          "dash": "solid"
         },
         "mode": "lines",
         "name": "25%",
         "showlegend": false,
         "type": "scattergl",
         "x": [
          0,
          1,
          2,
          3,
          4,
          5,
          6,
          7,
          8,
          9,
          10,
          11,
          12,
          13,
          14,
          15,
          16,
          17,
          18,
          19,
          20,
          21,
          22,
          23
         ],
         "xaxis": "x12",
         "y": [
          0.05808,
          0.05808,
          0.05808,
          0.05808,
          0.05808,
          0.05808,
          0.05808,
          0.05808,
          0.05808,
          0.05808,
          0.05808,
          0.05808,
          0.05808,
          0.05808,
          0.05808,
          0.05808,
          0.05808,
          0.05808,
          0.05808,
          0.05808,
          0.05808,
          0.05808,
          0.05808,
          0.05808
         ],
         "yaxis": "y12"
        },
        {
         "hovertemplate": "stat=25%<br>month=4<br>hour=%{x}<br>value=%{y}<extra></extra>",
         "legendgroup": "25%",
         "line": {
          "color": "royalblue",
          "dash": "solid"
         },
         "mode": "lines",
         "name": "25%",
         "showlegend": false,
         "type": "scattergl",
         "x": [
          0,
          1,
          2,
          3,
          4,
          5,
          6,
          7,
          8,
          9,
          10,
          11,
          12,
          13,
          14,
          15,
          16,
          17,
          18,
          19,
          20,
          21,
          22,
          23
         ],
         "xaxis": "x7",
         "y": [
          0.05808,
          0.05808,
          0.05808,
          0.05808,
          0.05808,
          0.05808,
          0.05808,
          0.05808,
          0.05808,
          0.05808,
          0.05808,
          0.05808,
          0.05808,
          0.05808,
          0.05808,
          0.05808,
          0.05808,
          0.05808,
          0.05808,
          0.05808,
          0.05808,
          0.05808,
          0.05808,
          0.05808
         ],
         "yaxis": "y7"
        },
        {
         "hovertemplate": "stat=25%<br>month=5<br>hour=%{x}<br>value=%{y}<extra></extra>",
         "legendgroup": "25%",
         "line": {
          "color": "royalblue",
          "dash": "solid"
         },
         "mode": "lines",
         "name": "25%",
         "showlegend": false,
         "type": "scattergl",
         "x": [
          0,
          1,
          2,
          3,
          4,
          5,
          6,
          7,
          8,
          9,
          10,
          11,
          12,
          13,
          14,
          15,
          16,
          17,
          18,
          19,
          20,
          21,
          22,
          23
         ],
         "xaxis": "x8",
         "y": [
          0.05808,
          0.05808,
          0.05808,
          0.05808,
          0.05808,
          0.05808,
          0.05808,
          0.05808,
          0.05808,
          0.05808,
          0.05808,
          0.05808,
          0.05808,
          0.05808,
          0.05808,
          0.05808,
          0.05808,
          0.05808,
          0.05808,
          0.05808,
          0.05808,
          0.05808,
          0.05808,
          0.05808
         ],
         "yaxis": "y8"
        },
        {
         "hovertemplate": "stat=25%<br>month=6<br>hour=%{x}<br>value=%{y}<extra></extra>",
         "legendgroup": "25%",
         "line": {
          "color": "royalblue",
          "dash": "solid"
         },
         "mode": "lines",
         "name": "25%",
         "showlegend": false,
         "type": "scattergl",
         "x": [
          0,
          1,
          2,
          3,
          4,
          5,
          6,
          7,
          8,
          9,
          10,
          11,
          12,
          13,
          14,
          15,
          16,
          17,
          18,
          19,
          20,
          21,
          22,
          23
         ],
         "xaxis": "x9",
         "y": [
          0.05320999999999999,
          0.05320999999999999,
          0.05320999999999999,
          0.05320999999999999,
          0.05320999999999999,
          0.05320999999999999,
          0.05320999999999999,
          0.05320999999999999,
          0.05320999999999999,
          0.05320999999999999,
          0.05320999999999999,
          0.05320999999999999,
          0.05320999999999999,
          0.05320999999999999,
          0.05320999999999999,
          0.05320999999999999,
          0.05320999999999999,
          0.05320999999999999,
          0.05320999999999999,
          0.05320999999999999,
          0.05320999999999999,
          0.05320999999999999,
          0.05320999999999999,
          0.05320999999999999
         ],
         "yaxis": "y9"
        },
        {
         "hovertemplate": "stat=25%<br>month=7<br>hour=%{x}<br>value=%{y}<extra></extra>",
         "legendgroup": "25%",
         "line": {
          "color": "royalblue",
          "dash": "solid"
         },
         "mode": "lines",
         "name": "25%",
         "showlegend": false,
         "type": "scattergl",
         "x": [
          0,
          1,
          2,
          3,
          4,
          5,
          6,
          7,
          8,
          9,
          10,
          11,
          12,
          13,
          14,
          15,
          16,
          17,
          18,
          19,
          20,
          21,
          22,
          23
         ],
         "xaxis": "x4",
         "y": [
          0.05320999999999999,
          0.05320999999999999,
          0.05320999999999999,
          0.05320999999999999,
          0.05320999999999999,
          0.05320999999999999,
          0.05320999999999999,
          0.05320999999999999,
          0.05320999999999999,
          0.05320999999999999,
          0.05320999999999999,
          0.05320999999999999,
          0.05320999999999999,
          0.05320999999999999,
          0.05320999999999999,
          0.05320999999999999,
          0.05320999999999999,
          0.05320999999999999,
          0.05320999999999999,
          0.05320999999999999,
          0.05320999999999999,
          0.05320999999999999,
          0.05320999999999999,
          0.05320999999999999
         ],
         "yaxis": "y4"
        },
        {
         "hovertemplate": "stat=25%<br>month=8<br>hour=%{x}<br>value=%{y}<extra></extra>",
         "legendgroup": "25%",
         "line": {
          "color": "royalblue",
          "dash": "solid"
         },
         "mode": "lines",
         "name": "25%",
         "showlegend": false,
         "type": "scattergl",
         "x": [
          0,
          1,
          2,
          3,
          4,
          5,
          6,
          7,
          8,
          9,
          10,
          11,
          12,
          13,
          14,
          15,
          16,
          17,
          18,
          19,
          20,
          21,
          22,
          23
         ],
         "xaxis": "x5",
         "y": [
          0.05320999999999999,
          0.05320999999999999,
          0.05320999999999999,
          0.05320999999999999,
          0.05320999999999999,
          0.05320999999999999,
          0.05320999999999999,
          0.05320999999999999,
          0.05320999999999999,
          0.05320999999999999,
          0.05320999999999999,
          0.05320999999999999,
          0.05320999999999999,
          0.05320999999999999,
          0.05320999999999999,
          0.05320999999999999,
          0.05320999999999999,
          0.05320999999999999,
          0.05320999999999999,
          0.05320999999999999,
          0.05320999999999999,
          0.05320999999999999,
          0.05320999999999999,
          0.05320999999999999
         ],
         "yaxis": "y5"
        },
        {
         "hovertemplate": "stat=25%<br>month=9<br>hour=%{x}<br>value=%{y}<extra></extra>",
         "legendgroup": "25%",
         "line": {
          "color": "royalblue",
          "dash": "solid"
         },
         "mode": "lines",
         "name": "25%",
         "showlegend": false,
         "type": "scattergl",
         "x": [
          0,
          1,
          2,
          3,
          4,
          5,
          6,
          7,
          8,
          9,
          10,
          11,
          12,
          13,
          14,
          15,
          16,
          17,
          18,
          19,
          20,
          21,
          22,
          23
         ],
         "xaxis": "x6",
         "y": [
          0.05320999999999999,
          0.05320999999999999,
          0.05320999999999999,
          0.05320999999999999,
          0.05320999999999999,
          0.05320999999999999,
          0.05320999999999999,
          0.05320999999999999,
          0.05320999999999999,
          0.05320999999999999,
          0.05320999999999999,
          0.05320999999999999,
          0.05320999999999999,
          0.05320999999999999,
          0.05320999999999999,
          0.05320999999999999,
          0.05320999999999999,
          0.05320999999999999,
          0.05320999999999999,
          0.05320999999999999,
          0.05320999999999999,
          0.05320999999999999,
          0.05320999999999999,
          0.05320999999999999
         ],
         "yaxis": "y6"
        },
        {
         "hovertemplate": "stat=25%<br>month=10<br>hour=%{x}<br>value=%{y}<extra></extra>",
         "legendgroup": "25%",
         "line": {
          "color": "royalblue",
          "dash": "solid"
         },
         "mode": "lines",
         "name": "25%",
         "showlegend": false,
         "type": "scattergl",
         "x": [
          0,
          1,
          2,
          3,
          4,
          5,
          6,
          7,
          8,
          9,
          10,
          11,
          12,
          13,
          14,
          15,
          16,
          17,
          18,
          19,
          20,
          21,
          22,
          23
         ],
         "xaxis": "x",
         "y": [
          0.05808,
          0.05808,
          0.05808,
          0.05808,
          0.05808,
          0.05808,
          0.05808,
          0.05808,
          0.05808,
          0.05808,
          0.05808,
          0.05808,
          0.05808,
          0.05808,
          0.05808,
          0.05808,
          0.05808,
          0.05808,
          0.05808,
          0.05808,
          0.05808,
          0.05808,
          0.05808,
          0.05808
         ],
         "yaxis": "y"
        },
        {
         "hovertemplate": "stat=25%<br>month=11<br>hour=%{x}<br>value=%{y}<extra></extra>",
         "legendgroup": "25%",
         "line": {
          "color": "royalblue",
          "dash": "solid"
         },
         "mode": "lines",
         "name": "25%",
         "showlegend": false,
         "type": "scattergl",
         "x": [
          0,
          1,
          2,
          3,
          4,
          5,
          6,
          7,
          8,
          9,
          10,
          11,
          12,
          13,
          14,
          15,
          16,
          17,
          18,
          19,
          20,
          21,
          22,
          23
         ],
         "xaxis": "x2",
         "y": [
          0.05808,
          0.05808,
          0.05808,
          0.05808,
          0.05808,
          0.05808,
          0.05808,
          0.05808,
          0.05808,
          0.05808,
          0.05808,
          0.05808,
          0.05808,
          0.05808,
          0.05808,
          0.05808,
          0.05808,
          0.05808,
          0.05808,
          0.05808,
          0.05808,
          0.05808,
          0.05808,
          0.05808
         ],
         "yaxis": "y2"
        },
        {
         "hovertemplate": "stat=25%<br>month=12<br>hour=%{x}<br>value=%{y}<extra></extra>",
         "legendgroup": "25%",
         "line": {
          "color": "royalblue",
          "dash": "solid"
         },
         "mode": "lines",
         "name": "25%",
         "showlegend": false,
         "type": "scattergl",
         "x": [
          0,
          1,
          2,
          3,
          4,
          5,
          6,
          7,
          8,
          9,
          10,
          11,
          12,
          13,
          14,
          15,
          16,
          17,
          18,
          19,
          20,
          21,
          22,
          23
         ],
         "xaxis": "x3",
         "y": [
          0.05808,
          0.05808,
          0.05808,
          0.05808,
          0.05808,
          0.05808,
          0.05808,
          0.05808,
          0.05808,
          0.05808,
          0.05808,
          0.05808,
          0.05808,
          0.05808,
          0.05808,
          0.05808,
          0.05808,
          0.05808,
          0.05808,
          0.05808,
          0.05808,
          0.05808,
          0.05808,
          0.05808
         ],
         "yaxis": "y3"
        },
        {
         "hovertemplate": "stat=50%<br>month=1<br>hour=%{x}<br>value=%{y}<extra></extra>",
         "legendgroup": "50%",
         "line": {
          "color": "black",
          "dash": "solid"
         },
         "mode": "lines",
         "name": "50%",
         "showlegend": true,
         "type": "scattergl",
         "x": [
          0,
          1,
          2,
          3,
          4,
          5,
          6,
          7,
          8,
          9,
          10,
          11,
          12,
          13,
          14,
          15,
          16,
          17,
          18,
          19,
          20,
          21,
          22,
          23
         ],
         "xaxis": "x10",
         "y": [
          0.0613,
          0.0613,
          0.0613,
          0.0613,
          0.0613,
          0.0613,
          0.0613,
          0.0613,
          0.0613,
          0.0613,
          0.0613,
          0.0613,
          0.0613,
          0.0613,
          0.0613,
          0.0613,
          0.0613,
          0.0613,
          0.0613,
          0.0613,
          0.0613,
          0.0613,
          0.0613,
          0.0613
         ],
         "yaxis": "y10"
        },
        {
         "hovertemplate": "stat=50%<br>month=2<br>hour=%{x}<br>value=%{y}<extra></extra>",
         "legendgroup": "50%",
         "line": {
          "color": "black",
          "dash": "solid"
         },
         "mode": "lines",
         "name": "50%",
         "showlegend": false,
         "type": "scattergl",
         "x": [
          0,
          1,
          2,
          3,
          4,
          5,
          6,
          7,
          8,
          9,
          10,
          11,
          12,
          13,
          14,
          15,
          16,
          17,
          18,
          19,
          20,
          21,
          22,
          23
         ],
         "xaxis": "x11",
         "y": [
          0.0613,
          0.0613,
          0.0613,
          0.0613,
          0.0613,
          0.0613,
          0.0613,
          0.0613,
          0.0613,
          0.0613,
          0.0613,
          0.0613,
          0.0613,
          0.0613,
          0.0613,
          0.0613,
          0.0613,
          0.0613,
          0.0613,
          0.0613,
          0.0613,
          0.0613,
          0.0613,
          0.0613
         ],
         "yaxis": "y11"
        },
        {
         "hovertemplate": "stat=50%<br>month=3<br>hour=%{x}<br>value=%{y}<extra></extra>",
         "legendgroup": "50%",
         "line": {
          "color": "black",
          "dash": "solid"
         },
         "mode": "lines",
         "name": "50%",
         "showlegend": false,
         "type": "scattergl",
         "x": [
          0,
          1,
          2,
          3,
          4,
          5,
          6,
          7,
          8,
          9,
          10,
          11,
          12,
          13,
          14,
          15,
          16,
          17,
          18,
          19,
          20,
          21,
          22,
          23
         ],
         "xaxis": "x12",
         "y": [
          0.0613,
          0.0613,
          0.0613,
          0.0613,
          0.0613,
          0.0613,
          0.0613,
          0.0613,
          0.0613,
          0.0613,
          0.0613,
          0.0613,
          0.0613,
          0.0613,
          0.0613,
          0.0613,
          0.0613,
          0.0613,
          0.0613,
          0.0613,
          0.0613,
          0.0613,
          0.0613,
          0.0613
         ],
         "yaxis": "y12"
        },
        {
         "hovertemplate": "stat=50%<br>month=4<br>hour=%{x}<br>value=%{y}<extra></extra>",
         "legendgroup": "50%",
         "line": {
          "color": "black",
          "dash": "solid"
         },
         "mode": "lines",
         "name": "50%",
         "showlegend": false,
         "type": "scattergl",
         "x": [
          0,
          1,
          2,
          3,
          4,
          5,
          6,
          7,
          8,
          9,
          10,
          11,
          12,
          13,
          14,
          15,
          16,
          17,
          18,
          19,
          20,
          21,
          22,
          23
         ],
         "xaxis": "x7",
         "y": [
          0.0613,
          0.0613,
          0.0613,
          0.0613,
          0.0613,
          0.0613,
          0.0613,
          0.0613,
          0.0613,
          0.0613,
          0.0613,
          0.0613,
          0.0613,
          0.0613,
          0.0613,
          0.0613,
          0.0613,
          0.0613,
          0.0613,
          0.0613,
          0.0613,
          0.0613,
          0.0613,
          0.0613
         ],
         "yaxis": "y7"
        },
        {
         "hovertemplate": "stat=50%<br>month=5<br>hour=%{x}<br>value=%{y}<extra></extra>",
         "legendgroup": "50%",
         "line": {
          "color": "black",
          "dash": "solid"
         },
         "mode": "lines",
         "name": "50%",
         "showlegend": false,
         "type": "scattergl",
         "x": [
          0,
          1,
          2,
          3,
          4,
          5,
          6,
          7,
          8,
          9,
          10,
          11,
          12,
          13,
          14,
          15,
          16,
          17,
          18,
          19,
          20,
          21,
          22,
          23
         ],
         "xaxis": "x8",
         "y": [
          0.0613,
          0.0613,
          0.0613,
          0.0613,
          0.0613,
          0.0613,
          0.0613,
          0.0613,
          0.0613,
          0.0613,
          0.0613,
          0.0613,
          0.0613,
          0.0613,
          0.0613,
          0.0613,
          0.0613,
          0.0613,
          0.0613,
          0.0613,
          0.0613,
          0.0613,
          0.0613,
          0.0613
         ],
         "yaxis": "y8"
        },
        {
         "hovertemplate": "stat=50%<br>month=6<br>hour=%{x}<br>value=%{y}<extra></extra>",
         "legendgroup": "50%",
         "line": {
          "color": "black",
          "dash": "solid"
         },
         "mode": "lines",
         "name": "50%",
         "showlegend": false,
         "type": "scattergl",
         "x": [
          0,
          1,
          2,
          3,
          4,
          5,
          6,
          7,
          8,
          9,
          10,
          11,
          12,
          13,
          14,
          15,
          16,
          17,
          18,
          19,
          20,
          21,
          22,
          23
         ],
         "xaxis": "x9",
         "y": [
          0.05609,
          0.05609,
          0.05609,
          0.05609,
          0.05609,
          0.05609,
          0.05609,
          0.05609,
          0.05609,
          0.05609,
          0.05609,
          0.05609,
          0.05609,
          0.05609,
          0.05609,
          0.05609,
          0.05609,
          0.05609,
          0.05609,
          0.05609,
          0.05609,
          0.05609,
          0.05609,
          0.05609
         ],
         "yaxis": "y9"
        },
        {
         "hovertemplate": "stat=50%<br>month=7<br>hour=%{x}<br>value=%{y}<extra></extra>",
         "legendgroup": "50%",
         "line": {
          "color": "black",
          "dash": "solid"
         },
         "mode": "lines",
         "name": "50%",
         "showlegend": false,
         "type": "scattergl",
         "x": [
          0,
          1,
          2,
          3,
          4,
          5,
          6,
          7,
          8,
          9,
          10,
          11,
          12,
          13,
          14,
          15,
          16,
          17,
          18,
          19,
          20,
          21,
          22,
          23
         ],
         "xaxis": "x4",
         "y": [
          0.05609,
          0.05609,
          0.05609,
          0.05609,
          0.05609,
          0.05609,
          0.05609,
          0.05609,
          0.05609,
          0.05609,
          0.05609,
          0.05609,
          0.05609,
          0.05609,
          0.05609,
          0.05609,
          0.05609,
          0.05609,
          0.05609,
          0.05609,
          0.05609,
          0.05609,
          0.05609,
          0.05609
         ],
         "yaxis": "y4"
        },
        {
         "hovertemplate": "stat=50%<br>month=8<br>hour=%{x}<br>value=%{y}<extra></extra>",
         "legendgroup": "50%",
         "line": {
          "color": "black",
          "dash": "solid"
         },
         "mode": "lines",
         "name": "50%",
         "showlegend": false,
         "type": "scattergl",
         "x": [
          0,
          1,
          2,
          3,
          4,
          5,
          6,
          7,
          8,
          9,
          10,
          11,
          12,
          13,
          14,
          15,
          16,
          17,
          18,
          19,
          20,
          21,
          22,
          23
         ],
         "xaxis": "x5",
         "y": [
          0.05609,
          0.05609,
          0.05609,
          0.05609,
          0.05609,
          0.05609,
          0.05609,
          0.05609,
          0.05609,
          0.05609,
          0.05609,
          0.05609,
          0.05609,
          0.05609,
          0.05609,
          0.05609,
          0.05609,
          0.05609,
          0.05609,
          0.05609,
          0.05609,
          0.05609,
          0.05609,
          0.05609
         ],
         "yaxis": "y5"
        },
        {
         "hovertemplate": "stat=50%<br>month=9<br>hour=%{x}<br>value=%{y}<extra></extra>",
         "legendgroup": "50%",
         "line": {
          "color": "black",
          "dash": "solid"
         },
         "mode": "lines",
         "name": "50%",
         "showlegend": false,
         "type": "scattergl",
         "x": [
          0,
          1,
          2,
          3,
          4,
          5,
          6,
          7,
          8,
          9,
          10,
          11,
          12,
          13,
          14,
          15,
          16,
          17,
          18,
          19,
          20,
          21,
          22,
          23
         ],
         "xaxis": "x6",
         "y": [
          0.05609,
          0.05609,
          0.05609,
          0.05609,
          0.05609,
          0.05609,
          0.05609,
          0.05609,
          0.05609,
          0.05609,
          0.05609,
          0.05609,
          0.05609,
          0.05609,
          0.05609,
          0.05609,
          0.05609,
          0.05609,
          0.05609,
          0.05609,
          0.05609,
          0.05609,
          0.05609,
          0.05609
         ],
         "yaxis": "y6"
        },
        {
         "hovertemplate": "stat=50%<br>month=10<br>hour=%{x}<br>value=%{y}<extra></extra>",
         "legendgroup": "50%",
         "line": {
          "color": "black",
          "dash": "solid"
         },
         "mode": "lines",
         "name": "50%",
         "showlegend": false,
         "type": "scattergl",
         "x": [
          0,
          1,
          2,
          3,
          4,
          5,
          6,
          7,
          8,
          9,
          10,
          11,
          12,
          13,
          14,
          15,
          16,
          17,
          18,
          19,
          20,
          21,
          22,
          23
         ],
         "xaxis": "x",
         "y": [
          0.0613,
          0.0613,
          0.0613,
          0.0613,
          0.0613,
          0.0613,
          0.0613,
          0.0613,
          0.0613,
          0.0613,
          0.0613,
          0.0613,
          0.0613,
          0.0613,
          0.0613,
          0.0613,
          0.0613,
          0.0613,
          0.0613,
          0.0613,
          0.0613,
          0.0613,
          0.0613,
          0.0613
         ],
         "yaxis": "y"
        },
        {
         "hovertemplate": "stat=50%<br>month=11<br>hour=%{x}<br>value=%{y}<extra></extra>",
         "legendgroup": "50%",
         "line": {
          "color": "black",
          "dash": "solid"
         },
         "mode": "lines",
         "name": "50%",
         "showlegend": false,
         "type": "scattergl",
         "x": [
          0,
          1,
          2,
          3,
          4,
          5,
          6,
          7,
          8,
          9,
          10,
          11,
          12,
          13,
          14,
          15,
          16,
          17,
          18,
          19,
          20,
          21,
          22,
          23
         ],
         "xaxis": "x2",
         "y": [
          0.0613,
          0.0613,
          0.0613,
          0.0613,
          0.0613,
          0.0613,
          0.0613,
          0.0613,
          0.0613,
          0.0613,
          0.0613,
          0.0613,
          0.0613,
          0.0613,
          0.0613,
          0.0613,
          0.0613,
          0.0613,
          0.0613,
          0.0613,
          0.0613,
          0.0613,
          0.0613,
          0.0613
         ],
         "yaxis": "y2"
        },
        {
         "hovertemplate": "stat=50%<br>month=12<br>hour=%{x}<br>value=%{y}<extra></extra>",
         "legendgroup": "50%",
         "line": {
          "color": "black",
          "dash": "solid"
         },
         "mode": "lines",
         "name": "50%",
         "showlegend": false,
         "type": "scattergl",
         "x": [
          0,
          1,
          2,
          3,
          4,
          5,
          6,
          7,
          8,
          9,
          10,
          11,
          12,
          13,
          14,
          15,
          16,
          17,
          18,
          19,
          20,
          21,
          22,
          23
         ],
         "xaxis": "x3",
         "y": [
          0.0613,
          0.0613,
          0.0613,
          0.0613,
          0.0613,
          0.0613,
          0.0613,
          0.0613,
          0.0613,
          0.0613,
          0.0613,
          0.0613,
          0.0613,
          0.0613,
          0.0613,
          0.0613,
          0.0613,
          0.0613,
          0.0613,
          0.0613,
          0.0613,
          0.0613,
          0.0613,
          0.0613
         ],
         "yaxis": "y3"
        },
        {
         "hovertemplate": "stat=75%<br>month=1<br>hour=%{x}<br>value=%{y}<extra></extra>",
         "legendgroup": "75%",
         "line": {
          "color": "royalblue",
          "dash": "solid"
         },
         "mode": "lines",
         "name": "75%",
         "showlegend": true,
         "type": "scattergl",
         "x": [
          0,
          1,
          2,
          3,
          4,
          5,
          6,
          7,
          8,
          9,
          10,
          11,
          12,
          13,
          14,
          15,
          16,
          17,
          18,
          19,
          20,
          21,
          22,
          23
         ],
         "xaxis": "x10",
         "y": [
          0.06674,
          0.06674,
          0.06674,
          0.06674,
          0.06674,
          0.06674,
          0.06674,
          0.06674,
          0.06674,
          0.06674,
          0.06674,
          0.06674,
          0.06674,
          0.06674,
          0.06674,
          0.06674,
          0.06674,
          0.06674,
          0.06674,
          0.06674,
          0.06674,
          0.06674,
          0.06674,
          0.06674
         ],
         "yaxis": "y10"
        },
        {
         "hovertemplate": "stat=75%<br>month=2<br>hour=%{x}<br>value=%{y}<extra></extra>",
         "legendgroup": "75%",
         "line": {
          "color": "royalblue",
          "dash": "solid"
         },
         "mode": "lines",
         "name": "75%",
         "showlegend": false,
         "type": "scattergl",
         "x": [
          0,
          1,
          2,
          3,
          4,
          5,
          6,
          7,
          8,
          9,
          10,
          11,
          12,
          13,
          14,
          15,
          16,
          17,
          18,
          19,
          20,
          21,
          22,
          23
         ],
         "xaxis": "x11",
         "y": [
          0.06674,
          0.06674,
          0.06674,
          0.06674,
          0.06674,
          0.06674,
          0.06674,
          0.06674,
          0.06674,
          0.06674,
          0.06674,
          0.06674,
          0.06674,
          0.06674,
          0.06674,
          0.06674,
          0.06674,
          0.06674,
          0.06674,
          0.06674,
          0.06674,
          0.06674,
          0.06674,
          0.06674
         ],
         "yaxis": "y11"
        },
        {
         "hovertemplate": "stat=75%<br>month=3<br>hour=%{x}<br>value=%{y}<extra></extra>",
         "legendgroup": "75%",
         "line": {
          "color": "royalblue",
          "dash": "solid"
         },
         "mode": "lines",
         "name": "75%",
         "showlegend": false,
         "type": "scattergl",
         "x": [
          0,
          1,
          2,
          3,
          4,
          5,
          6,
          7,
          8,
          9,
          10,
          11,
          12,
          13,
          14,
          15,
          16,
          17,
          18,
          19,
          20,
          21,
          22,
          23
         ],
         "xaxis": "x12",
         "y": [
          0.06674,
          0.06674,
          0.06674,
          0.06674,
          0.06674,
          0.06674,
          0.06674,
          0.06674,
          0.06674,
          0.06674,
          0.06674,
          0.06674,
          0.06674,
          0.06674,
          0.06674,
          0.06674,
          0.06674,
          0.06674,
          0.06674,
          0.06674,
          0.06674,
          0.06674,
          0.06674,
          0.06674
         ],
         "yaxis": "y12"
        },
        {
         "hovertemplate": "stat=75%<br>month=4<br>hour=%{x}<br>value=%{y}<extra></extra>",
         "legendgroup": "75%",
         "line": {
          "color": "royalblue",
          "dash": "solid"
         },
         "mode": "lines",
         "name": "75%",
         "showlegend": false,
         "type": "scattergl",
         "x": [
          0,
          1,
          2,
          3,
          4,
          5,
          6,
          7,
          8,
          9,
          10,
          11,
          12,
          13,
          14,
          15,
          16,
          17,
          18,
          19,
          20,
          21,
          22,
          23
         ],
         "xaxis": "x7",
         "y": [
          0.06674,
          0.06674,
          0.06674,
          0.06674,
          0.06674,
          0.06674,
          0.06674,
          0.06674,
          0.06674,
          0.06674,
          0.06674,
          0.06674,
          0.06674,
          0.06674,
          0.06674,
          0.06674,
          0.06674,
          0.06674,
          0.06674,
          0.06674,
          0.06674,
          0.06674,
          0.06674,
          0.06674
         ],
         "yaxis": "y7"
        },
        {
         "hovertemplate": "stat=75%<br>month=5<br>hour=%{x}<br>value=%{y}<extra></extra>",
         "legendgroup": "75%",
         "line": {
          "color": "royalblue",
          "dash": "solid"
         },
         "mode": "lines",
         "name": "75%",
         "showlegend": false,
         "type": "scattergl",
         "x": [
          0,
          1,
          2,
          3,
          4,
          5,
          6,
          7,
          8,
          9,
          10,
          11,
          12,
          13,
          14,
          15,
          16,
          17,
          18,
          19,
          20,
          21,
          22,
          23
         ],
         "xaxis": "x8",
         "y": [
          0.06674,
          0.06674,
          0.06674,
          0.06674,
          0.06674,
          0.06674,
          0.06674,
          0.06674,
          0.06674,
          0.06674,
          0.06674,
          0.06674,
          0.06674,
          0.06674,
          0.06674,
          0.06674,
          0.06674,
          0.06674,
          0.06674,
          0.06674,
          0.06674,
          0.06674,
          0.06674,
          0.06674
         ],
         "yaxis": "y8"
        },
        {
         "hovertemplate": "stat=75%<br>month=6<br>hour=%{x}<br>value=%{y}<extra></extra>",
         "legendgroup": "75%",
         "line": {
          "color": "royalblue",
          "dash": "solid"
         },
         "mode": "lines",
         "name": "75%",
         "showlegend": false,
         "type": "scattergl",
         "x": [
          0,
          1,
          2,
          3,
          4,
          5,
          6,
          7,
          8,
          9,
          10,
          11,
          12,
          13,
          14,
          15,
          16,
          17,
          18,
          19,
          20,
          21,
          22,
          23
         ],
         "xaxis": "x9",
         "y": [
          0.06106,
          0.06106,
          0.06106,
          0.06106,
          0.06106,
          0.06106,
          0.06106,
          0.06106,
          0.06106,
          0.06106,
          0.06106,
          0.06106,
          0.06106,
          0.06106,
          0.06106,
          0.06106,
          0.06106,
          0.06106,
          0.06106,
          0.06106,
          0.06106,
          0.06106,
          0.06106,
          0.06106
         ],
         "yaxis": "y9"
        },
        {
         "hovertemplate": "stat=75%<br>month=7<br>hour=%{x}<br>value=%{y}<extra></extra>",
         "legendgroup": "75%",
         "line": {
          "color": "royalblue",
          "dash": "solid"
         },
         "mode": "lines",
         "name": "75%",
         "showlegend": false,
         "type": "scattergl",
         "x": [
          0,
          1,
          2,
          3,
          4,
          5,
          6,
          7,
          8,
          9,
          10,
          11,
          12,
          13,
          14,
          15,
          16,
          17,
          18,
          19,
          20,
          21,
          22,
          23
         ],
         "xaxis": "x4",
         "y": [
          0.06106,
          0.06106,
          0.06106,
          0.06106,
          0.06106,
          0.06106,
          0.06106,
          0.06106,
          0.06106,
          0.06106,
          0.06106,
          0.06106,
          0.06106,
          0.06106,
          0.06106,
          0.06106,
          0.06106,
          0.06106,
          0.06106,
          0.06106,
          0.06106,
          0.06106,
          0.06106,
          0.06106
         ],
         "yaxis": "y4"
        },
        {
         "hovertemplate": "stat=75%<br>month=8<br>hour=%{x}<br>value=%{y}<extra></extra>",
         "legendgroup": "75%",
         "line": {
          "color": "royalblue",
          "dash": "solid"
         },
         "mode": "lines",
         "name": "75%",
         "showlegend": false,
         "type": "scattergl",
         "x": [
          0,
          1,
          2,
          3,
          4,
          5,
          6,
          7,
          8,
          9,
          10,
          11,
          12,
          13,
          14,
          15,
          16,
          17,
          18,
          19,
          20,
          21,
          22,
          23
         ],
         "xaxis": "x5",
         "y": [
          0.06106,
          0.06106,
          0.06106,
          0.06106,
          0.06106,
          0.06106,
          0.06106,
          0.06106,
          0.06106,
          0.06106,
          0.06106,
          0.06106,
          0.06106,
          0.06106,
          0.06106,
          0.06106,
          0.06106,
          0.06106,
          0.06106,
          0.06106,
          0.06106,
          0.06106,
          0.06106,
          0.06106
         ],
         "yaxis": "y5"
        },
        {
         "hovertemplate": "stat=75%<br>month=9<br>hour=%{x}<br>value=%{y}<extra></extra>",
         "legendgroup": "75%",
         "line": {
          "color": "royalblue",
          "dash": "solid"
         },
         "mode": "lines",
         "name": "75%",
         "showlegend": false,
         "type": "scattergl",
         "x": [
          0,
          1,
          2,
          3,
          4,
          5,
          6,
          7,
          8,
          9,
          10,
          11,
          12,
          13,
          14,
          15,
          16,
          17,
          18,
          19,
          20,
          21,
          22,
          23
         ],
         "xaxis": "x6",
         "y": [
          0.06106,
          0.06106,
          0.06106,
          0.06106,
          0.06106,
          0.06106,
          0.06106,
          0.06106,
          0.06106,
          0.06106,
          0.06106,
          0.06106,
          0.06106,
          0.06106,
          0.06106,
          0.06106,
          0.06106,
          0.06106,
          0.06106,
          0.06106,
          0.06106,
          0.06106,
          0.06106,
          0.06106
         ],
         "yaxis": "y6"
        },
        {
         "hovertemplate": "stat=75%<br>month=10<br>hour=%{x}<br>value=%{y}<extra></extra>",
         "legendgroup": "75%",
         "line": {
          "color": "royalblue",
          "dash": "solid"
         },
         "mode": "lines",
         "name": "75%",
         "showlegend": false,
         "type": "scattergl",
         "x": [
          0,
          1,
          2,
          3,
          4,
          5,
          6,
          7,
          8,
          9,
          10,
          11,
          12,
          13,
          14,
          15,
          16,
          17,
          18,
          19,
          20,
          21,
          22,
          23
         ],
         "xaxis": "x",
         "y": [
          0.06674,
          0.06674,
          0.06674,
          0.06674,
          0.06674,
          0.06674,
          0.06674,
          0.06674,
          0.06674,
          0.06674,
          0.06674,
          0.06674,
          0.06674,
          0.06674,
          0.06674,
          0.06674,
          0.06674,
          0.06674,
          0.06674,
          0.06674,
          0.06674,
          0.06674,
          0.06674,
          0.06674
         ],
         "yaxis": "y"
        },
        {
         "hovertemplate": "stat=75%<br>month=11<br>hour=%{x}<br>value=%{y}<extra></extra>",
         "legendgroup": "75%",
         "line": {
          "color": "royalblue",
          "dash": "solid"
         },
         "mode": "lines",
         "name": "75%",
         "showlegend": false,
         "type": "scattergl",
         "x": [
          0,
          1,
          2,
          3,
          4,
          5,
          6,
          7,
          8,
          9,
          10,
          11,
          12,
          13,
          14,
          15,
          16,
          17,
          18,
          19,
          20,
          21,
          22,
          23
         ],
         "xaxis": "x2",
         "y": [
          0.06674,
          0.06674,
          0.06674,
          0.06674,
          0.06674,
          0.06674,
          0.06674,
          0.06674,
          0.06674,
          0.06674,
          0.06674,
          0.06674,
          0.06674,
          0.06674,
          0.06674,
          0.06674,
          0.06674,
          0.06674,
          0.06674,
          0.06674,
          0.06674,
          0.06674,
          0.06674,
          0.06674
         ],
         "yaxis": "y2"
        },
        {
         "hovertemplate": "stat=75%<br>month=12<br>hour=%{x}<br>value=%{y}<extra></extra>",
         "legendgroup": "75%",
         "line": {
          "color": "royalblue",
          "dash": "solid"
         },
         "mode": "lines",
         "name": "75%",
         "showlegend": false,
         "type": "scattergl",
         "x": [
          0,
          1,
          2,
          3,
          4,
          5,
          6,
          7,
          8,
          9,
          10,
          11,
          12,
          13,
          14,
          15,
          16,
          17,
          18,
          19,
          20,
          21,
          22,
          23
         ],
         "xaxis": "x3",
         "y": [
          0.06674,
          0.06674,
          0.06674,
          0.06674,
          0.06674,
          0.06674,
          0.06674,
          0.06674,
          0.06674,
          0.06674,
          0.06674,
          0.06674,
          0.06674,
          0.06674,
          0.06674,
          0.06674,
          0.06674,
          0.06674,
          0.06674,
          0.06674,
          0.06674,
          0.06674,
          0.06674,
          0.06674
         ],
         "yaxis": "y3"
        },
        {
         "hovertemplate": "stat=max<br>month=1<br>hour=%{x}<br>value=%{y}<extra></extra>",
         "legendgroup": "max",
         "line": {
          "color": "lightskyblue",
          "dash": "solid"
         },
         "mode": "lines",
         "name": "max",
         "showlegend": true,
         "type": "scattergl",
         "x": [
          0,
          1,
          2,
          3,
          4,
          5,
          6,
          7,
          8,
          9,
          10,
          11,
          12,
          13,
          14,
          15,
          16,
          17,
          18,
          19,
          20,
          21,
          22,
          23
         ],
         "xaxis": "x10",
         "y": [
          0.0714,
          0.0714,
          0.0714,
          0.0714,
          0.0714,
          0.0714,
          0.0714,
          0.0714,
          0.0714,
          0.0714,
          0.0714,
          0.0714,
          0.0714,
          0.0714,
          0.0714,
          0.0714,
          0.0714,
          0.0714,
          0.0714,
          0.0714,
          0.0714,
          0.0714,
          0.0714,
          0.0714
         ],
         "yaxis": "y10"
        },
        {
         "hovertemplate": "stat=max<br>month=2<br>hour=%{x}<br>value=%{y}<extra></extra>",
         "legendgroup": "max",
         "line": {
          "color": "lightskyblue",
          "dash": "solid"
         },
         "mode": "lines",
         "name": "max",
         "showlegend": false,
         "type": "scattergl",
         "x": [
          0,
          1,
          2,
          3,
          4,
          5,
          6,
          7,
          8,
          9,
          10,
          11,
          12,
          13,
          14,
          15,
          16,
          17,
          18,
          19,
          20,
          21,
          22,
          23
         ],
         "xaxis": "x11",
         "y": [
          0.0714,
          0.0714,
          0.0714,
          0.0714,
          0.0714,
          0.0714,
          0.0714,
          0.0714,
          0.0714,
          0.0714,
          0.0714,
          0.0714,
          0.0714,
          0.0714,
          0.0714,
          0.0714,
          0.0714,
          0.0714,
          0.0714,
          0.0714,
          0.0714,
          0.0714,
          0.0714,
          0.0714
         ],
         "yaxis": "y11"
        },
        {
         "hovertemplate": "stat=max<br>month=3<br>hour=%{x}<br>value=%{y}<extra></extra>",
         "legendgroup": "max",
         "line": {
          "color": "lightskyblue",
          "dash": "solid"
         },
         "mode": "lines",
         "name": "max",
         "showlegend": false,
         "type": "scattergl",
         "x": [
          0,
          1,
          2,
          3,
          4,
          5,
          6,
          7,
          8,
          9,
          10,
          11,
          12,
          13,
          14,
          15,
          16,
          17,
          18,
          19,
          20,
          21,
          22,
          23
         ],
         "xaxis": "x12",
         "y": [
          0.0714,
          0.0714,
          0.0714,
          0.0714,
          0.0714,
          0.0714,
          0.0714,
          0.0714,
          0.0714,
          0.0714,
          0.0714,
          0.0714,
          0.0714,
          0.0714,
          0.0714,
          0.0714,
          0.0714,
          0.0714,
          0.0714,
          0.0714,
          0.0714,
          0.0714,
          0.0714,
          0.0714
         ],
         "yaxis": "y12"
        },
        {
         "hovertemplate": "stat=max<br>month=4<br>hour=%{x}<br>value=%{y}<extra></extra>",
         "legendgroup": "max",
         "line": {
          "color": "lightskyblue",
          "dash": "solid"
         },
         "mode": "lines",
         "name": "max",
         "showlegend": false,
         "type": "scattergl",
         "x": [
          0,
          1,
          2,
          3,
          4,
          5,
          6,
          7,
          8,
          9,
          10,
          11,
          12,
          13,
          14,
          15,
          16,
          17,
          18,
          19,
          20,
          21,
          22,
          23
         ],
         "xaxis": "x7",
         "y": [
          0.0714,
          0.0714,
          0.0714,
          0.0714,
          0.0714,
          0.0714,
          0.0714,
          0.0714,
          0.0714,
          0.0714,
          0.0714,
          0.0714,
          0.0714,
          0.0714,
          0.0714,
          0.0714,
          0.0714,
          0.0714,
          0.0714,
          0.0714,
          0.0714,
          0.0714,
          0.0714,
          0.0714
         ],
         "yaxis": "y7"
        },
        {
         "hovertemplate": "stat=max<br>month=5<br>hour=%{x}<br>value=%{y}<extra></extra>",
         "legendgroup": "max",
         "line": {
          "color": "lightskyblue",
          "dash": "solid"
         },
         "mode": "lines",
         "name": "max",
         "showlegend": false,
         "type": "scattergl",
         "x": [
          0,
          1,
          2,
          3,
          4,
          5,
          6,
          7,
          8,
          9,
          10,
          11,
          12,
          13,
          14,
          15,
          16,
          17,
          18,
          19,
          20,
          21,
          22,
          23
         ],
         "xaxis": "x8",
         "y": [
          0.0714,
          0.0714,
          0.0714,
          0.0714,
          0.0714,
          0.0714,
          0.0714,
          0.0714,
          0.0714,
          0.0714,
          0.0714,
          0.0714,
          0.0714,
          0.0714,
          0.0714,
          0.0714,
          0.0714,
          0.0714,
          0.0714,
          0.0714,
          0.0714,
          0.0714,
          0.0714,
          0.0714
         ],
         "yaxis": "y8"
        },
        {
         "hovertemplate": "stat=max<br>month=6<br>hour=%{x}<br>value=%{y}<extra></extra>",
         "legendgroup": "max",
         "line": {
          "color": "lightskyblue",
          "dash": "solid"
         },
         "mode": "lines",
         "name": "max",
         "showlegend": false,
         "type": "scattergl",
         "x": [
          0,
          1,
          2,
          3,
          4,
          5,
          6,
          7,
          8,
          9,
          10,
          11,
          12,
          13,
          14,
          15,
          16,
          17,
          18,
          19,
          20,
          21,
          22,
          23
         ],
         "xaxis": "x9",
         "y": [
          0.0646,
          0.0646,
          0.0646,
          0.0646,
          0.0646,
          0.0646,
          0.0646,
          0.0646,
          0.0646,
          0.0646,
          0.0646,
          0.0646,
          0.0646,
          0.0646,
          0.0646,
          0.0646,
          0.0646,
          0.0646,
          0.0646,
          0.0646,
          0.0646,
          0.0646,
          0.0646,
          0.0646
         ],
         "yaxis": "y9"
        },
        {
         "hovertemplate": "stat=max<br>month=7<br>hour=%{x}<br>value=%{y}<extra></extra>",
         "legendgroup": "max",
         "line": {
          "color": "lightskyblue",
          "dash": "solid"
         },
         "mode": "lines",
         "name": "max",
         "showlegend": false,
         "type": "scattergl",
         "x": [
          0,
          1,
          2,
          3,
          4,
          5,
          6,
          7,
          8,
          9,
          10,
          11,
          12,
          13,
          14,
          15,
          16,
          17,
          18,
          19,
          20,
          21,
          22,
          23
         ],
         "xaxis": "x4",
         "y": [
          0.0646,
          0.0646,
          0.0646,
          0.0646,
          0.0646,
          0.0646,
          0.0646,
          0.0646,
          0.0646,
          0.0646,
          0.0646,
          0.0646,
          0.0646,
          0.0646,
          0.0646,
          0.0646,
          0.0646,
          0.0646,
          0.0646,
          0.0646,
          0.0646,
          0.0646,
          0.0646,
          0.0646
         ],
         "yaxis": "y4"
        },
        {
         "hovertemplate": "stat=max<br>month=8<br>hour=%{x}<br>value=%{y}<extra></extra>",
         "legendgroup": "max",
         "line": {
          "color": "lightskyblue",
          "dash": "solid"
         },
         "mode": "lines",
         "name": "max",
         "showlegend": false,
         "type": "scattergl",
         "x": [
          0,
          1,
          2,
          3,
          4,
          5,
          6,
          7,
          8,
          9,
          10,
          11,
          12,
          13,
          14,
          15,
          16,
          17,
          18,
          19,
          20,
          21,
          22,
          23
         ],
         "xaxis": "x5",
         "y": [
          0.0646,
          0.0646,
          0.0646,
          0.0646,
          0.0646,
          0.0646,
          0.0646,
          0.0646,
          0.0646,
          0.0646,
          0.0646,
          0.0646,
          0.0646,
          0.0646,
          0.0646,
          0.0646,
          0.0646,
          0.0646,
          0.0646,
          0.0646,
          0.0646,
          0.0646,
          0.0646,
          0.0646
         ],
         "yaxis": "y5"
        },
        {
         "hovertemplate": "stat=max<br>month=9<br>hour=%{x}<br>value=%{y}<extra></extra>",
         "legendgroup": "max",
         "line": {
          "color": "lightskyblue",
          "dash": "solid"
         },
         "mode": "lines",
         "name": "max",
         "showlegend": false,
         "type": "scattergl",
         "x": [
          0,
          1,
          2,
          3,
          4,
          5,
          6,
          7,
          8,
          9,
          10,
          11,
          12,
          13,
          14,
          15,
          16,
          17,
          18,
          19,
          20,
          21,
          22,
          23
         ],
         "xaxis": "x6",
         "y": [
          0.0646,
          0.0646,
          0.0646,
          0.0646,
          0.0646,
          0.0646,
          0.0646,
          0.0646,
          0.0646,
          0.0646,
          0.0646,
          0.0646,
          0.0646,
          0.0646,
          0.0646,
          0.0646,
          0.0646,
          0.0646,
          0.0646,
          0.0646,
          0.0646,
          0.0646,
          0.0646,
          0.0646
         ],
         "yaxis": "y6"
        },
        {
         "hovertemplate": "stat=max<br>month=10<br>hour=%{x}<br>value=%{y}<extra></extra>",
         "legendgroup": "max",
         "line": {
          "color": "lightskyblue",
          "dash": "solid"
         },
         "mode": "lines",
         "name": "max",
         "showlegend": false,
         "type": "scattergl",
         "x": [
          0,
          1,
          2,
          3,
          4,
          5,
          6,
          7,
          8,
          9,
          10,
          11,
          12,
          13,
          14,
          15,
          16,
          17,
          18,
          19,
          20,
          21,
          22,
          23
         ],
         "xaxis": "x",
         "y": [
          0.0714,
          0.0714,
          0.0714,
          0.0714,
          0.0714,
          0.0714,
          0.0714,
          0.0714,
          0.0714,
          0.0714,
          0.0714,
          0.0714,
          0.0714,
          0.0714,
          0.0714,
          0.0714,
          0.0714,
          0.0714,
          0.0714,
          0.0714,
          0.0714,
          0.0714,
          0.0714,
          0.0714
         ],
         "yaxis": "y"
        },
        {
         "hovertemplate": "stat=max<br>month=11<br>hour=%{x}<br>value=%{y}<extra></extra>",
         "legendgroup": "max",
         "line": {
          "color": "lightskyblue",
          "dash": "solid"
         },
         "mode": "lines",
         "name": "max",
         "showlegend": false,
         "type": "scattergl",
         "x": [
          0,
          1,
          2,
          3,
          4,
          5,
          6,
          7,
          8,
          9,
          10,
          11,
          12,
          13,
          14,
          15,
          16,
          17,
          18,
          19,
          20,
          21,
          22,
          23
         ],
         "xaxis": "x2",
         "y": [
          0.0714,
          0.0714,
          0.0714,
          0.0714,
          0.0714,
          0.0714,
          0.0714,
          0.0714,
          0.0714,
          0.0714,
          0.0714,
          0.0714,
          0.0714,
          0.0714,
          0.0714,
          0.0714,
          0.0714,
          0.0714,
          0.0714,
          0.0714,
          0.0714,
          0.0714,
          0.0714,
          0.0714
         ],
         "yaxis": "y2"
        },
        {
         "hovertemplate": "stat=max<br>month=12<br>hour=%{x}<br>value=%{y}<extra></extra>",
         "legendgroup": "max",
         "line": {
          "color": "lightskyblue",
          "dash": "solid"
         },
         "mode": "lines",
         "name": "max",
         "showlegend": false,
         "type": "scattergl",
         "x": [
          0,
          1,
          2,
          3,
          4,
          5,
          6,
          7,
          8,
          9,
          10,
          11,
          12,
          13,
          14,
          15,
          16,
          17,
          18,
          19,
          20,
          21,
          22,
          23
         ],
         "xaxis": "x3",
         "y": [
          0.0714,
          0.0714,
          0.0714,
          0.0714,
          0.0714,
          0.0714,
          0.0714,
          0.0714,
          0.0714,
          0.0714,
          0.0714,
          0.0714,
          0.0714,
          0.0714,
          0.0714,
          0.0714,
          0.0714,
          0.0714,
          0.0714,
          0.0714,
          0.0714,
          0.0714,
          0.0714,
          0.0714
         ],
         "yaxis": "y3"
        }
       ],
       "layout": {
        "annotations": [
         {
          "font": {},
          "showarrow": false,
          "text": "month=10",
          "x": 0.15999999999999998,
          "xanchor": "center",
          "xref": "paper",
          "y": 0.1975,
          "yanchor": "bottom",
          "yref": "paper"
         },
         {
          "font": {},
          "showarrow": false,
          "text": "month=11",
          "x": 0.49999999999999994,
          "xanchor": "center",
          "xref": "paper",
          "y": 0.1975,
          "yanchor": "bottom",
          "yref": "paper"
         },
         {
          "font": {},
          "showarrow": false,
          "text": "month=12",
          "x": 0.8399999999999999,
          "xanchor": "center",
          "xref": "paper",
          "y": 0.1975,
          "yanchor": "bottom",
          "yref": "paper"
         },
         {
          "font": {},
          "showarrow": false,
          "text": "month=7",
          "x": 0.15999999999999998,
          "xanchor": "center",
          "xref": "paper",
          "y": 0.465,
          "yanchor": "bottom",
          "yref": "paper"
         },
         {
          "font": {},
          "showarrow": false,
          "text": "month=8",
          "x": 0.49999999999999994,
          "xanchor": "center",
          "xref": "paper",
          "y": 0.465,
          "yanchor": "bottom",
          "yref": "paper"
         },
         {
          "font": {},
          "showarrow": false,
          "text": "month=9",
          "x": 0.8399999999999999,
          "xanchor": "center",
          "xref": "paper",
          "y": 0.465,
          "yanchor": "bottom",
          "yref": "paper"
         },
         {
          "font": {},
          "showarrow": false,
          "text": "month=4",
          "x": 0.15999999999999998,
          "xanchor": "center",
          "xref": "paper",
          "y": 0.7325,
          "yanchor": "bottom",
          "yref": "paper"
         },
         {
          "font": {},
          "showarrow": false,
          "text": "month=5",
          "x": 0.49999999999999994,
          "xanchor": "center",
          "xref": "paper",
          "y": 0.7325,
          "yanchor": "bottom",
          "yref": "paper"
         },
         {
          "font": {},
          "showarrow": false,
          "text": "month=6",
          "x": 0.8399999999999999,
          "xanchor": "center",
          "xref": "paper",
          "y": 0.7325,
          "yanchor": "bottom",
          "yref": "paper"
         },
         {
          "font": {},
          "showarrow": false,
          "text": "month=1",
          "x": 0.15999999999999998,
          "xanchor": "center",
          "xref": "paper",
          "y": 1,
          "yanchor": "bottom",
          "yref": "paper"
         },
         {
          "font": {},
          "showarrow": false,
          "text": "month=2",
          "x": 0.49999999999999994,
          "xanchor": "center",
          "xref": "paper",
          "y": 1,
          "yanchor": "bottom",
          "yref": "paper"
         },
         {
          "font": {},
          "showarrow": false,
          "text": "month=3",
          "x": 0.8399999999999999,
          "xanchor": "center",
          "xref": "paper",
          "y": 1,
          "yanchor": "bottom",
          "yref": "paper"
         }
        ],
        "height": 800,
        "legend": {
         "title": {
          "text": "stat"
         },
         "tracegroupgap": 0
        },
        "template": {
         "data": {
          "bar": [
           {
            "error_x": {
             "color": "#2a3f5f"
            },
            "error_y": {
             "color": "#2a3f5f"
            },
            "marker": {
             "line": {
              "color": "white",
              "width": 0.5
             }
            },
            "type": "bar"
           }
          ],
          "barpolar": [
           {
            "marker": {
             "line": {
              "color": "white",
              "width": 0.5
             }
            },
            "type": "barpolar"
           }
          ],
          "carpet": [
           {
            "aaxis": {
             "endlinecolor": "#2a3f5f",
             "gridcolor": "#C8D4E3",
             "linecolor": "#C8D4E3",
             "minorgridcolor": "#C8D4E3",
             "startlinecolor": "#2a3f5f"
            },
            "baxis": {
             "endlinecolor": "#2a3f5f",
             "gridcolor": "#C8D4E3",
             "linecolor": "#C8D4E3",
             "minorgridcolor": "#C8D4E3",
             "startlinecolor": "#2a3f5f"
            },
            "type": "carpet"
           }
          ],
          "choropleth": [
           {
            "colorbar": {
             "outlinewidth": 0,
             "ticks": ""
            },
            "type": "choropleth"
           }
          ],
          "contour": [
           {
            "colorbar": {
             "outlinewidth": 0,
             "ticks": ""
            },
            "colorscale": [
             [
              0,
              "#0d0887"
             ],
             [
              0.1111111111111111,
              "#46039f"
             ],
             [
              0.2222222222222222,
              "#7201a8"
             ],
             [
              0.3333333333333333,
              "#9c179e"
             ],
             [
              0.4444444444444444,
              "#bd3786"
             ],
             [
              0.5555555555555556,
              "#d8576b"
             ],
             [
              0.6666666666666666,
              "#ed7953"
             ],
             [
              0.7777777777777778,
              "#fb9f3a"
             ],
             [
              0.8888888888888888,
              "#fdca26"
             ],
             [
              1,
              "#f0f921"
             ]
            ],
            "type": "contour"
           }
          ],
          "contourcarpet": [
           {
            "colorbar": {
             "outlinewidth": 0,
             "ticks": ""
            },
            "type": "contourcarpet"
           }
          ],
          "heatmap": [
           {
            "colorbar": {
             "outlinewidth": 0,
             "ticks": ""
            },
            "colorscale": [
             [
              0,
              "#0d0887"
             ],
             [
              0.1111111111111111,
              "#46039f"
             ],
             [
              0.2222222222222222,
              "#7201a8"
             ],
             [
              0.3333333333333333,
              "#9c179e"
             ],
             [
              0.4444444444444444,
              "#bd3786"
             ],
             [
              0.5555555555555556,
              "#d8576b"
             ],
             [
              0.6666666666666666,
              "#ed7953"
             ],
             [
              0.7777777777777778,
              "#fb9f3a"
             ],
             [
              0.8888888888888888,
              "#fdca26"
             ],
             [
              1,
              "#f0f921"
             ]
            ],
            "type": "heatmap"
           }
          ],
          "heatmapgl": [
           {
            "colorbar": {
             "outlinewidth": 0,
             "ticks": ""
            },
            "colorscale": [
             [
              0,
              "#0d0887"
             ],
             [
              0.1111111111111111,
              "#46039f"
             ],
             [
              0.2222222222222222,
              "#7201a8"
             ],
             [
              0.3333333333333333,
              "#9c179e"
             ],
             [
              0.4444444444444444,
              "#bd3786"
             ],
             [
              0.5555555555555556,
              "#d8576b"
             ],
             [
              0.6666666666666666,
              "#ed7953"
             ],
             [
              0.7777777777777778,
              "#fb9f3a"
             ],
             [
              0.8888888888888888,
              "#fdca26"
             ],
             [
              1,
              "#f0f921"
             ]
            ],
            "type": "heatmapgl"
           }
          ],
          "histogram": [
           {
            "marker": {
             "colorbar": {
              "outlinewidth": 0,
              "ticks": ""
             }
            },
            "type": "histogram"
           }
          ],
          "histogram2d": [
           {
            "colorbar": {
             "outlinewidth": 0,
             "ticks": ""
            },
            "colorscale": [
             [
              0,
              "#0d0887"
             ],
             [
              0.1111111111111111,
              "#46039f"
             ],
             [
              0.2222222222222222,
              "#7201a8"
             ],
             [
              0.3333333333333333,
              "#9c179e"
             ],
             [
              0.4444444444444444,
              "#bd3786"
             ],
             [
              0.5555555555555556,
              "#d8576b"
             ],
             [
              0.6666666666666666,
              "#ed7953"
             ],
             [
              0.7777777777777778,
              "#fb9f3a"
             ],
             [
              0.8888888888888888,
              "#fdca26"
             ],
             [
              1,
              "#f0f921"
             ]
            ],
            "type": "histogram2d"
           }
          ],
          "histogram2dcontour": [
           {
            "colorbar": {
             "outlinewidth": 0,
             "ticks": ""
            },
            "colorscale": [
             [
              0,
              "#0d0887"
             ],
             [
              0.1111111111111111,
              "#46039f"
             ],
             [
              0.2222222222222222,
              "#7201a8"
             ],
             [
              0.3333333333333333,
              "#9c179e"
             ],
             [
              0.4444444444444444,
              "#bd3786"
             ],
             [
              0.5555555555555556,
              "#d8576b"
             ],
             [
              0.6666666666666666,
              "#ed7953"
             ],
             [
              0.7777777777777778,
              "#fb9f3a"
             ],
             [
              0.8888888888888888,
              "#fdca26"
             ],
             [
              1,
              "#f0f921"
             ]
            ],
            "type": "histogram2dcontour"
           }
          ],
          "mesh3d": [
           {
            "colorbar": {
             "outlinewidth": 0,
             "ticks": ""
            },
            "type": "mesh3d"
           }
          ],
          "parcoords": [
           {
            "line": {
             "colorbar": {
              "outlinewidth": 0,
              "ticks": ""
             }
            },
            "type": "parcoords"
           }
          ],
          "pie": [
           {
            "automargin": true,
            "type": "pie"
           }
          ],
          "scatter": [
           {
            "marker": {
             "colorbar": {
              "outlinewidth": 0,
              "ticks": ""
             }
            },
            "type": "scatter"
           }
          ],
          "scatter3d": [
           {
            "line": {
             "colorbar": {
              "outlinewidth": 0,
              "ticks": ""
             }
            },
            "marker": {
             "colorbar": {
              "outlinewidth": 0,
              "ticks": ""
             }
            },
            "type": "scatter3d"
           }
          ],
          "scattercarpet": [
           {
            "marker": {
             "colorbar": {
              "outlinewidth": 0,
              "ticks": ""
             }
            },
            "type": "scattercarpet"
           }
          ],
          "scattergeo": [
           {
            "marker": {
             "colorbar": {
              "outlinewidth": 0,
              "ticks": ""
             }
            },
            "type": "scattergeo"
           }
          ],
          "scattergl": [
           {
            "marker": {
             "colorbar": {
              "outlinewidth": 0,
              "ticks": ""
             }
            },
            "type": "scattergl"
           }
          ],
          "scattermapbox": [
           {
            "marker": {
             "colorbar": {
              "outlinewidth": 0,
              "ticks": ""
             }
            },
            "type": "scattermapbox"
           }
          ],
          "scatterpolar": [
           {
            "marker": {
             "colorbar": {
              "outlinewidth": 0,
              "ticks": ""
             }
            },
            "type": "scatterpolar"
           }
          ],
          "scatterpolargl": [
           {
            "marker": {
             "colorbar": {
              "outlinewidth": 0,
              "ticks": ""
             }
            },
            "type": "scatterpolargl"
           }
          ],
          "scatterternary": [
           {
            "marker": {
             "colorbar": {
              "outlinewidth": 0,
              "ticks": ""
             }
            },
            "type": "scatterternary"
           }
          ],
          "surface": [
           {
            "colorbar": {
             "outlinewidth": 0,
             "ticks": ""
            },
            "colorscale": [
             [
              0,
              "#0d0887"
             ],
             [
              0.1111111111111111,
              "#46039f"
             ],
             [
              0.2222222222222222,
              "#7201a8"
             ],
             [
              0.3333333333333333,
              "#9c179e"
             ],
             [
              0.4444444444444444,
              "#bd3786"
             ],
             [
              0.5555555555555556,
              "#d8576b"
             ],
             [
              0.6666666666666666,
              "#ed7953"
             ],
             [
              0.7777777777777778,
              "#fb9f3a"
             ],
             [
              0.8888888888888888,
              "#fdca26"
             ],
             [
              1,
              "#f0f921"
             ]
            ],
            "type": "surface"
           }
          ],
          "table": [
           {
            "cells": {
             "fill": {
              "color": "#EBF0F8"
             },
             "line": {
              "color": "white"
             }
            },
            "header": {
             "fill": {
              "color": "#C8D4E3"
             },
             "line": {
              "color": "white"
             }
            },
            "type": "table"
           }
          ]
         },
         "layout": {
          "annotationdefaults": {
           "arrowcolor": "#2a3f5f",
           "arrowhead": 0,
           "arrowwidth": 1
          },
          "coloraxis": {
           "colorbar": {
            "outlinewidth": 0,
            "ticks": ""
           }
          },
          "colorscale": {
           "diverging": [
            [
             0,
             "#8e0152"
            ],
            [
             0.1,
             "#c51b7d"
            ],
            [
             0.2,
             "#de77ae"
            ],
            [
             0.3,
             "#f1b6da"
            ],
            [
             0.4,
             "#fde0ef"
            ],
            [
             0.5,
             "#f7f7f7"
            ],
            [
             0.6,
             "#e6f5d0"
            ],
            [
             0.7,
             "#b8e186"
            ],
            [
             0.8,
             "#7fbc41"
            ],
            [
             0.9,
             "#4d9221"
            ],
            [
             1,
             "#276419"
            ]
           ],
           "sequential": [
            [
             0,
             "#0d0887"
            ],
            [
             0.1111111111111111,
             "#46039f"
            ],
            [
             0.2222222222222222,
             "#7201a8"
            ],
            [
             0.3333333333333333,
             "#9c179e"
            ],
            [
             0.4444444444444444,
             "#bd3786"
            ],
            [
             0.5555555555555556,
             "#d8576b"
            ],
            [
             0.6666666666666666,
             "#ed7953"
            ],
            [
             0.7777777777777778,
             "#fb9f3a"
            ],
            [
             0.8888888888888888,
             "#fdca26"
            ],
            [
             1,
             "#f0f921"
            ]
           ],
           "sequentialminus": [
            [
             0,
             "#0d0887"
            ],
            [
             0.1111111111111111,
             "#46039f"
            ],
            [
             0.2222222222222222,
             "#7201a8"
            ],
            [
             0.3333333333333333,
             "#9c179e"
            ],
            [
             0.4444444444444444,
             "#bd3786"
            ],
            [
             0.5555555555555556,
             "#d8576b"
            ],
            [
             0.6666666666666666,
             "#ed7953"
            ],
            [
             0.7777777777777778,
             "#fb9f3a"
            ],
            [
             0.8888888888888888,
             "#fdca26"
            ],
            [
             1,
             "#f0f921"
            ]
           ]
          },
          "colorway": [
           "#636efa",
           "#EF553B",
           "#00cc96",
           "#ab63fa",
           "#FFA15A",
           "#19d3f3",
           "#FF6692",
           "#B6E880",
           "#FF97FF",
           "#FECB52"
          ],
          "font": {
           "color": "#2a3f5f"
          },
          "geo": {
           "bgcolor": "white",
           "lakecolor": "white",
           "landcolor": "white",
           "showlakes": true,
           "showland": true,
           "subunitcolor": "#C8D4E3"
          },
          "hoverlabel": {
           "align": "left"
          },
          "hovermode": "closest",
          "mapbox": {
           "style": "light"
          },
          "paper_bgcolor": "white",
          "plot_bgcolor": "white",
          "polar": {
           "angularaxis": {
            "gridcolor": "#EBF0F8",
            "linecolor": "#EBF0F8",
            "ticks": ""
           },
           "bgcolor": "white",
           "radialaxis": {
            "gridcolor": "#EBF0F8",
            "linecolor": "#EBF0F8",
            "ticks": ""
           }
          },
          "scene": {
           "xaxis": {
            "backgroundcolor": "white",
            "gridcolor": "#DFE8F3",
            "gridwidth": 2,
            "linecolor": "#EBF0F8",
            "showbackground": true,
            "ticks": "",
            "zerolinecolor": "#EBF0F8"
           },
           "yaxis": {
            "backgroundcolor": "white",
            "gridcolor": "#DFE8F3",
            "gridwidth": 2,
            "linecolor": "#EBF0F8",
            "showbackground": true,
            "ticks": "",
            "zerolinecolor": "#EBF0F8"
           },
           "zaxis": {
            "backgroundcolor": "white",
            "gridcolor": "#DFE8F3",
            "gridwidth": 2,
            "linecolor": "#EBF0F8",
            "showbackground": true,
            "ticks": "",
            "zerolinecolor": "#EBF0F8"
           }
          },
          "shapedefaults": {
           "line": {
            "color": "#2a3f5f"
           }
          },
          "ternary": {
           "aaxis": {
            "gridcolor": "#DFE8F3",
            "linecolor": "#A2B1C6",
            "ticks": ""
           },
           "baxis": {
            "gridcolor": "#DFE8F3",
            "linecolor": "#A2B1C6",
            "ticks": ""
           },
           "bgcolor": "white",
           "caxis": {
            "gridcolor": "#DFE8F3",
            "linecolor": "#A2B1C6",
            "ticks": ""
           }
          },
          "title": {
           "x": 0.05
          },
          "xaxis": {
           "automargin": true,
           "gridcolor": "#EBF0F8",
           "linecolor": "#EBF0F8",
           "ticks": "",
           "title": {
            "standoff": 15
           },
           "zerolinecolor": "#EBF0F8",
           "zerolinewidth": 2
          },
          "yaxis": {
           "automargin": true,
           "gridcolor": "#EBF0F8",
           "linecolor": "#EBF0F8",
           "ticks": "",
           "title": {
            "standoff": 15
           },
           "zerolinecolor": "#EBF0F8",
           "zerolinewidth": 2
          }
         }
        },
        "title": {
         "text": "Distribution of Weekend Rates"
        },
        "xaxis": {
         "anchor": "y",
         "domain": [
          0,
          0.31999999999999995
         ],
         "title": {
          "text": "hour"
         }
        },
        "xaxis10": {
         "anchor": "y10",
         "domain": [
          0,
          0.31999999999999995
         ],
         "matches": "x",
         "showticklabels": false
        },
        "xaxis11": {
         "anchor": "y11",
         "domain": [
          0.33999999999999997,
          0.6599999999999999
         ],
         "matches": "x",
         "showticklabels": false
        },
        "xaxis12": {
         "anchor": "y12",
         "domain": [
          0.6799999999999999,
          0.9999999999999999
         ],
         "matches": "x",
         "showticklabels": false
        },
        "xaxis2": {
         "anchor": "y2",
         "domain": [
          0.33999999999999997,
          0.6599999999999999
         ],
         "matches": "x",
         "title": {
          "text": "hour"
         }
        },
        "xaxis3": {
         "anchor": "y3",
         "domain": [
          0.6799999999999999,
          0.9999999999999999
         ],
         "matches": "x",
         "title": {
          "text": "hour"
         }
        },
        "xaxis4": {
         "anchor": "y4",
         "domain": [
          0,
          0.31999999999999995
         ],
         "matches": "x",
         "showticklabels": false
        },
        "xaxis5": {
         "anchor": "y5",
         "domain": [
          0.33999999999999997,
          0.6599999999999999
         ],
         "matches": "x",
         "showticklabels": false
        },
        "xaxis6": {
         "anchor": "y6",
         "domain": [
          0.6799999999999999,
          0.9999999999999999
         ],
         "matches": "x",
         "showticklabels": false
        },
        "xaxis7": {
         "anchor": "y7",
         "domain": [
          0,
          0.31999999999999995
         ],
         "matches": "x",
         "showticklabels": false
        },
        "xaxis8": {
         "anchor": "y8",
         "domain": [
          0.33999999999999997,
          0.6599999999999999
         ],
         "matches": "x",
         "showticklabels": false
        },
        "xaxis9": {
         "anchor": "y9",
         "domain": [
          0.6799999999999999,
          0.9999999999999999
         ],
         "matches": "x",
         "showticklabels": false
        },
        "yaxis": {
         "anchor": "x",
         "domain": [
          0,
          0.1975
         ],
         "title": {
          "text": "value"
         }
        },
        "yaxis10": {
         "anchor": "x10",
         "domain": [
          0.8025,
          1
         ],
         "matches": "y",
         "title": {
          "text": "value"
         }
        },
        "yaxis11": {
         "anchor": "x11",
         "domain": [
          0.8025,
          1
         ],
         "matches": "y",
         "showticklabels": false
        },
        "yaxis12": {
         "anchor": "x12",
         "domain": [
          0.8025,
          1
         ],
         "matches": "y",
         "showticklabels": false
        },
        "yaxis2": {
         "anchor": "x2",
         "domain": [
          0,
          0.1975
         ],
         "matches": "y",
         "showticklabels": false
        },
        "yaxis3": {
         "anchor": "x3",
         "domain": [
          0,
          0.1975
         ],
         "matches": "y",
         "showticklabels": false
        },
        "yaxis4": {
         "anchor": "x4",
         "domain": [
          0.2675,
          0.465
         ],
         "matches": "y",
         "title": {
          "text": "value"
         }
        },
        "yaxis5": {
         "anchor": "x5",
         "domain": [
          0.2675,
          0.465
         ],
         "matches": "y",
         "showticklabels": false
        },
        "yaxis6": {
         "anchor": "x6",
         "domain": [
          0.2675,
          0.465
         ],
         "matches": "y",
         "showticklabels": false
        },
        "yaxis7": {
         "anchor": "x7",
         "domain": [
          0.535,
          0.7325
         ],
         "matches": "y",
         "title": {
          "text": "value"
         }
        },
        "yaxis8": {
         "anchor": "x8",
         "domain": [
          0.535,
          0.7325
         ],
         "matches": "y",
         "showticklabels": false
        },
        "yaxis9": {
         "anchor": "x9",
         "domain": [
          0.535,
          0.7325
         ],
         "matches": "y",
         "showticklabels": false
        }
       }
      }
     },
     "metadata": {}
    }
   ],
   "source": [
    "weekend_results_fig = px.line(results[results['day'] == 'weekend'], x='hour', y='value', color='stat', color_discrete_map=color_map, facet_col='month', facet_col_wrap=3, height=800, template='plotly_white', title='Distribution of Weekend Rates')\n",
    "weekend_results_fig.show()"
   ]
  },
  {
   "cell_type": "code",
   "execution_count": null,
   "metadata": {},
   "outputs": [],
   "source": []
  }
 ]
}